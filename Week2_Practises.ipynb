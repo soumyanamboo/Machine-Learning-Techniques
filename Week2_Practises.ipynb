{
  "nbformat": 4,
  "nbformat_minor": 0,
  "metadata": {
    "colab": {
      "provenance": [],
      "toc_visible": true,
      "authorship_tag": "ABX9TyO7eANVsAwebLKzLUZm0AZ3",
      "include_colab_link": true
    },
    "kernelspec": {
      "name": "python3",
      "display_name": "Python 3"
    },
    "language_info": {
      "name": "python"
    }
  },
  "cells": [
    {
      "cell_type": "markdown",
      "metadata": {
        "id": "view-in-github",
        "colab_type": "text"
      },
      "source": [
        "<a href=\"https://colab.research.google.com/github/soumyanamboo/Machine-Learning-Techniques/blob/main/Week2_Practises.ipynb\" target=\"_parent\"><img src=\"https://colab.research.google.com/assets/colab-badge.svg\" alt=\"Open In Colab\"/></a>"
      ]
    },
    {
      "cell_type": "markdown",
      "source": [
        "Objectives:\n",
        "*   To Demonstrate training data and model components of linear regression model.\n",
        "*   Demonstrate how simple is it to implement ML components and algorithams"
      ],
      "metadata": {
        "id": "xrnuDmleoQwv"
      }
    },
    {
      "cell_type": "markdown",
      "source": [
        "# Import Libraries"
      ],
      "metadata": {
        "id": "VcDIaDb_b0EX"
      }
    },
    {
      "cell_type": "code",
      "execution_count": null,
      "metadata": {
        "id": "RZEI8de8nWWo"
      },
      "outputs": [],
      "source": [
        "from IPython.display import display, Math, Latex\n",
        "\n",
        "import numpy as np\n",
        "\n",
        "import matplotlib.pyplot as plt\n",
        "\n",
        "import seaborn as sns"
      ]
    },
    {
      "cell_type": "markdown",
      "source": [
        "*   Training Data - features and label that are real number\n",
        "*   Model : **y** = **Xw**"
      ],
      "metadata": {
        "id": "OhiLf1nUoPR1"
      }
    },
    {
      "cell_type": "markdown",
      "source": [
        "# 1.   **Training Data**"
      ],
      "metadata": {
        "id": "E8nUpjc1p01-"
      }
    },
    {
      "cell_type": "code",
      "source": [
        "# Create a dataset of 100 examples and a signle feature and a label. \n",
        "# We use the following parameters\n",
        "def generate_data(n):\n",
        "  w1 = 3\n",
        "  w0 = 4\n",
        "  #n = 100\n",
        "\n",
        "  X = 10 * np.random.rand(n,)\n",
        "\n",
        "  y = w0 + w1 * X + np.random.randn(n,)  # to add some random noice to the label value\n",
        "  return(X, y)\n",
        "\n",
        "X, y = generate_data(100)\n",
        "#print('Training Data: ', X)\n",
        "#print('Label: ', y)"
      ],
      "metadata": {
        "id": "E_ili4i0poPZ"
      },
      "execution_count": null,
      "outputs": []
    },
    {
      "cell_type": "code",
      "source": [
        "#Chacking the shape training data\n",
        "print('Shape of feature matrix : ', X.shape)\n",
        "print('Shape of label vector : ',y.shape)"
      ],
      "metadata": {
        "colab": {
          "base_uri": "https://localhost:8080/"
        },
        "id": "tAdQVzXkrO7G",
        "outputId": "10f956a7-6d1f-49f6-a590-2dbb204afaaf"
      },
      "execution_count": null,
      "outputs": [
        {
          "output_type": "stream",
          "name": "stdout",
          "text": [
            "Shape of feature matrix :  (100,)\n",
            "Shape of label vector :  (100,)\n"
          ]
        }
      ]
    },
    {
      "cell_type": "code",
      "source": [
        "from sklearn.model_selection import train_test_split\n",
        "\n",
        "def preprocess(X,y):\n",
        "  X_train, X_test, y_train, y_test = train_test_split(X,y,test_size = 0.20, random_state=42)\n",
        "  X_train_with_dummy = add_dummy_feature(X_train)\n",
        "  y_train_with_dummy = add_dummy_feature(y_train)\n",
        "\n",
        "  X_test_with_dummy = add_dummy_feature(X_test)\n",
        "  y_test_with_dummy = add_dummy_feature(y_test)\n",
        "\n",
        "  return X_train_with_dummy, y_train, X_test_with_dummy, y_test"
      ],
      "metadata": {
        "id": "8ZJCEgui2J1O"
      },
      "execution_count": null,
      "outputs": []
    },
    {
      "cell_type": "code",
      "source": [
        "#Divide the feature matrix into training data and test data\n",
        "\n",
        "from sklearn.model_selection import train_test_split\n",
        "\n",
        "X_train, X_test, y_train, y_test = train_test_split(X,y,test_size = 0.20, random_state=42)\n",
        "\n",
        "#Checking the sizes of test and training data\n",
        "\n",
        "print('Shape of training data feature matrix : ', X_train.shape)\n",
        "print('Shape of training label vector : ',y_train.shape)\n",
        "print('Shape of test data feature matrix : ', X_test.shape)\n",
        "print('Shape of test label vector : ',y_test.shape)\n",
        "\n",
        "#Checking some sample data and labels\n",
        "print(X_train[:5])\n",
        "print(y_train[:5])"
      ],
      "metadata": {
        "colab": {
          "base_uri": "https://localhost:8080/"
        },
        "id": "O1uZoKpSrx8-",
        "outputId": "cecd30f3-51b6-45dc-e999-fa75cca90542"
      },
      "execution_count": null,
      "outputs": [
        {
          "output_type": "stream",
          "name": "stdout",
          "text": [
            "Shape of training data feature matrix :  (80,)\n",
            "Shape of training label vector :  (80,)\n",
            "Shape of test data feature matrix :  (20,)\n",
            "Shape of test label vector :  (20,)\n",
            "[8.85793784 3.85298471 1.46183891 7.60612052 3.02610229]\n",
            "[31.28290222 15.9155734   9.86738685 25.94931106 14.49223087]\n"
          ]
        }
      ]
    },
    {
      "cell_type": "code",
      "source": [
        "#Visualize the training set\n",
        "\n",
        "sns.set_style(\"white\")\n",
        "f = plt.figure(figsize=(5,5))\n",
        "sns.set_context(\"notebook\",font_scale=1.5,rc={\"lines.linewidth\" : 2.5})\n",
        "\n",
        "plt.plot(X_train, y_train,\"b.\")\n",
        "plt.title(\"Data Points\")\n",
        "plt.grid(True)\n",
        "plt.xlabel(\"$x_1$\")\n",
        "plt.ylabel(\"$y$\",rotation=0)\n",
        "plt.axis([0,10,0,40])\n",
        "\n",
        "plt.show()"
      ],
      "metadata": {
        "colab": {
          "base_uri": "https://localhost:8080/",
          "height": 372
        },
        "id": "8tnMROSVtbXF",
        "outputId": "526d8c58-d249-496e-a8c5-68e33017721a"
      },
      "execution_count": null,
      "outputs": [
        {
          "output_type": "display_data",
          "data": {
            "text/plain": [
              "<Figure size 360x360 with 1 Axes>"
            ],
            "image/png": "[encoded data removed]"
          },
          "metadata": {}
        }
      ]
    },
    {
      "cell_type": "markdown",
      "source": [
        "Here training set contains only single feature. So we will fit a simple linear regression model with one feature.\n",
        "It is of the form y = $w_0$ + $w_1$$x_1$.\n",
        "\n",
        "We will add a special dummy feature $x_0$ and set it to 1. The below function is used for that."
      ],
      "metadata": {
        "id": "y5t3oEEiIslK"
      }
    },
    {
      "cell_type": "code",
      "source": [
        "def add_dummy_feature(x):\n",
        "  '''   Adds dummy feature to the dataset.\n",
        "\n",
        "        Args:\n",
        "          x : Training dataset\n",
        "        \n",
        "        Returns:\n",
        "          Training dataset with addition of dummy feature.\n",
        "  '''\n",
        "  dummy_feature_matrix = np.column_stack((np.ones(x.shape[0]),x))\n",
        "  return(dummy_feature_matrix)\n",
        "\n",
        "#train_matrix = np.array([[3,2,5],[9,4,7]])\n",
        "#train_matrix_with_dummy_feature = add_dummy_feature(train_matrix)\n",
        "#print(train_matrix_with_dummy_feature)"
      ],
      "metadata": {
        "id": "Kzz8xokDJY-j"
      },
      "execution_count": null,
      "outputs": []
    },
    {
      "cell_type": "markdown",
      "source": [
        "**Testing**\n",
        "\n",
        "Let us take a testcase to test this function. \n",
        "For that we will take a 2 examples and 3 features.\\\n",
        "The first example is a feature vector, \n",
        "\n",
        "$x^{(1)}_{(3,1)} = \\begin{pmatrix}3\\\\2\\\\5 \\end{pmatrix}$\n",
        "\n",
        "$x^{(2)}_{(3,1)} = \\begin{pmatrix}9\\\\4\\\\7 \\end{pmatrix}$\n",
        "\n",
        "Feature Matrix X has shape (n,m) corresponding to features of all examples before adding the dummy feature $x_0$,\\\n",
        "$X_{(n,m)}$ = \\begin{pmatrix}\n",
        "            -(x^{(0)})^T- \\\\\n",
        "            -(x^{(1)})^T-\\\\\n",
        "            \\cdots\\\\\n",
        "            -(x^{(n)})^T-\n",
        "        \\end{pmatrix}\n",
        "\n",
        "\n",
        "In this example, this becomes:\n",
        "\n",
        "$X_{(2,3)}$ = \\begin{pmatrix}\n",
        "            -(x^{(0)})^T- \\\\\n",
        "            -(x^{(1)})^T-\n",
        "        \\end{pmatrix}\n",
        "\n",
        "i.e $X_{(2,3)}$ = \\begin{pmatrix}\n",
        "            3 & 2 & 5 \\\\\n",
        "            9 & 4 & 7\\\\\n",
        "        \\end{pmatrix}\n",
        "       \n",
        "Once we add dummy feature, the resultant matrix becomes:  \n",
        "$X_{(2,3)}$ = \\begin{pmatrix}\n",
        "              1 & 3 & 2 & 5 \\\\\n",
        "              1 & 9 & 4 & 7\\\\\n",
        "              \\end{pmatrix}"
      ],
      "metadata": {
        "id": "soDKcP23KDn3"
      }
    },
    {
      "cell_type": "code",
      "source": [
        "# Testing the add dummy feature\n",
        "\n",
        "import unittest\n",
        "\n",
        "class TestAddDummyFeature(unittest.TestCase):\n",
        "  def test_add_dummy_feature(self):\n",
        "    train_matrix = np.array([[3,2,5],[9,4,7]])\n",
        "    train_matrix_with_dummy_feature = add_dummy_feature(train_matrix)\n",
        "    #print(train_matrix_with_dummy_feature)\n",
        "    #checking the shape\n",
        "    self.assertEqual(train_matrix_with_dummy_feature.shape,(2,4))\n",
        "\n",
        "    #checking the contents \n",
        "    np.testing.assert_array_equal(train_matrix_with_dummy_feature,np.array([[1,3,2,5],[1,9,4,7]]))\n",
        "  \n",
        "unittest.main(argv=[''],defaultTest='TestAddDummyFeature',verbosity=2,exit=False)"
      ],
      "metadata": {
        "colab": {
          "base_uri": "https://localhost:8080/"
        },
        "id": "3nn4X-RzTkOs",
        "outputId": "6d0a37e7-8b5e-466c-c007-b32e3d4fb704"
      },
      "execution_count": null,
      "outputs": [
        {
          "output_type": "stream",
          "name": "stderr",
          "text": [
            "test_add_dummy_feature (__main__.TestAddDummyFeature) ... ok\n",
            "\n",
            "----------------------------------------------------------------------\n",
            "Ran 1 test in 0.005s\n",
            "\n",
            "OK\n"
          ]
        },
        {
          "output_type": "execute_result",
          "data": {
            "text/plain": [
              "<unittest.main.TestProgram at 0x7ff5aa0e4450>"
            ]
          },
          "metadata": {},
          "execution_count": 15
        }
      ]
    },
    {
      "cell_type": "code",
      "source": [
        "add_dummy_feature(np.array([[3,2],[5,3]]))"
      ],
      "metadata": {
        "colab": {
          "base_uri": "https://localhost:8080/"
        },
        "id": "pcg6rynAMXQx",
        "outputId": "a7bfbe53-8f15-4819-cb7d-db97b99bd2ad"
      },
      "execution_count": null,
      "outputs": [
        {
          "output_type": "execute_result",
          "data": {
            "text/plain": [
              "array([[1., 3., 2.],\n",
              "       [1., 5., 3.]])"
            ]
          },
          "metadata": {},
          "execution_count": 14
        }
      ]
    },
    {
      "cell_type": "code",
      "source": [
        "# Preprocess training dataset to add dummy feature\n",
        "\n",
        "print('Before aadding dummy feature:\\n',X_train[:5])\n",
        "X_train_with_dummy = add_dummy_feature(X_train)\n",
        "print('After aadding dummy feature:\\n',X_train_with_dummy[:5])"
      ],
      "metadata": {
        "colab": {
          "base_uri": "https://localhost:8080/"
        },
        "id": "qFxnxjXdes2I",
        "outputId": "827928f3-bbe0-4479-ee9c-7a976db9de72"
      },
      "execution_count": null,
      "outputs": [
        {
          "output_type": "stream",
          "name": "stdout",
          "text": [
            "Before aadding dummy feature:\n",
            " [4.63157346 0.02406536 0.42913943 0.42991364 2.35426865]\n",
            "After aadding dummy feature:\n",
            " [[1.         4.63157346]\n",
            " [1.         0.02406536]\n",
            " [1.         0.42913943]\n",
            " [1.         0.42991364]\n",
            " [1.         2.35426865]]\n"
          ]
        }
      ]
    },
    {
      "cell_type": "markdown",
      "source": [
        "# 2.   **Model**\n",
        "\n",
        "Linear regression model uses linear combination of features to obtain output labels\n",
        "*   Model is parameterized by its weight vector\\\n",
        "The general vectorized form is:  y$_{(n,1)} = X_{(n,m+1)}$w$_{(m+1),1}$  \n",
        "where \n",
        "\n",
        "*   n is the number of examples\n",
        "*   m is the number of features\n",
        "*   X is a feature matrix with (m+1) features for n examples along rows.\n",
        "*   w is a weight vector contaning (m+1) weights for each feature\n",
        "*   y is a label vector containing label for n examples with shape (n,)\n",
        "\n",
        "\n",
        "\n",
        "\n"
      ],
      "metadata": {
        "id": "Exgl8trbfrLq"
      }
    },
    {
      "cell_type": "code",
      "source": [
        "def predict(X, w):\n",
        "  ''' Prediction of output label for a given input\n",
        "\n",
        "      Args:\n",
        "        X: feature matrix of shape (n,m+1)\n",
        "        w: weight vector of shape(m+1, 1)\n",
        "      Returns:\n",
        "        y: predicted label vector of shape (n,1)\n",
        "  '''\n",
        "  # checking feature matrix and weight vector have compatible shape\n",
        "  assert X.shape[-1] == w.shape[0], \"X and w dont have compatible dimensions\"\n",
        "  return X @ w"
      ],
      "metadata": {
        "id": "p2o2Azt_h1-6"
      },
      "execution_count": null,
      "outputs": []
    },
    {
      "cell_type": "markdown",
      "source": [
        "**Example:**  \n",
        "X = [[1,3,2,5][1,9,4,7]]  \n",
        "and w = [1 1 1 1] (column vector)  \n",
        "predicted label y = Xw = [[1+3+2+5],[1+9+4+7]]  \n",
        "                      = [11 21]  \n",
        "We will test this example as follows:\n",
        "\n",
        "```\n",
        "# This is formatted as code\n",
        "```\n",
        "\n"
      ],
      "metadata": {
        "id": "pKbITmspiwNd"
      }
    },
    {
      "cell_type": "code",
      "source": [
        "class TestPredict(unittest.TestCase):\n",
        "  def test_predict(self):\n",
        "    ''' test case for predict function of linear regression '''\n",
        "    # set up\n",
        "    train_matrix = np.array([[1,3,2,5],[1,9,4,7]])\n",
        "    weight_vector = np.array([1,1,1,1])\n",
        "    expected_label_vector = np.array([11,21])\n",
        "\n",
        "    #call\n",
        "    predicted_label_vector = predict(train_matrix, weight_vector)\n",
        "\n",
        "    #asserts - test the shape\n",
        "    self.assertEqual(predicted_label_vector.shape, (2,))\n",
        "\n",
        "    # asserts the content\n",
        "    np.testing.assert_array_equal(predicted_label_vector,expected_label_vector)\n",
        "\n",
        "unittest.main(argv=[''], defaultTest='TestPredict',verbosity=2, exit=False)"
      ],
      "metadata": {
        "colab": {
          "base_uri": "https://localhost:8080/"
        },
        "id": "QxJoJyE0h1uM",
        "outputId": "dee5004d-97c6-4b6e-eb2c-a1a1c2ae5021"
      },
      "execution_count": null,
      "outputs": [
        {
          "output_type": "stream",
          "name": "stderr",
          "text": [
            "test_predict (__main__.TestPredict)\n",
            "test case for predict function of linear regression ... ok\n",
            "\n",
            "----------------------------------------------------------------------\n",
            "Ran 1 test in 0.006s\n",
            "\n",
            "OK\n"
          ]
        },
        {
          "output_type": "execute_result",
          "data": {
            "text/plain": [
              "<unittest.main.TestProgram at 0x7f87aae9bad0>"
            ]
          },
          "metadata": {},
          "execution_count": 15
        }
      ]
    },
    {
      "cell_type": "markdown",
      "source": [
        "Let us use a random weight vector to get predictions to the model for given dataset.  \n",
        "Then use this weight vector to predict the label on splitted training dataset X_train."
      ],
      "metadata": {
        "id": "_US7nEr-loQu"
      }
    },
    {
      "cell_type": "code",
      "source": [
        "w = np.random.rand(2,)\n",
        "#print(X_train)\n",
        "#dummy_added_X_train = add_dummy_feature(X_train)\n",
        "print(w.shape[0],X_train_with_dummy.shape[-1])\n",
        "y_hat = predict(X_train_with_dummy, w)\n",
        "\n",
        "print(y_train[:5])\n",
        "print(y_hat[:5])"
      ],
      "metadata": {
        "colab": {
          "base_uri": "https://localhost:8080/"
        },
        "id": "8tplhFWgmJa1",
        "outputId": "fa33b07c-fb6e-48d1-f087-01f07360ba54"
      },
      "execution_count": null,
      "outputs": [
        {
          "output_type": "stream",
          "name": "stdout",
          "text": [
            "2 2\n",
            "[17.47071682  4.26475933  5.95727298  4.09630124 11.35096069]\n",
            "[1.87972768 0.1442605  0.29683598 0.2971276  1.02195648]\n"
          ]
        }
      ]
    },
    {
      "cell_type": "markdown",
      "source": [
        "Non Vectorized Prediction"
      ],
      "metadata": {
        "id": "NWtIbVmQoP_Y"
      }
    },
    {
      "cell_type": "code",
      "source": [
        "def non_vectorized_predict(X, w):\n",
        "  ''' Prediction of output label for a given input\n",
        "      \n",
        "      Args: \n",
        "        X : feature matrix of shape (n, m+1)\n",
        "        w : weight vector of shape (m+1, n)\n",
        "      Returns:\n",
        "        y : predicted label vector of shape (n,)\n",
        "  ''' \n",
        "  y = []\n",
        "  for i in range(0,X.shape[0]):\n",
        "    y_hat_i = 0\n",
        "    for j in range(0, X.shape[1]):\n",
        "      y_hat_i += X[i][j] * w[j]\n",
        "    y.append(y_hat_i)\n",
        "  return(np.array(y))"
      ],
      "metadata": {
        "id": "k6b4NPt2oLtP"
      },
      "execution_count": null,
      "outputs": []
    },
    {
      "cell_type": "code",
      "source": [
        "import unittest\n",
        "\n",
        "class TestPredictNonVectorized(unittest.TestCase):\n",
        "  def test_predict_nonvectorized(self):\n",
        "    train_matrix = np.array([[1,3,2,5],[1,9,4,7]])\n",
        "    weight_vector = np.array([1,1,1,1])\n",
        "    expected_label_vector = np.array([11,21])\n",
        "\n",
        "    #Call\n",
        "    predicted_label_vector = non_vectorized_predict(train_matrix, weight_vector)\n",
        "\n",
        "    self.assertEqual(predicted_label_vector.shape, (2,))\n",
        "\n",
        "    np.testing.assert_array_equal(predicted_label_vector,expected_label_vector)\n",
        "  \n",
        "unittest.main(argv=[''],defaultTest='TestPredictNonVectorized',verbosity=2, exit=False)"
      ],
      "metadata": {
        "colab": {
          "base_uri": "https://localhost:8080/"
        },
        "id": "M9O61hmWp1yw",
        "outputId": "5a5a4801-c98a-49e2-ab01-11b927d187ad"
      },
      "execution_count": null,
      "outputs": [
        {
          "output_type": "stream",
          "name": "stderr",
          "text": [
            "test_predict_nonvectorized (__main__.TestPredictNonVectorized) ... ok\n",
            "\n",
            "----------------------------------------------------------------------\n",
            "Ran 1 test in 0.003s\n",
            "\n",
            "OK\n"
          ]
        },
        {
          "output_type": "execute_result",
          "data": {
            "text/plain": [
              "<unittest.main.TestProgram at 0x7ff5a9b3b410>"
            ]
          },
          "metadata": {},
          "execution_count": 21
        }
      ]
    },
    {
      "cell_type": "markdown",
      "source": [
        "**Comparing the run time of vectorized and non vectorized versions**"
      ],
      "metadata": {
        "id": "-DGjGJOKrhQ_"
      }
    },
    {
      "cell_type": "code",
      "source": [
        "import time\n",
        "\n",
        "start_time = time.time()\n",
        "y_hat_vectorized = predict(X_train_with_dummy,w)\n",
        "end_time = time.time()\n",
        "print('Total running time in vectorized inference is: %0.6f s'%(end_time - start_time))\n",
        "\n",
        "start_time = time.time()\n",
        "y_hat_non_vectorized = non_vectorized_predict(X_train_with_dummy,w)\n",
        "end_time = time.time()\n",
        "print('Total running time in non-vectorized inference is: %0.6f s'%(end_time - start_time))\n",
        "\n",
        "np.testing.assert_array_equal(y_hat_vectorized,y_hat_non_vectorized)"
      ],
      "metadata": {
        "colab": {
          "base_uri": "https://localhost:8080/"
        },
        "id": "aQlASlADro42",
        "outputId": "a3c1bc4b-87f9-4e71-e3f0-c84e628778ff"
      },
      "execution_count": null,
      "outputs": [
        {
          "output_type": "stream",
          "name": "stdout",
          "text": [
            "Total running time in vectorized inference is: 0.000108 s\n",
            "Total running time in non-vectorized inference is: 0.000372 s\n"
          ]
        }
      ]
    },
    {
      "cell_type": "markdown",
      "source": [
        "Generate large dataset "
      ],
      "metadata": {
        "id": "cYaw0k3QuIzF"
      }
    },
    {
      "cell_type": "code",
      "source": [
        "import time\n",
        "\n",
        "X, y = generate_data(1000000)\n",
        "X_train , y_train, X_test, y_test = preprocess(X, y)\n",
        "print(X_train.shape)\n",
        "start_time = time.time()\n",
        "y_hat_vectorized = predict(X_train,w)\n",
        "end_time = time.time()\n",
        "print('Total running time in vectorized inference is: %0.6f s'%(end_time - start_time))\n",
        "\n",
        "start_time = time.time()\n",
        "y_hat_non_vectorized = non_vectorized_predict(X_train,w)\n",
        "end_time = time.time()\n",
        "print('Total running time in non-vectorized inference is: %0.6f s'%(end_time - start_time))\n",
        "\n",
        "np.testing.assert_array_equal(y_hat_vectorized,y_hat_non_vectorized)\n"
      ],
      "metadata": {
        "colab": {
          "base_uri": "https://localhost:8080/"
        },
        "id": "Wzv3VfPKuIfe",
        "outputId": "2a4f23ed-973d-48c0-8fc5-c3f23dfaa371"
      },
      "execution_count": null,
      "outputs": [
        {
          "output_type": "stream",
          "name": "stdout",
          "text": [
            "(800000, 2)\n",
            "Total running time in vectorized inference is: 0.002981 s\n",
            "Total running time in non-vectorized inference is: 1.536433 s\n"
          ]
        }
      ]
    },
    {
      "cell_type": "markdown",
      "source": [
        "# **Loss**\n",
        "To implement Loss function of linear regression model.  \n",
        "Loss function  $J(w) = \\frac{1}{2} (Xw-y)^T(Xw-y)$  \n",
        "where   \n",
        "*   X is feature matrix of (m+1) features of n examples along rows.\n",
        "*   w is the weight vector having (m+1) weights for each n examples\n",
        "*   y is the label vector of n examples with shape (n,)"
      ],
      "metadata": {
        "id": "99snTZqh9DGf"
      }
    },
    {
      "cell_type": "code",
      "source": [
        "def loss(X, y, w):\n",
        "  ''' Calculating loss of a model\n",
        "      Args:\n",
        "        X: feature matrix of shape (n,m+1)\n",
        "        y: label vector of shape (n,)\n",
        "        w: weight vector of shape (m+1,1)\n",
        "      Returns:\n",
        "        Loss\n",
        "  '''\n",
        "  e = predict(X, w) - y\n",
        "  L = (1/2) * (np.transpose(e) @ e)\n",
        "  return(L)"
      ],
      "metadata": {
        "id": "agT_756f9JcG"
      },
      "execution_count": null,
      "outputs": []
    },
    {
      "cell_type": "markdown",
      "source": [
        "**Example**  \n",
        "X = [[1 3 2 5],[1 9 4 7]]  \n",
        "w = [1 1 1 1]  \n",
        "y = [6 11]  \n",
        "$J(w) = \\frac{1}{2} (Xw-y)^T(Xw-y)$   \n",
        "=$(1/2)([[1,3,2,5],[1,9,4,7]]*[1,1,1,1] -[6,11])^T ([[1,3,2,5],[1,9,4,7]][1,1,1,1] -[6,11])$  \n",
        " = (1/2) [5 10]T [5 10]  \n",
        " = (1/2) [25+100]  \n",
        " = [62.5]"
      ],
      "metadata": {
        "id": "wpfEKsuKCZyr"
      }
    },
    {
      "cell_type": "code",
      "source": [
        "# Testing Loss function\n",
        "import unittest\n",
        "\n",
        "class TestLossFunction(unittest.TestCase):\n",
        "  def test_loss_function(self):\n",
        "    ''' Test case for unit testing loss function of linear regression'''\n",
        "    #set up\n",
        "    feature_matrix = np.array([[1,3,2,5],[1,9,4,7]])\n",
        "    weight_vector = np.array([1,1,1,1])\n",
        "    label_vector = np.array([6,11])\n",
        "    expected_loss = np.array([62.5])\n",
        "\n",
        "    predicted_loss = loss(feature_matrix, label_vector, weight_vector)\n",
        "    #print(predicted_loss)\n",
        "    #assert to check the shape\n",
        "    self.assertEqual(predicted_loss.shape, ()) '''check syntax from google'''\n",
        "    #print(\"predicted\",predicted_loss.shape, \"Expected\",expected_loss.shape)\n",
        "\n",
        "    #assert to check the content\n",
        "    np.testing.assert_array_equal(expected_loss, predicted_loss)\n",
        "  \n",
        "unittest.main(argv=[''],defaultTest='TestLossFunction',verbosity=2, exit=False)"
      ],
      "metadata": {
        "colab": {
          "base_uri": "https://localhost:8080/"
        },
        "id": "Z2ZQol2Y1hbV",
        "outputId": "984d18d7-7605-4f57-accd-c78d3b1b0dff"
      },
      "execution_count": null,
      "outputs": [
        {
          "output_type": "stream",
          "name": "stderr",
          "text": [
            "test_loss_function (__main__.TestLossFunction)\n",
            "Test case for unit testing loss function of linear regression ... ok\n",
            "\n",
            "----------------------------------------------------------------------\n",
            "Ran 1 test in 0.004s\n",
            "\n",
            "OK\n"
          ]
        },
        {
          "output_type": "execute_result",
          "data": {
            "text/plain": [
              "<unittest.main.TestProgram at 0x7ff5a72dd310>"
            ]
          },
          "metadata": {},
          "execution_count": 33
        }
      ]
    },
    {
      "cell_type": "markdown",
      "source": [
        "Loss function calculation using random weight vector"
      ],
      "metadata": {
        "id": "FI6TEsEJ54xh"
      }
    },
    {
      "cell_type": "code",
      "source": [
        "from IPython.core.pylabtools import figsize\n",
        "def visualize_pointwise_loss(X, y, y_new):\n",
        "  fig, ax = plt.subplots(figsize=(8,8))\n",
        "  ax.scatter(X[:,-1], y, c='g',label='True')\n",
        "  ax.scatter(X[:,-1], y_new ,c='b',label='Predicted')\n",
        "  ax.vlines(X[:,-1],y_new,y,colors='r',label='loss')\n",
        "  plt.legend "
      ],
      "metadata": {
        "id": "p2EWUxG07kIU"
      },
      "execution_count": null,
      "outputs": []
    },
    {
      "cell_type": "code",
      "source": [
        "w = np.random.rand(2,)\n",
        "\n",
        "X, y = generate_data(100)\n",
        "\n",
        "X_train, y_train, X_test, y_test = preprocess(X, y)\n",
        "y_new = predict(X_train, w)\n",
        "visualize_pointwise_loss(X_train, y_train, y_new)\n",
        "#print(X_train[:,-1].shape,y_train.shape,'\\n',y_new.shape)"
      ],
      "metadata": {
        "colab": {
          "base_uri": "https://localhost:8080/",
          "height": 493
        },
        "id": "2vm7ftnE6CWW",
        "outputId": "8b10d929-4e11-4b1d-96da-8c71826f4d63"
      },
      "execution_count": null,
      "outputs": [
        {
          "output_type": "display_data",
          "data": {
            "text/plain": [
              "<Figure size 576x576 with 1 Axes>"
            ],
            "image/png": "[encoded data removed]"
          },
          "metadata": {}
        }
      ]
    },
    {
      "cell_type": "markdown",
      "source": [
        "# Optimization\n",
        "To implement the optimization techniques of linear regression model.  \n",
        "It is implemented in one of the two methods:\n",
        "*   Normal Equation method: that sets the partial derivative of the loss function w.r.t weight vector to 0 and solve the resulting equation fo find the weight vector. \n",
        "*   Gradient Descent method: that iteratively adjusts the weight vector based on the learning rate and the gradient of the loss function at the current weight vector.\n",
        "The steps to be followed are:\n",
        "1.   Import Libraries\n",
        "2.   Generate training data\n",
        "3.  Preprocessing: Dummy feature addition and train test split\n",
        "4.  Model Inference\n",
        "5.  Loss Calculation\n",
        "6.  Optimization\n",
        "\n",
        "\n"
      ],
      "metadata": {
        "id": "n7u7ME7GaENt"
      }
    },
    {
      "cell_type": "markdown",
      "source": [
        "**Optimization using Normal Equation method**  \n",
        "The weight vector is estimation by matrix multiplication of pseudo-inverse of feature matrix and the label vector.  \n",
        "We make use of *np.linalg.pinv* for calculating pseudo-inverse of feature matrix."
      ],
      "metadata": {
        "id": "vqb2vrBvcwLs"
      }
    },
    {
      "cell_type": "code",
      "source": [
        "def normal_equation(X, y):\n",
        "  ''' Estimate the parameters of linear regression model with normal quation.\n",
        "\n",
        "      Args:\n",
        "        X: feature meatrix of given inputs\n",
        "        y: label vector\n",
        "\n",
        "      Returns:\n",
        "        Weight vector\n",
        "  '''\n",
        "  w1 = np.linalg.pinv(X) @ y\n",
        "  return w1"
      ],
      "metadata": {
        "id": "yn254MLEbIn_"
      },
      "execution_count": null,
      "outputs": []
    },
    {
      "cell_type": "code",
      "source": [
        "X, y = generate_data(100)\n",
        "w = np.random.randn(2,)\n",
        "#w_dummy = add_dummy_feature(w)\n",
        "#y_dummy = add_dummy_feature(y_train)\n",
        "X_train , y_train, X_test, y_test = preprocess(X, y)\n",
        "print(X_train.shape, w.shape, y_train.shape)\n",
        "#predicted_label = predict(X_train, w)\n",
        "#print(y_train[:5], predicted_label[:5])\n",
        "loss_value = loss(X_train, y_train, w)"
      ],
      "metadata": {
        "colab": {
          "base_uri": "https://localhost:8080/"
        },
        "id": "-EKgzRhg6eBo",
        "outputId": "6df38358-1d5c-4c43-c6eb-107e2b844f21"
      },
      "execution_count": null,
      "outputs": [
        {
          "output_type": "stream",
          "name": "stdout",
          "text": [
            "(80, 2) (2,) (80,)\n"
          ]
        }
      ]
    },
    {
      "cell_type": "markdown",
      "source": [
        "We test this function with the generated training set whose weight vector is known to us.\n",
        "\n",
        "\n",
        "*   We setup the test with feature matrix, label vector and expected weight vectors.\n",
        "*   Next we estimate the weight vector with Normal equation method\n",
        "*   We test the shape and contetnts of the expected and estimated weight vectors\n",
        "\n"
      ],
      "metadata": {
        "id": "OX6iKmICem5Z"
      }
    },
    {
      "cell_type": "code",
      "source": [
        "import unittest\n",
        "\n",
        "class TestNormalEquation(unittest.TestCase):\n",
        "  def test_normal_equation(self):\n",
        "    feature_matrix = X_train\n",
        "    label_vector = y_train\n",
        "    expected_weight_vector = np.array([4.,3.])\n",
        "    estimated_weight_vector = normal_equation(feature_matrix,label_vector)\n",
        "\n",
        "    self.assertEqual(estimated_weight_vector.shape, (2,))\n",
        "    np.testing.assert_array_almost_equal(estimated_weight_vector,expected_weight_vector, decimal=0)\n",
        "\n",
        "unittest.main(argv=[''],defaultTest=\"TestNormalEquation\", verbosity=2, exit=False)"
      ],
      "metadata": {
        "colab": {
          "base_uri": "https://localhost:8080/"
        },
        "id": "z4GRVihXfLoC",
        "outputId": "d274aed9-e37e-4d47-b2ed-45977b4f9d62"
      },
      "execution_count": null,
      "outputs": [
        {
          "output_type": "stream",
          "name": "stderr",
          "text": [
            "test_normal_equation (__main__.TestNormalEquation) ... ok\n",
            "\n",
            "----------------------------------------------------------------------\n",
            "Ran 1 test in 0.006s\n",
            "\n",
            "OK\n"
          ]
        },
        {
          "output_type": "execute_result",
          "data": {
            "text/plain": [
              "<unittest.main.TestProgram at 0x7f87aad44250>"
            ]
          },
          "metadata": {},
          "execution_count": 42
        }
      ]
    },
    {
      "cell_type": "markdown",
      "source": [
        "## Gradient Descent"
      ],
      "metadata": {
        "id": "4FbvVvwlzt4K"
      }
    },
    {
      "cell_type": "markdown",
      "source": [
        "**Gradient Descent (GD)**\n",
        "GD is implemented as follows:\n",
        "* Randomly initialize **w** to **0**\n",
        "* Iterate until convergence\n",
        "  * Calculate partial derivative of loss w.r.t weight vector\n",
        "  * Calculate new weight\n",
        "  * Update weights to the new values simultaniously  \n",
        "\n",
        "We use number of epochs as a convergence criteria in this implementation.\n",
        "\n",
        "**Partial derivatives of loss function:**  \n",
        "Let us implement a function to calculate partial derivative of loss function using the following equation\n",
        "$Derivative(J(w)) = X^T (Xw - y)$   \n",
        "\n",
        "\n",
        "\n",
        "\n",
        "\n"
      ],
      "metadata": {
        "id": "xwIlt0NaHXNB"
      }
    },
    {
      "cell_type": "code",
      "source": [
        "def calculate_gradient(X, y ,w):\n",
        "  ''' Calculates gradient of loss function w.r.t weight vector on training set\n",
        "\n",
        "      Args:\n",
        "        X: feature matrix of shape (n,m+1)\n",
        "        y: label vector of shape (n,)\n",
        "        w: weight vector of shape (m+1,1)\n",
        "      Returns:\n",
        "        A vector of gradients\n",
        "  '''\n",
        "  gradient = np.transpose(X) @ (predict(X,w) - y)\n",
        "  return gradient"
      ],
      "metadata": {
        "id": "VnMEplwQJaZe"
      },
      "execution_count": null,
      "outputs": []
    },
    {
      "cell_type": "markdown",
      "source": [
        "**Example:**\n",
        "X = [[1, 3, 2, 5],[1, 9, 4, 7]]\n",
        "w = [1 1 1 1]\n",
        "y = [6 11]\n",
        "$gradient = X^T (Xw - y)$  \n",
        "= [[1, 3, 2, 5],[1, 9, 4, 7]]T [[1, 3, 2, 5],[1, 9, 4, 7]] * [1, 1, 1, 1]    \n",
        "= [15 105 50 95] (column vector)"
      ],
      "metadata": {
        "id": "47kKwgegKRDr"
      }
    },
    {
      "cell_type": "code",
      "source": [
        "import unittest\n",
        "\n",
        "class TestCalculateGradient(unittest.TestCase):\n",
        "  def test_calculate_gradient(self):\n",
        "    feature_matrix = np.array([[1,3,2,5],[1,9,4,7]])\n",
        "    weight_vector = np.array([1,1,1,1])\n",
        "    label_vector = np.array([6,11])\n",
        "    expected_gradient = np.array([15, 105, 50, 95])\n",
        "\n",
        "    predicted_gradient = calculate_gradient(feature_matrix, label_vector, weight_vector)\n",
        "\n",
        "    self.assertEqual(predicted_gradient.shape, (4,))\n",
        "\n",
        "    np.testing.assert_array_almost_equal(expected_gradient, predicted_gradient)\n",
        "\n",
        "unittest.main(argv=[''],defaultTest=\"TestCalculateGradient\", verbosity=2,exit=False)"
      ],
      "metadata": {
        "colab": {
          "base_uri": "https://localhost:8080/"
        },
        "id": "wrTQ09vVLGSF",
        "outputId": "9babd1e3-0e41-46e0-a7fb-ea165af8c94b"
      },
      "execution_count": null,
      "outputs": [
        {
          "output_type": "stream",
          "name": "stderr",
          "text": [
            "test_calculate_gradient (__main__.TestCalculateGradient) ... ok\n",
            "\n",
            "----------------------------------------------------------------------\n",
            "Ran 1 test in 0.005s\n",
            "\n",
            "OK\n"
          ]
        },
        {
          "output_type": "execute_result",
          "data": {
            "text/plain": [
              "<unittest.main.TestProgram at 0x7f87aae5c710>"
            ]
          },
          "metadata": {},
          "execution_count": 44
        }
      ]
    },
    {
      "cell_type": "markdown",
      "source": [
        "**Weight updates:**\n",
        "New weights are obtained from old weight by subtracting the gradient weighted by the learning rate.\n",
        "$w_{new} = w_{old} - α * GD$\n"
      ],
      "metadata": {
        "id": "KdH-t5heMwxP"
      }
    },
    {
      "cell_type": "code",
      "source": [
        "def update_weights(w, grad, lr):\n",
        "  ''' updates the weights based on the gradient of the loss function\n",
        "      w_new = w_old - (lr * grad)\n",
        "      Args:\n",
        "        w: old weight vector\n",
        "        grad: gradient of loss w.r.t w\n",
        "        lr: learning rate\n",
        "      Return:\n",
        "        updated weight vector\n",
        "  '''\n",
        "  w_new = w - (lr * grad)\n",
        "  return w_new"
      ],
      "metadata": {
        "id": "Ke32NelRSCXt"
      },
      "execution_count": null,
      "outputs": []
    },
    {
      "cell_type": "markdown",
      "source": [
        "**Example:**\n",
        "weight vector w = [1, 1, 1, 1]\n",
        "gradient = [15, 105, 50, 95]\n",
        "learning rate = 0.001\n",
        "\n",
        "updated weight = w - lr*grad  \n",
        "= [1 1 1 1] - 0.001 * [15 105 50 95]\n",
        "= [0.985 0.895 0.95 0.905]"
      ],
      "metadata": {
        "id": "gF2m2kZrS2xb"
      }
    },
    {
      "cell_type": "code",
      "source": [
        "# Test update_weights\n",
        "import unittest\n",
        "\n",
        "class TestUpdateWeights(unittest.TestCase):\n",
        "  def test_update_weights(self):\n",
        "    w = np.array([1,1,1,1])\n",
        "    lr = 0.001\n",
        "    grad = np.array([15, 105, 50, 95])\n",
        "    expected_wnew = np.array([0.985, 0.895, 0.95, 0.905])\n",
        "\n",
        "    predicted_wnew = update_weights(w, grad, lr)\n",
        "\n",
        "    self.assertEquals(predicted_wnew.shape, (4,))\n",
        "\n",
        "    np.testing.assert_array_almost_equal(expected_wnew, predicted_wnew)\n",
        "\n",
        "unittest.main(argv=[''],defaultTest=\"TestUpdateWeights\",verbosity=2, exit=False)"
      ],
      "metadata": {
        "colab": {
          "base_uri": "https://localhost:8080/"
        },
        "id": "g3xhir3wTeVz",
        "outputId": "4353457d-275e-46ed-a627-403f3d1e5685"
      },
      "execution_count": null,
      "outputs": [
        {
          "output_type": "stream",
          "name": "stderr",
          "text": [
            "test_update_weights (__main__.TestUpdateWeights) ... /usr/local/lib/python3.7/dist-packages/ipykernel_launcher.py:13: DeprecationWarning: Please use assertEqual instead.\n",
            "  del sys.path[0]\n",
            "ok\n",
            "\n",
            "----------------------------------------------------------------------\n",
            "Ran 1 test in 0.007s\n",
            "\n",
            "OK\n"
          ]
        },
        {
          "output_type": "execute_result",
          "data": {
            "text/plain": [
              "<unittest.main.TestProgram at 0x7f87acbf70d0>"
            ]
          },
          "metadata": {},
          "execution_count": 47
        }
      ]
    },
    {
      "cell_type": "markdown",
      "source": [
        "**Gradient Descent Procedure:**\n"
      ],
      "metadata": {
        "id": "TAfr21_cU1Sb"
      }
    },
    {
      "cell_type": "code",
      "source": [
        "def gradient_descent(X:np.ndarray, y:np.ndarray,lr:float, num_epochs:int):\n",
        "  ''' Estimate parameters of linear regression model through gradient descent\n",
        "\n",
        "      Args:\n",
        "        X: Feature Matrix\n",
        "        y: label vector\n",
        "        lr: learning rate\n",
        "        num_epochs: number of training steps\n",
        "      \n",
        "      Return:\n",
        "      weight vector: final weight vector\n",
        "      Error vector across all iterations\n",
        "      weight vector across all iterations\n",
        "  '''\n",
        "  w_all = []    # weight vector across all iterations\n",
        "  err_all = []  # error vector across all iterations\n",
        "\n",
        "  # parameter vector initialized to zeroes\n",
        "  w = np.zeros(X.shape[-1])\n",
        "\n",
        "  # Gradient descent loop\n",
        "  print()\n",
        "  for i in np.arange(0, num_epochs):\n",
        "    w_all.append(w)\n",
        "\n",
        "    #calculate error due to the current weight vector using loss function\n",
        "    err_all.append(loss(X, y,w))\n",
        "\n",
        "    #gradient calculation\n",
        "    dJdw = calculate_gradient(X, y, w)\n",
        "\n",
        "    #Print status every 100 iterations\n",
        "    if(i%100 == 0):\n",
        "      print('Iteration #: %d, loss: %4.2f'%(i, err_all[-1]))\n",
        "    \n",
        "    #weight vector update\n",
        "    w = update_weights(w,dJdw,lr)\n",
        "  \n",
        "  return w, err_all, w_all"
      ],
      "metadata": {
        "id": "1th4rGuYU8Vy"
      },
      "execution_count": null,
      "outputs": []
    },
    {
      "cell_type": "markdown",
      "source": [
        "Test the function using synthetic data set created"
      ],
      "metadata": {
        "id": "0y5ZNBNRX7Tf"
      }
    },
    {
      "cell_type": "code",
      "source": [
        "import unittest\n",
        "\n",
        "class TestGradientDescent(unittest.TestCase):\n",
        "  def test_gradient_descent(self):\n",
        "    feature_matrix = X_train\n",
        "    label_vector = y_train\n",
        "    expected_weights = np.array([4.,3.])\n",
        "\n",
        "    w, error_all, w_all = gradient_descent(feature_matrix,label_vector,lr=0.0001,num_epochs=2000)\n",
        "\n",
        "    self.assertEqual(w.shape, (2,))\n",
        "\n",
        "    np.testing.assert_array_almost_equal(expected_weights, w, decimal=0)\n",
        "\n",
        "unittest.main(argv=[''],defaultTest=\"TestGradientDescent\",verbosity=2, exit=False)"
      ],
      "metadata": {
        "colab": {
          "base_uri": "https://localhost:8080/"
        },
        "id": "fBZH14j2YCZu",
        "outputId": "9b662042-7558-4c3e-cd57-fc6543da1d43"
      },
      "execution_count": null,
      "outputs": [
        {
          "output_type": "stream",
          "name": "stderr",
          "text": [
            "test_gradient_descent (__main__.TestGradientDescent) ... "
          ]
        },
        {
          "output_type": "stream",
          "name": "stdout",
          "text": [
            "\n",
            "Iteration #: 0, loss: 15951.73\n",
            "Iteration #: 100, loss: 111.32\n",
            "Iteration #: 200, loss: 86.29\n",
            "Iteration #: 300, loss: 70.50\n",
            "Iteration #: 400, loss: 60.53\n",
            "Iteration #: 500, loss: 54.24\n",
            "Iteration #: 600, loss: 50.27\n",
            "Iteration #: 700, loss: 47.76\n",
            "Iteration #: 800, loss: 46.18\n",
            "Iteration #: 900, loss: 45.18\n",
            "Iteration #: 1000, loss: 44.55\n",
            "Iteration #: 1100, loss: 44.15\n",
            "Iteration #: 1200, loss: 43.90\n",
            "Iteration #: 1300, loss: 43.75\n",
            "Iteration #: 1400, loss: 43.65\n",
            "Iteration #: 1500, loss: 43.58\n",
            "Iteration #: 1600, loss: 43.54\n",
            "Iteration #: 1700, loss: 43.52\n",
            "Iteration #: 1800, loss: 43.50\n",
            "Iteration #: 1900, loss: 43.49\n"
          ]
        },
        {
          "output_type": "stream",
          "name": "stderr",
          "text": [
            "ok\n",
            "\n",
            "----------------------------------------------------------------------\n",
            "Ran 1 test in 0.038s\n",
            "\n",
            "OK\n"
          ]
        },
        {
          "output_type": "execute_result",
          "data": {
            "text/plain": [
              "<unittest.main.TestProgram at 0x7f87aad47190>"
            ]
          },
          "metadata": {},
          "execution_count": 51
        }
      ]
    },
    {
      "cell_type": "markdown",
      "source": [
        "Since we store weights in each iteration, we can use it to plot intermediate models in order to understand the trajectory taken by GD.\n",
        "*   err_all : loss values across all iterations\n",
        "*   w_all : weight vectors across all iterations\n",
        "\n"
      ],
      "metadata": {
        "id": "ArcFx4KLZcYS"
      }
    },
    {
      "cell_type": "code",
      "source": [
        "w, err_all, w_all = gradient_descent(X_train, y_train, lr=0.00001, num_epochs=200)"
      ],
      "metadata": {
        "colab": {
          "base_uri": "https://localhost:8080/"
        },
        "id": "alATpf7BZ-qf",
        "outputId": "716681ea-d978-4aca-cb9d-4e2b4d6ce038"
      },
      "execution_count": null,
      "outputs": [
        {
          "output_type": "stream",
          "name": "stdout",
          "text": [
            "\n",
            "Iteration #: 0, loss: 19673.61\n",
            "Iteration #: 100, loss: 3057.94\n"
          ]
        }
      ]
    },
    {
      "cell_type": "code",
      "source": [
        "#Plot model trajectory\n",
        "\n",
        "X_b = np.c_[np.ones((X.shape[0],1)),X]\n",
        "X_new = np.array([[0],[10]])\n",
        "X_new_b = np.c_[np.ones((2,1)),X_new]\n",
        "#print(X_b[:5],'\\n',X_new,'\\n',X_new_b)\n",
        "\n",
        "for j in range(0, len(w_all)):\n",
        "  if(j%10 !=0): continue\n",
        "  y_hat = predict(X_new_b, w_all[j])\n",
        "  style = 'b-' if j>0 else 'r--'\n",
        "  plt.plot(X_new_b[:,1],y_hat,style)\n",
        "\n",
        "plt.plot(X_train[:,1],y_train,'b.')\n",
        "plt.xlabel(\"$x_1$\",fontsize=18)\n",
        "plt.ylabel(\"$x$\",rotation=0,fontsize=18)\n",
        "plt.title(\"Gradient Descent\",fontsize=18)\n",
        "plt.axis([0,10,0,40])\n",
        "plt.show()"
      ],
      "metadata": {
        "colab": {
          "base_uri": "https://localhost:8080/",
          "height": 339
        },
        "id": "bmho6EckaVEm",
        "outputId": "063fe507-9c50-48c9-c1c6-5fe1ef418d69"
      },
      "execution_count": null,
      "outputs": [
        {
          "output_type": "error",
          "ename": "AssertionError",
          "evalue": "ignored",
          "traceback": [
            "\u001b[0;31m---------------------------------------------------------------------------\u001b[0m",
            "\u001b[0;31mAssertionError\u001b[0m                            Traceback (most recent call last)",
            "\u001b[0;32m<ipython-input-108-b3c20e7a0bc5>\u001b[0m in \u001b[0;36m<module>\u001b[0;34m()\u001b[0m\n\u001b[1;32m      8\u001b[0m \u001b[0;32mfor\u001b[0m \u001b[0mj\u001b[0m \u001b[0;32min\u001b[0m \u001b[0mrange\u001b[0m\u001b[0;34m(\u001b[0m\u001b[0;36m0\u001b[0m\u001b[0;34m,\u001b[0m \u001b[0mlen\u001b[0m\u001b[0;34m(\u001b[0m\u001b[0mw_all\u001b[0m\u001b[0;34m)\u001b[0m\u001b[0;34m)\u001b[0m\u001b[0;34m:\u001b[0m\u001b[0;34m\u001b[0m\u001b[0;34m\u001b[0m\u001b[0m\n\u001b[1;32m      9\u001b[0m   \u001b[0;32mif\u001b[0m\u001b[0;34m(\u001b[0m\u001b[0mj\u001b[0m\u001b[0;34m%\u001b[0m\u001b[0;36m10\u001b[0m \u001b[0;34m!=\u001b[0m\u001b[0;36m0\u001b[0m\u001b[0;34m)\u001b[0m\u001b[0;34m:\u001b[0m \u001b[0;32mcontinue\u001b[0m\u001b[0;34m\u001b[0m\u001b[0;34m\u001b[0m\u001b[0m\n\u001b[0;32m---> 10\u001b[0;31m   \u001b[0my_hat\u001b[0m \u001b[0;34m=\u001b[0m \u001b[0mpredict\u001b[0m\u001b[0;34m(\u001b[0m\u001b[0mX_new_b\u001b[0m\u001b[0;34m,\u001b[0m \u001b[0mw_all\u001b[0m\u001b[0;34m[\u001b[0m\u001b[0mj\u001b[0m\u001b[0;34m]\u001b[0m\u001b[0;34m)\u001b[0m\u001b[0;34m\u001b[0m\u001b[0;34m\u001b[0m\u001b[0m\n\u001b[0m\u001b[1;32m     11\u001b[0m   \u001b[0mstyle\u001b[0m \u001b[0;34m=\u001b[0m \u001b[0;34m'b-'\u001b[0m \u001b[0;32mif\u001b[0m \u001b[0mj\u001b[0m\u001b[0;34m>\u001b[0m\u001b[0;36m0\u001b[0m \u001b[0;32melse\u001b[0m \u001b[0;34m'r--'\u001b[0m\u001b[0;34m\u001b[0m\u001b[0;34m\u001b[0m\u001b[0m\n\u001b[1;32m     12\u001b[0m   \u001b[0mplt\u001b[0m\u001b[0;34m.\u001b[0m\u001b[0mplot\u001b[0m\u001b[0;34m(\u001b[0m\u001b[0mX_new_b\u001b[0m\u001b[0;34m[\u001b[0m\u001b[0;34m:\u001b[0m\u001b[0;34m,\u001b[0m\u001b[0;36m1\u001b[0m\u001b[0;34m]\u001b[0m\u001b[0;34m,\u001b[0m\u001b[0my_hat\u001b[0m\u001b[0;34m,\u001b[0m\u001b[0mstyle\u001b[0m\u001b[0;34m)\u001b[0m\u001b[0;34m\u001b[0m\u001b[0;34m\u001b[0m\u001b[0m\n",
            "\u001b[0;32m<ipython-input-102-c79035dc9f8a>\u001b[0m in \u001b[0;36mpredict\u001b[0;34m(X, w)\u001b[0m\n\u001b[1;32m      9\u001b[0m   '''\n\u001b[1;32m     10\u001b[0m   \u001b[0;31m# checking feature matrix and weight vector have compatible shape\u001b[0m\u001b[0;34m\u001b[0m\u001b[0;34m\u001b[0m\u001b[0;34m\u001b[0m\u001b[0m\n\u001b[0;32m---> 11\u001b[0;31m   \u001b[0;32massert\u001b[0m \u001b[0mX\u001b[0m\u001b[0;34m.\u001b[0m\u001b[0mshape\u001b[0m\u001b[0;34m[\u001b[0m\u001b[0;34m-\u001b[0m\u001b[0;36m1\u001b[0m\u001b[0;34m]\u001b[0m \u001b[0;34m==\u001b[0m \u001b[0mw\u001b[0m\u001b[0;34m.\u001b[0m\u001b[0mshape\u001b[0m\u001b[0;34m[\u001b[0m\u001b[0;36m0\u001b[0m\u001b[0;34m]\u001b[0m\u001b[0;34m,\u001b[0m \u001b[0;34m\"X and w dont have compatible dimensions\"\u001b[0m\u001b[0;34m\u001b[0m\u001b[0;34m\u001b[0m\u001b[0m\n\u001b[0m\u001b[1;32m     12\u001b[0m   \u001b[0;32mreturn\u001b[0m \u001b[0mX\u001b[0m \u001b[0;34m@\u001b[0m \u001b[0mw\u001b[0m\u001b[0;34m\u001b[0m\u001b[0;34m\u001b[0m\u001b[0m\n",
            "\u001b[0;31mAssertionError\u001b[0m: X and w dont have compatible dimensions"
          ]
        }
      ]
    },
    {
      "cell_type": "markdown",
      "source": [
        "**Learning Curve:**"
      ],
      "metadata": {
        "id": "x1pq75NEdiv2"
      }
    },
    {
      "cell_type": "code",
      "source": [
        "def plot_learning_curves(err_all):\n",
        "  plt.plot(err_all)\n",
        "  plt.xlabel(\"iteration #\")\n",
        "  plt.ylabel(\"Loss $J(\\mathbf{w})$\")"
      ],
      "metadata": {
        "id": "KyxRM-YbdmvZ"
      },
      "execution_count": null,
      "outputs": []
    },
    {
      "cell_type": "code",
      "source": [
        "w, err_all, w_all = gradient_descent(X_train, y_train, lr=0.000001, num_epochs=2000)\n",
        "plot_learning_curves(err_all)"
      ],
      "metadata": {
        "id": "6ImiC-0EeDeR",
        "colab": {
          "base_uri": "https://localhost:8080/",
          "height": 899
        },
        "outputId": "9933ce48-728b-4036-c058-51e513b5e00e"
      },
      "execution_count": null,
      "outputs": [
        {
          "output_type": "stream",
          "name": "stdout",
          "text": [
            "\n",
            "Iteration #: 0, loss: 19673.61\n",
            "Iteration #: 100, loss: 3568.67\n",
            "Iteration #: 200, loss: 3568.67\n",
            "Iteration #: 300, loss: 3568.67\n",
            "Iteration #: 400, loss: 3568.67\n",
            "Iteration #: 500, loss: 3568.67\n",
            "Iteration #: 600, loss: 3568.67\n",
            "Iteration #: 700, loss: 3568.67\n",
            "Iteration #: 800, loss: 3568.67\n",
            "Iteration #: 900, loss: 3568.67\n",
            "Iteration #: 1000, loss: 3568.67\n",
            "Iteration #: 1100, loss: 3568.67\n",
            "Iteration #: 1200, loss: 3568.67\n",
            "Iteration #: 1300, loss: 3568.67\n",
            "Iteration #: 1400, loss: 3568.67\n",
            "Iteration #: 1500, loss: 3568.67\n",
            "Iteration #: 1600, loss: 3568.67\n",
            "Iteration #: 1700, loss: 3568.67\n",
            "Iteration #: 1800, loss: 3568.67\n",
            "Iteration #: 1900, loss: 3568.67\n"
          ]
        },
        {
          "output_type": "error",
          "ename": "TypeError",
          "evalue": "ignored",
          "traceback": [
            "\u001b[0;31m---------------------------------------------------------------------------\u001b[0m",
            "\u001b[0;31mTypeError\u001b[0m                                 Traceback (most recent call last)",
            "\u001b[0;32m<ipython-input-110-7b4697b18886>\u001b[0m in \u001b[0;36m<module>\u001b[0;34m()\u001b[0m\n\u001b[1;32m      1\u001b[0m \u001b[0mw\u001b[0m\u001b[0;34m,\u001b[0m \u001b[0merr_all\u001b[0m\u001b[0;34m,\u001b[0m \u001b[0mw_all\u001b[0m \u001b[0;34m=\u001b[0m \u001b[0mgradient_descent\u001b[0m\u001b[0;34m(\u001b[0m\u001b[0mX_train\u001b[0m\u001b[0;34m,\u001b[0m \u001b[0my_train\u001b[0m\u001b[0;34m,\u001b[0m \u001b[0mlr\u001b[0m\u001b[0;34m=\u001b[0m\u001b[0;36m0.000001\u001b[0m\u001b[0;34m,\u001b[0m \u001b[0mnum_epochs\u001b[0m\u001b[0;34m=\u001b[0m\u001b[0;36m2000\u001b[0m\u001b[0;34m)\u001b[0m\u001b[0;34m\u001b[0m\u001b[0;34m\u001b[0m\u001b[0m\n\u001b[0;32m----> 2\u001b[0;31m \u001b[0mplot_learning_curves\u001b[0m\u001b[0;34m(\u001b[0m\u001b[0merr_all\u001b[0m\u001b[0;34m)\u001b[0m\u001b[0;34m\u001b[0m\u001b[0;34m\u001b[0m\u001b[0m\n\u001b[0m",
            "\u001b[0;32m<ipython-input-109-a2038b28b607>\u001b[0m in \u001b[0;36mplot_learning_curves\u001b[0;34m(err_all)\u001b[0m\n\u001b[1;32m      1\u001b[0m \u001b[0;32mdef\u001b[0m \u001b[0mplot_learning_curves\u001b[0m\u001b[0;34m(\u001b[0m\u001b[0merr_all\u001b[0m\u001b[0;34m)\u001b[0m\u001b[0;34m:\u001b[0m\u001b[0;34m\u001b[0m\u001b[0;34m\u001b[0m\u001b[0m\n\u001b[1;32m      2\u001b[0m   \u001b[0mplt\u001b[0m\u001b[0;34m.\u001b[0m\u001b[0mplot\u001b[0m\u001b[0;34m(\u001b[0m\u001b[0merr_all\u001b[0m\u001b[0;34m)\u001b[0m\u001b[0;34m\u001b[0m\u001b[0;34m\u001b[0m\u001b[0m\n\u001b[0;32m----> 3\u001b[0;31m   \u001b[0mplt\u001b[0m\u001b[0;34m.\u001b[0m\u001b[0mxlabel\u001b[0m\u001b[0;34m(\u001b[0m\u001b[0;34m\"iteration #\"\u001b[0m\u001b[0;34m)\u001b[0m\u001b[0;34m\u001b[0m\u001b[0;34m\u001b[0m\u001b[0m\n\u001b[0m\u001b[1;32m      4\u001b[0m   \u001b[0mplt\u001b[0m\u001b[0;34m.\u001b[0m\u001b[0mylabel\u001b[0m\u001b[0;34m(\u001b[0m\u001b[0;34m\"Loss $J(\\mathbf{w})$\"\u001b[0m\u001b[0;34m)\u001b[0m\u001b[0;34m\u001b[0m\u001b[0;34m\u001b[0m\u001b[0m\n",
            "\u001b[0;31mTypeError\u001b[0m: 'str' object is not callable"
          ]
        },
        {
          "output_type": "display_data",
          "data": {
            "text/plain": [
              "<Figure size 432x288 with 1 Axes>"
            ],
            "image/png": "[encoded data removed]"
          },
          "metadata": {
            "needs_background": "light"
          }
        }
      ]
    },
    {
      "cell_type": "code",
      "source": [
        "w, err_all, w_all = gradient_descent(X_train, y_train, lr=0.0001, num_epochs=2000)\n",
        "plot_learning_curves(err_all)"
      ],
      "metadata": {
        "colab": {
          "base_uri": "https://localhost:8080/",
          "height": 643
        },
        "id": "VJCWPLEJfqPO",
        "outputId": "57e07099-4d74-492d-f94d-690b4ce4304c"
      },
      "execution_count": null,
      "outputs": [
        {
          "output_type": "stream",
          "name": "stdout",
          "text": [
            "\n",
            "Iteration #: 0, loss: 15951.73\n",
            "Iteration #: 100, loss: 111.32\n",
            "Iteration #: 200, loss: 86.29\n",
            "Iteration #: 300, loss: 70.50\n",
            "Iteration #: 400, loss: 60.53\n",
            "Iteration #: 500, loss: 54.24\n",
            "Iteration #: 600, loss: 50.27\n",
            "Iteration #: 700, loss: 47.76\n",
            "Iteration #: 800, loss: 46.18\n",
            "Iteration #: 900, loss: 45.18\n",
            "Iteration #: 1000, loss: 44.55\n",
            "Iteration #: 1100, loss: 44.15\n",
            "Iteration #: 1200, loss: 43.90\n",
            "Iteration #: 1300, loss: 43.75\n",
            "Iteration #: 1400, loss: 43.65\n",
            "Iteration #: 1500, loss: 43.58\n",
            "Iteration #: 1600, loss: 43.54\n",
            "Iteration #: 1700, loss: 43.52\n",
            "Iteration #: 1800, loss: 43.50\n",
            "Iteration #: 1900, loss: 43.49\n"
          ]
        },
        {
          "output_type": "display_data",
          "data": {
            "text/plain": [
              "<Figure size 432x288 with 1 Axes>"
            ],
            "image/png": "[encoded data removed]"
          },
          "metadata": {
            "needs_background": "light"
          }
        }
      ]
    },
    {
      "cell_type": "code",
      "source": [
        "w, err_all, w_all = gradient_descent(X_train, y_train, lr=0.01, num_epochs=2000)\n",
        "plot_learning_curves(err_all)"
      ],
      "metadata": {
        "colab": {
          "base_uri": "https://localhost:8080/",
          "height": 744
        },
        "id": "_4HBbQ67fvQq",
        "outputId": "afa173f1-3669-4dd0-ef64-3b235a626669"
      },
      "execution_count": null,
      "outputs": [
        {
          "output_type": "stream",
          "name": "stdout",
          "text": [
            "\n",
            "Iteration #: 0, loss: 15951.73\n",
            "Iteration #: 100, loss: 642617986138636812851809809401458775902739600524628887406476249011335778743996394385101408571257419253600224002339952360670702406700575336367346033454901636890226485296341036056258765400876299538817895235805160996424251190622639204054992338695508794306835886404803808933649055744.00\n",
            "Iteration #: 200, loss:  inf\n",
            "Iteration #: 300, loss:  nan\n",
            "Iteration #: 400, loss:  nan\n",
            "Iteration #: 500, loss:  nan\n",
            "Iteration #: 600, loss:  nan\n",
            "Iteration #: 700, loss:  nan\n",
            "Iteration #: 800, loss:  nan\n",
            "Iteration #: 900, loss:  nan\n",
            "Iteration #: 1000, loss:  nan\n",
            "Iteration #: 1100, loss:  nan\n",
            "Iteration #: 1200, loss:  nan\n",
            "Iteration #: 1300, loss:  nan\n",
            "Iteration #: 1400, loss:  nan\n",
            "Iteration #: 1500, loss:  nan\n",
            "Iteration #: 1600, loss:  nan\n",
            "Iteration #: 1700, loss:  nan\n",
            "Iteration #: 1800, loss:  nan\n",
            "Iteration #: 1900, loss:  nan\n"
          ]
        },
        {
          "output_type": "stream",
          "name": "stderr",
          "text": [
            "/usr/local/lib/python3.7/dist-packages/ipykernel_launcher.py:11: RuntimeWarning: overflow encountered in matmul\n",
            "  # This is added back by InteractiveShellApp.init_path()\n",
            "/usr/local/lib/python3.7/dist-packages/ipykernel_launcher.py:11: RuntimeWarning: invalid value encountered in subtract\n",
            "  # This is added back by InteractiveShellApp.init_path()\n"
          ]
        },
        {
          "output_type": "display_data",
          "data": {
            "text/plain": [
              "<Figure size 432x288 with 1 Axes>"
            ],
            "image/png": "[encoded data removed]"
          },
          "metadata": {
            "needs_background": "light"
          }
        }
      ]
    },
    {
      "cell_type": "markdown",
      "source": [
        "## MiniBatch Gradient Descent (MGBGD)"
      ],
      "metadata": {
        "id": "ixEC141Pz-6S"
      }
    },
    {
      "cell_type": "markdown",
      "source": [
        "To peform weight updates by computing gradient descent on batches of small number of examples."
      ],
      "metadata": {
        "id": "edVPOF7V0MUG"
      }
    },
    {
      "cell_type": "code",
      "source": [
        "t0, t1 = 200, 100000\n",
        "def learning_schedule(t):\n",
        "  return (t0 / (t + t1))"
      ],
      "metadata": {
        "id": "OwEFl3UO3Wr5"
      },
      "execution_count": null,
      "outputs": []
    },
    {
      "cell_type": "code",
      "source": [
        "def mini_batch_gd(X:np.ndarray, y:np.ndarray, num_iters:int, minibatch_size:int):\n",
        "  ''' Estimates paramaters of linear regression through mini batch gradient descent\n",
        "\n",
        "      Args:\n",
        "        X : feature matrix\n",
        "        y : label vector\n",
        "        num_iters : number of iterations\n",
        "        minibatch_size : batch size\n",
        "      \n",
        "      Returns:\n",
        "        weight vector\n",
        "        error vector of all iterations\n",
        "        weight vector of all iterations\n",
        "  '''\n",
        "  w_all = []  # weight vector of all iterations\n",
        "  err_all = [] # loss vector of all iterations\n",
        "\n",
        "  #weight vector(parameter vector) initialized to [0,0]\n",
        "  w = np.zeros((X.shape[1]))\n",
        "  t = 0\n",
        "\n",
        "  for epoch in range(num_iters):\n",
        "    shuffled_indices = np.random.permutation(X.shape[0])\n",
        "    X_shuffled = X[shuffled_indices]\n",
        "    y_shuffled = y[shuffled_indices]\n",
        "\n",
        "    for i in range(0,X.shape[0],minibatch_size):\n",
        "      t += 1\n",
        "      xi = X_shuffled[i:i+minibatch_size]\n",
        "      yi = y_shuffled[i:i+minibatch_size]\n",
        "      err_all.append(loss(xi, yi, w))\n",
        "\n",
        "      gradients = 2/minibatch_size * calculate_gradient(xi, yi, w)\n",
        "      lr = learning_schedule(t)\n",
        "      w = update_weights(w, gradients,lr)\n",
        "      w_all.append(w)\n",
        "\n",
        "  return w, err_all, w_all"
      ],
      "metadata": {
        "id": "z6n9EKHy3oBR"
      },
      "execution_count": null,
      "outputs": []
    },
    {
      "cell_type": "code",
      "source": [
        "# Test MBGD\n",
        "\n",
        "import unittest\n",
        "\n",
        "class TestMiniBatchGD(unittest.TestCase):\n",
        "  def test_mini_batch_gd(self):\n",
        "    feature_matrix = X_train\n",
        "    label_vector = y_train\n",
        "    expected_weights = np.array([4.,3.])\n",
        "\n",
        "    w, error_all, w_all = mini_batch_gd(feature_matrix,label_vector,200,8)\n",
        "\n",
        "    self.assertEqual(w.shape, (2,))\n",
        "\n",
        "    np.testing.assert_array_almost_equal(expected_weights, w, decimal=0)\n",
        "\n",
        "unittest.main(argv=[''],defaultTest=\"TestMiniBatchGD\",verbosity=2, exit=False)"
      ],
      "metadata": {
        "colab": {
          "base_uri": "https://localhost:8080/"
        },
        "id": "vKfQ5b1969Ss",
        "outputId": "dece98ff-21eb-4b2b-b473-ebd6cbf67ffa"
      },
      "execution_count": null,
      "outputs": [
        {
          "output_type": "stream",
          "name": "stderr",
          "text": [
            "test_mini_batch_gd (__main__.TestMiniBatchGD) ... ok\n",
            "\n",
            "----------------------------------------------------------------------\n",
            "Ran 1 test in 0.039s\n",
            "\n",
            "OK\n"
          ]
        },
        {
          "output_type": "execute_result",
          "data": {
            "text/plain": [
              "<unittest.main.TestProgram at 0x7f87aad98090>"
            ]
          },
          "metadata": {},
          "execution_count": 80
        }
      ]
    },
    {
      "cell_type": "code",
      "source": [
        "w, err_all, w_all = mini_batch_gd(X_train, y_train, 20, 8)\n",
        "plot_learning_curves(err_all)"
      ],
      "metadata": {
        "colab": {
          "base_uri": "https://localhost:8080/",
          "height": 279
        },
        "id": "R-V4wfGpI4D0",
        "outputId": "6900a09f-f20d-452d-e12c-9ad71faa7669"
      },
      "execution_count": null,
      "outputs": [
        {
          "output_type": "display_data",
          "data": {
            "text/plain": [
              "<Figure size 432x288 with 1 Axes>"
            ],
            "image/png": "[encoded data removed]"
          },
          "metadata": {
            "needs_background": "light"
          }
        }
      ]
    },
    {
      "cell_type": "code",
      "source": [
        "batch_sizes = {1, 2, 4, 8, 16, 32, 64}\n",
        "mbgd_status = {}\n",
        "\n",
        "for batch_size in batch_sizes:\n",
        "  w, err_all, w_all = mini_batch_gd(X_train, y_train,100, batch_size)\n",
        "  mbgd_status[batch_size] = err_all\n",
        "  legend = 'batch-size: %d'%batch_size\n",
        "  plt.plot(err_all,label=legend)\n",
        "\n",
        "plt.xlabel = 'iteration #'\n",
        "plt.ylabel = 'Loss $J(w)$'\n",
        "plt.legend() "
      ],
      "metadata": {
        "colab": {
          "base_uri": "https://localhost:8080/",
          "height": 282
        },
        "id": "kxk0iBivJRWQ",
        "outputId": "6373bf29-c45e-4f27-c951-d585619a3cb2"
      },
      "execution_count": null,
      "outputs": [
        {
          "output_type": "execute_result",
          "data": {
            "text/plain": [
              "<matplotlib.legend.Legend at 0x7f87a9fd7350>"
            ]
          },
          "metadata": {},
          "execution_count": 84
        },
        {
          "output_type": "display_data",
          "data": {
            "text/plain": [
              "<Figure size 432x288 with 1 Axes>"
            ],
            "image/png": "[encoded data removed]"
          },
          "metadata": {
            "needs_background": "light"
          }
        }
      ]
    },
    {
      "cell_type": "markdown",
      "source": [
        "## Stochastic Gradient Descent (SGD)"
      ],
      "metadata": {
        "id": "odbbt_hbQO_K"
      }
    },
    {
      "cell_type": "markdown",
      "source": [
        "The key idea here is to perform weight updates by computing gradient descent on one example at a time.  \n",
        "In fact MBGD with number of examples per batch = 1."
      ],
      "metadata": {
        "id": "AEbSAs0tQk1p"
      }
    },
    {
      "cell_type": "code",
      "source": [
        "def sgd(X:np.ndarray, y:np.ndarray, num_epochs:int):\n",
        "  ''' Estimates paramaters of linear regression through mini batch gradient descent\n",
        "\n",
        "      Args:\n",
        "        X : feature matrix\n",
        "        y : label vector\n",
        "        num_epochs : number of iterations\n",
        "        \n",
        "      Returns:\n",
        "        weight vector\n",
        "        error vector of all iterations\n",
        "        weight vector of all iterations\n",
        "  '''\n",
        "  w_all = []  # weight vector of all iterations\n",
        "  err_all = [] # loss vector of all iterations\n",
        "\n",
        "  #weight vector(parameter vector) initialized to [0,0]\n",
        "  w = np.zeros((X.shape[1]))\n",
        "\n",
        "  for epoch in range(num_epochs):\n",
        "    for i in range(X.shape[0]):\n",
        "      random_index = np.random.randint(X.shape[0])\n",
        "      xi = X[random_index:random_index+1]\n",
        "      yi = y[random_index:random_index+1]\n",
        "      err_all.append(loss(xi, yi, w))\n",
        "\n",
        "      gradients = 2 * calculate_gradient(xi, yi, w)\n",
        "      lr = learning_schedule(epoch * X.shape[0]+i)\n",
        "      w = update_weights(w, gradients,lr)\n",
        "      w_all.append(w)\n",
        "\n",
        "  return w, err_all, w_all"
      ],
      "metadata": {
        "id": "-JPG679bQ5VQ"
      },
      "execution_count": null,
      "outputs": []
    },
    {
      "cell_type": "code",
      "source": [
        "# Test SGD\n",
        "\n",
        "import unittest\n",
        "\n",
        "class TestStochasticGD(unittest.TestCase):\n",
        "  def test_stochastic_gd(self):\n",
        "    feature_matrix = X_train\n",
        "    label_vector = y_train\n",
        "    expected_weights = np.array([4.,3.])\n",
        "\n",
        "    w, error_all, w_all = sgd(feature_matrix,label_vector,20)\n",
        "\n",
        "    self.assertEqual(w.shape, (2,))\n",
        "\n",
        "    np.testing.assert_array_almost_equal(expected_weights, w, decimal=0)\n",
        "\n",
        "unittest.main(argv=[''],defaultTest=\"TestStochasticGD\",verbosity=2, exit=False)"
      ],
      "metadata": {
        "colab": {
          "base_uri": "https://localhost:8080/"
        },
        "id": "XYcryoqdTUJY",
        "outputId": "2c3b3c6a-d22c-4a43-f1fc-b044b448384a"
      },
      "execution_count": null,
      "outputs": [
        {
          "output_type": "stream",
          "name": "stderr",
          "text": [
            "test_stochastic_gd (__main__.TestStochasticGD) ... ok\n",
            "\n",
            "----------------------------------------------------------------------\n",
            "Ran 1 test in 0.041s\n",
            "\n",
            "OK\n"
          ]
        },
        {
          "output_type": "execute_result",
          "data": {
            "text/plain": [
              "<unittest.main.TestProgram at 0x7f87a9ffbb90>"
            ]
          },
          "metadata": {},
          "execution_count": 88
        }
      ]
    },
    {
      "cell_type": "code",
      "source": [
        "w, err_all, w_all = sgd(X_train, y_train, 10)\n",
        "plot_learning_curves(err_all)"
      ],
      "metadata": {
        "colab": {
          "base_uri": "https://localhost:8080/",
          "height": 535
        },
        "id": "y1f2niScTzdP",
        "outputId": "718d88cb-076a-4763-fa2f-90b08168d94b"
      },
      "execution_count": null,
      "outputs": [
        {
          "output_type": "error",
          "ename": "TypeError",
          "evalue": "ignored",
          "traceback": [
            "\u001b[0;31m---------------------------------------------------------------------------\u001b[0m",
            "\u001b[0;31mTypeError\u001b[0m                                 Traceback (most recent call last)",
            "\u001b[0;32m<ipython-input-89-21efb4e0fdd1>\u001b[0m in \u001b[0;36m<module>\u001b[0;34m()\u001b[0m\n\u001b[1;32m      1\u001b[0m \u001b[0mw\u001b[0m\u001b[0;34m,\u001b[0m \u001b[0merr_all\u001b[0m\u001b[0;34m,\u001b[0m \u001b[0mw_all\u001b[0m \u001b[0;34m=\u001b[0m \u001b[0msgd\u001b[0m\u001b[0;34m(\u001b[0m\u001b[0mX_train\u001b[0m\u001b[0;34m,\u001b[0m \u001b[0my_train\u001b[0m\u001b[0;34m,\u001b[0m \u001b[0;36m10\u001b[0m\u001b[0;34m)\u001b[0m\u001b[0;34m\u001b[0m\u001b[0;34m\u001b[0m\u001b[0m\n\u001b[0;32m----> 2\u001b[0;31m \u001b[0mplot_learning_curves\u001b[0m\u001b[0;34m(\u001b[0m\u001b[0merr_all\u001b[0m\u001b[0;34m)\u001b[0m\u001b[0;34m\u001b[0m\u001b[0;34m\u001b[0m\u001b[0m\n\u001b[0m",
            "\u001b[0;32m<ipython-input-64-a3f14c1b6215>\u001b[0m in \u001b[0;36mplot_learning_curves\u001b[0;34m(err_all)\u001b[0m\n\u001b[1;32m      1\u001b[0m \u001b[0;32mdef\u001b[0m \u001b[0mplot_learning_curves\u001b[0m\u001b[0;34m(\u001b[0m\u001b[0merr_all\u001b[0m\u001b[0;34m)\u001b[0m\u001b[0;34m:\u001b[0m\u001b[0;34m\u001b[0m\u001b[0;34m\u001b[0m\u001b[0m\n\u001b[1;32m      2\u001b[0m   \u001b[0mplt\u001b[0m\u001b[0;34m.\u001b[0m\u001b[0mplot\u001b[0m\u001b[0;34m(\u001b[0m\u001b[0merr_all\u001b[0m\u001b[0;34m)\u001b[0m\u001b[0;34m\u001b[0m\u001b[0;34m\u001b[0m\u001b[0m\n\u001b[0;32m----> 3\u001b[0;31m   \u001b[0mplt\u001b[0m\u001b[0;34m.\u001b[0m\u001b[0mxlabel\u001b[0m\u001b[0;34m(\u001b[0m\u001b[0;34m'Iteration #'\u001b[0m\u001b[0;34m)\u001b[0m\u001b[0;34m\u001b[0m\u001b[0;34m\u001b[0m\u001b[0m\n\u001b[0m\u001b[1;32m      4\u001b[0m   \u001b[0mplt\u001b[0m\u001b[0;34m.\u001b[0m\u001b[0mylabel\u001b[0m\u001b[0;34m(\u001b[0m\u001b[0;34m'Loss $J(\\mathbf{w})$'\u001b[0m\u001b[0;34m)\u001b[0m\u001b[0;34m\u001b[0m\u001b[0;34m\u001b[0m\u001b[0m\n",
            "\u001b[0;31mTypeError\u001b[0m: 'str' object is not callable"
          ]
        },
        {
          "output_type": "display_data",
          "data": {
            "text/plain": [
              "<Figure size 432x288 with 1 Axes>"
            ],
            "image/png": "[encoded data removed]"
          },
          "metadata": {
            "needs_background": "light"
          }
        }
      ]
    }
  ]
}