{
  "nbformat": 4,
  "nbformat_minor": 0,
  "metadata": {
    "colab": {
      "provenance": [],
      "authorship_tag": "ABX9TyNDllG5GTT6w6K1V6jqGSPZ"
    },
    "kernelspec": {
      "name": "python3",
      "display_name": "Python 3"
    },
    "language_info": {
      "name": "python"
    }
  },
  "cells": [
    {
      "cell_type": "code",
      "source": [
        "import numpy as np"
      ],
      "metadata": {
        "id": "PIwzHTSNQLd2"
      },
      "execution_count": null,
      "outputs": []
    },
    {
      "cell_type": "code",
      "source": [
        "def fit(X, y):\n",
        "    n_samples, n_features = X.shape\n",
        "    classes = np.unique(y)\n",
        "    n_classes = len(classes)\n",
        "    mean = np.zeros((n_classes, n_features), dtype=np.float64)\n",
        "    var = np.zeros((n_classes, n_features), dtype=np.float64)\n",
        "    prior = np.zeros(n_classes, dtype=np.float64)\n",
        "    \n",
        "    for idx, c in enumerate(classes):\n",
        "        X_c = X[y == c]\n",
        "        mean[idx, :] = np.mean(X_c, axis = 0)\n",
        "        var[idx, :] = np.var(X_c, axis=0)\n",
        "        prior[idx] = X_c.shape[0] / float(n_samples)\n",
        "    print('mean: ', mean)\n",
        "    print('var: ', var)\n",
        "    print('prior: ', prior)\n",
        "    return mean, var, prior\n",
        "\n",
        "def calc_pdf(X, m, v):\n",
        "    z = np.power(2 * np.pi, X.shape[0]/2) * np.power(np.linalg.det(v), 1/2)\n",
        "    pdf = (z/2) * np.exp(-(1/2) * (X - m).T @ np.linalg.inv(v) @ (X - m))\n",
        "    return pdf\n",
        "\n",
        "def calc_log_likelyhood_prior_prod(X, mean, var, prior):\n",
        "    classes = [0, 1, 2, 3]\n",
        "    llpp = np.zeros((X.shape[0],2),dtype=np.float64)\n",
        "    for x_idx, x in enumerate(X):\n",
        "      for idx, c in enumerate(classes):\n",
        "        m = mean[idx]\n",
        "        v = np.diag(var[idx])\n",
        "        pdf = calc_pdf(x, m, v)\n",
        "        pr = prior[idx]\n",
        "        # print('log pdf: ', np.log(pdf))\n",
        "        # print('log prior: ', np.log(pr))\n",
        "        llpp[x_idx, c] = np.log(pdf) + np.log(pr)\n",
        "      #print('LLPP: ', llpp)\n",
        "          \n",
        "    return llpp\n",
        "\n",
        "def predict(X,m,v,p):\n",
        "  plp = calc_log_likelyhood_prior_prod(X,m,v,p)\n",
        "  print('Predict: ', plp)\n",
        "  return np.argmax(plp, axis=1)\n",
        "\n",
        "\n",
        "def naive_gaussian_predict(X_train, y_train, X_test):\n",
        "    \"\"\"\n",
        "    Train a Gaussian NB and predict the labels on test set \n",
        "\n",
        "    Arguments:\n",
        "        X_train: train samples, (800, 2), np.ndarray \n",
        "        y_train: train labels,  (800, ), np.ndarray \n",
        "        X_test:  test samples, (200, 2), np.ndarray\n",
        "    Return  \n",
        "        y_pred: test labels, (200, ) np.ndarray\n",
        "    \"\"\"\n",
        "    mean, var, prior = fit(X_train, y_train)\n",
        "    \n",
        "    q = calc_log_likelyhood_prior_prod(X_test, mean, var, prior)\n",
        "    #print(q)\n",
        "    return np.argmax(q, axis=1)"
      ],
      "metadata": {
        "id": "ieyXDLsRFMcX"
      },
      "execution_count": null,
      "outputs": []
    },
    {
      "cell_type": "code",
      "source": [
        "X_train = np.array([[-1.43313789,  0.87886565], [ 1.73544375,  5.74074094], [-0.20466712, -0.17858128], [ 1.13599219,  5.89066163], [ 2.74485936,  3.86226574], [-0.62227035,  0.67791906], [ 0.18273191,  1.69422586], [-1.49552969, -0.16019098], [ 1.48276596,  7.56215945], [ 2.5756331,   4.79358451], [-0.02672632, -0.9002082 ], [-0.47535179,  0.9614788 ], [-0.62624673,  6.19767345], [-0.36105075,  4.71649291], [-1.04671485,  5.13251142], [ 0.36400416,  0.30274527], [-0.01760132,  4.93424899], [-1.24501648, -1.52927977], [ 0.74281699, -0.26205474], [-1.49643126,  4.29044987], [ 1.43098835,  4.8552861 ], [ 0.83629896,  5.33601689], [ 0.76640666,  2.56599276], [-0.55953029,  4.00154206], [-0.05876738, -0.34313126]])\n",
        "y_train = np.array([0, 1, 0, 1, 1, 0, 0, 0, 1, 1, 0, 0, 1, 1, 1, 0, 1, 0, 0, 1, 1, 1, 0, 1, 0])\n",
        "x_test = np.array([[-0.27459298, -0.33154335], [-1.90328844,  8.63813903], [-1.1212894,   5.11997934], [-0.32198076,  1.53187219], [-1.20681238,  5.03012668], [ 0.83820448,  3.74266307], [ 0.9278087,  -0.6647579 ], [ 0.65004053,  5.65506597], [ 1.76557838,  5.03833828], [ 0.55750544,  2.77951423], [ 0.72126917,  6.16397755], [ 1.9633985,   7.09960884], [ 0.7731207,  -1.67230658], [ 1.78351614,  2.52235728], [-1.45051856,  7.82657438], [ 0.27545036,  5.87035969], [ 0.04892322,  4.0835455 ], [-1.96195702,  8.20859446], [ 1.29811144, -3.45230805], [-1.17286752, -0.65626347]])\n",
        "print(X_train.shape, y_train.shape, x_test.shape)"
      ],
      "metadata": {
        "colab": {
          "base_uri": "https://localhost:8080/"
        },
        "id": "UkwhRYf3JfES",
        "outputId": "fcedc926-7ea2-4ae8-de89-6ad5d4a3505d"
      },
      "execution_count": null,
      "outputs": [
        {
          "output_type": "stream",
          "name": "stdout",
          "text": [
            "(25, 2) (25,) (20, 2)\n"
          ]
        }
      ]
    },
    {
      "cell_type": "code",
      "source": [
        "mean, var, prior = fit(X_train, y_train)\n",
        "print(mean, var, prior)"
      ],
      "metadata": {
        "colab": {
          "base_uri": "https://localhost:8080/"
        },
        "id": "5dOu76iZHIgd",
        "outputId": "a8534a33-2f2e-418d-f573-7c507181a1b7"
      },
      "execution_count": null,
      "outputs": [
        {
          "output_type": "stream",
          "name": "stdout",
          "text": [
            "mean:  [[-0.29212561  0.30898176]\n",
            " [ 0.60264665  5.17797184]]\n",
            "var:  [[0.56506611 1.16251618]\n",
            " [1.75888975 0.92329467]]\n",
            "prior:  [0.48 0.52]\n",
            "[[-0.29212561  0.30898176]\n",
            " [ 0.60264665  5.17797184]] [[0.56506611 1.16251618]\n",
            " [1.75888975 0.92329467]] [0.48 0.52]\n"
          ]
        }
      ]
    },
    {
      "cell_type": "code",
      "source": [
        "predict(X_train,mean, var, prior)"
      ],
      "metadata": {
        "id": "tl3AvRdfQ7yh"
      },
      "execution_count": null,
      "outputs": []
    },
    {
      "cell_type": "code",
      "source": [
        "naive_gaussian_predict(X_train, y_train, x_test)"
      ],
      "metadata": {
        "colab": {
          "base_uri": "https://localhost:8080/"
        },
        "id": "JoqavbdxHY-a",
        "outputId": "119c2daa-c562-4196-cba5-ff283dff8d92"
      },
      "execution_count": null,
      "outputs": [
        {
          "output_type": "stream",
          "name": "stdout",
          "text": [
            "mean:  [[-0.29212561  0.30898176]\n",
            " [ 0.60264665  5.17797184]]\n",
            "var:  [[0.56506611 1.16251618]\n",
            " [1.75888975 0.92329467]]\n",
            "prior:  [0.48 0.52]\n"
          ]
        },
        {
          "output_type": "execute_result",
          "data": {
            "text/plain": [
              "array([0, 1, 1, 0, 1, 1, 0, 1, 1, 1, 1, 1, 0, 1, 1, 1, 1, 1, 0, 0])"
            ]
          },
          "metadata": {},
          "execution_count": 9
        }
      ]
    },
    {
      "cell_type": "code",
      "source": [
        "predict(x_test,mean,var,prior)"
      ],
      "metadata": {
        "id": "v4d5Q8EAIUoP"
      },
      "execution_count": null,
      "outputs": []
    },
    {
      "cell_type": "code",
      "source": [
        "X = np.array([[0.25,3.14], [0.48,8.96],[0.75,9.0], [0.55, 6.5], [0.0, 10.0], [1.0, 4.5]])\n",
        "y1 = np.array([1, 2, 1, 2, 1, 2])\n",
        "y2 = np.array([1, 1, 1, 2, 2, 2])\n",
        "m1, v1, pr1 = fit(X, y1)\n",
        "m2, v2, pr2 = fit(X, y2)"
      ],
      "metadata": {
        "colab": {
          "base_uri": "https://localhost:8080/"
        },
        "id": "W8c_-yyyPRIg",
        "outputId": "07b2d90f-df21-4e8b-8b7c-1ffd94a298dc"
      },
      "execution_count": null,
      "outputs": [
        {
          "output_type": "stream",
          "name": "stdout",
          "text": [
            "mean:  [[0.33333333 7.38      ]\n",
            " [0.67666667 6.65333333]]\n",
            "var:  [[0.09722222 9.15546667]\n",
            " [0.05308889 3.32702222]]\n",
            "prior:  [0.5 0.5]\n",
            "mean:  [[0.49333333 7.03333333]\n",
            " [0.51666667 7.        ]]\n",
            "var:  [[0.04175556 7.57928889]\n",
            " [0.16722222 5.16666667]]\n",
            "prior:  [0.5 0.5]\n"
          ]
        }
      ]
    },
    {
      "cell_type": "code",
      "source": [],
      "metadata": {
        "id": "4NECfehYP2iH"
      },
      "execution_count": null,
      "outputs": []
    },
    {
      "cell_type": "code",
      "source": [
        "import numpy as np\n",
        "def fit(X, y):\n",
        "    n_samples, n_features = X.shape\n",
        "    classes = np.unique(y)\n",
        "    n_classes = len(classes)\n",
        "    \n",
        "    mean = np.zeros((n_classes,n_features), dtype=np.float64)\n",
        "    var = np.zeros((n_classes,n_features), dtype=np.float64)\n",
        "    prior = np.zeros(n_classes, dtype=np.float64)\n",
        "    \n",
        "    for idx, c in enumerate(classes):\n",
        "        X_c = X[y == c]\n",
        "        mean[idx, :] = np.mean(X_c, axis = 0)\n",
        "        var[idx, :] = np.var(X_c, axis=0)\n",
        "        prior[idx] = X_c.shape[0] / float(n_samples)\n",
        "    \n",
        "    return mean, var, prior\n",
        "\n",
        "def calc_pdf(x, m, v):\n",
        "    z = np.power(2 * np.pi, x.shape[0]/2) * np.power(np.linalg.det(v), 1/2)\n",
        "    pdf = (z/2) * np.exp(-(1/2) * (x - m).T @ np.linalg.inv(v) @ (x - m))\n",
        "    return pdf\n",
        "\n",
        "def calc_log_likelyhood_prior_prod(X, mean, var, prior):\n",
        "    classes = [0, 1, 2, 3]\n",
        "    log_like_pr_prod = np.zeros((X.shape[0],len(classes)), dtype=np.float64)\n",
        "    for x_idx, x in enumerate(X):\n",
        "        for idx, c in enumerate(classes):\n",
        "            m = mean[idx]\n",
        "            v = np.diag(var[idx])\n",
        "            log_like_pr_prod[x_idx, c] = np.log(calc_pdf(x,m,v)) + np.log(prior[idx])\n",
        "    return log_like_pr_prod\n",
        "\n",
        "def predict(X, mean, var, prior):\n",
        "    log_likelyhood_prior_prod = calc_log_likelyhood_prior_prod(X, mean, var, prior)\n",
        "    label_predicted = np.argmax(log_likelyhood_prior_prod, axis=1)\n",
        "    return label_predicted\n",
        "\n",
        "def naive_gmodel_eval(X_train, y_train, X_test, y_test):\n",
        "    \"\"\"\n",
        "    Perform multi-class classification and prepare classification report\n",
        "\n",
        "    Arguments:\n",
        "        X_train: training samples, (1800, 5), np.ndarray\n",
        "        y_train: training labels, (1800, ), np.ndarray, labels are 0, 1, 2 or 3\n",
        "        X_test:  test samples, (200, 5), np.ndarray\n",
        "        y_test:  test_labels, (200, ), np.ndarray, labels are 0, 1, 2, or 3\n",
        "    Return:\n",
        "        metrics: dict of dicts\n",
        "           key: label, int\n",
        "           value: dict\n",
        "               key: string\n",
        "               value: float\n",
        "    \"\"\"\n",
        "    mean, var, prior = fit(X_train, y_train)\n",
        "    y_predicted = predict(X_test, mean, var, prior)\n",
        "    print(y_predicted)\n",
        "    print(y_test)\n",
        "    metrics = {}\n",
        "    #eval_metric = {}\n",
        "    classes = [0, 1, 2, 3]\n",
        "    for i in range(len(classes)):\n",
        "        c = classes[i]\n",
        "        print(c)\n",
        "        eval_metric = dict()\n",
        "        TP = np.sum(np.where((y_predicted == c) & (y_test == c), 1, 0))\n",
        "        TN = np.sum(np.where((y_predicted != c) & (y_test != c), 1, 0))\n",
        "        FP = np.sum(np.where((y_predicted == c) & (y_test != c), 1, 0))\n",
        "        FN = np.sum(np.where((y_predicted != c) & (y_test == c), 1, 0))\n",
        "        print(TP, TN, FP, FN)\n",
        "        P = TP/(TP + FP)\n",
        "        R = TP/(TP + TN)\n",
        "        F1 = 2 * R * R /(P + R)\n",
        "        Acc = (TP + FN)/(TP + TN + FP + FN)\n",
        "        msc = 1 - Acc\n",
        "        print(P, R, F1, Acc, msc)\n",
        "        eval_metric['Precision'] = float(P)\n",
        "        eval_metric['Recall'] = float(R)\n",
        "        eval_metric['Accuracy'] = float(Acc)\n",
        "        eval_metric['F1 score'] = float(F1)\n",
        "        eval_metric['Misclassification Rate'] = float(msc)\n",
        "        metrics[classes[i]] = eval_metric\n",
        "    \n",
        "    return(metrics)"
      ],
      "metadata": {
        "id": "S2M5XRjjJN2B"
      },
      "execution_count": null,
      "outputs": []
    },
    {
      "cell_type": "code",
      "source": [
        "X1 = X1 = np.array([[-2.17519084e+00,5.52661237e+00,-8.58259499e+00,1.40639543e+01,-1.13206816e+01],\n",
        " [-1.13579154e+01,-8.27733259e+00,-4.52817610e+00,4.57991108e+00,-4.89895633e+00],\n",
        " [6.15253774e+00,5.24821058e-02,-4.12148754e+00,1.64614647e+00,-1.70040298e+01],\n",
        " [4.23190261e+00,5.50783812e-01,-2.55700315e+00,-9.85471314e+00,-9.70144210e+00],\n",
        " [-1.49648717e+00,-2.45909673e+00,-8.42191554e+00,2.77454691e-01,-1.13624619e+01],\n",
        " [-3.98303225e+00,4.82365584e+00,-6.99574002e+00,-1.28342158e+01,-2.50947001e+00],\n",
        " [-5.37306232e-01,-7.68700983e-01,-1.71914389e+01,-6.26259607e+00,-1.59564728e+01],\n",
        " [-3.83881250e+00,2.55262871e+00,9.18872190e+00,-1.00609405e+01,-9.91918514e+00],\n",
        " [-6.02336489e+00,-2.30114649e+00,3.12187616e-01,-2.97400389e+00,1.77142211e+00],\n",
        " [-7.32631860e+00,-5.25004623e-02,-1.21590490e+00,5.19202506e+00,6.13814403e+00],\n",
        " [-1.03597363e+01,-6.64053523e+00,3.64921244e+00,8.02230139e+00,-7.45683923e+00],\n",
        " [-3.90628914e+00,9.83274647e+00,-1.40484127e+01,-8.80035617e-01,-2.78292104e-02],\n",
        " [5.32109089e+00,4.12959054e+00,9.88307249e-01,-6.41769757e+00,-1.09246116e+01],\n",
        " [-2.41208153e+00,8.98398621e+00,-1.21887138e+01,-3.02567044e+00,-5.09274203e+00],\n",
        " [1.43649923e-01,5.05194243e+00,-1.79638857e+00,-4.80560057e+00,-2.40392717e+00],\n",
        " [-1.29720001e+01,9.57847439e-01,-9.03090848e+00,2.27705139e+00,1.04651946e+00],\n",
        " [-9.07050048e+00,-3.76470091e+00,-7.72697224e+00,-6.45654588e+00,-1.62908244e-02],\n",
        " [4.85980618e+00,5.34314675e+00,-6.31793940e+00,8.23428993e+00,-7.59324881e-01],\n",
        " [-2.28542323e+00,5.27015749e-01,-1.50256986e+01,5.15571980e-01,-2.31854175e+00],\n",
        " [7.28453707e+00,1.33529098e-01,-6.72911049e+00,9.75479514e+00,-1.56431748e+01],\n",
        " [6.11552007e+00,1.56074660e+00,-1.53066963e+01,-3.29210965e+00,-9.88106520e+00],\n",
        " [3.22590362e+00,1.56084112e-01,6.23958884e+00,-1.27310500e+01,-5.47241930e+00],\n",
        " [-8.71238066e+00,1.66995994e+00,-1.34420605e+01,3.62610705e+00,-6.42427740e+00],\n",
        " [-3.93098851e+00,4.79008703e+00,2.10088632e+00,7.76077964e+00,-9.51627871e+00],\n",
        " [2.14007638e+00,-3.68504049e-02,-5.89122461e+00,2.99665298e+00,-1.36611944e+01]])\n",
        "y1 = np.array([2, 1, 0, 3, 0, 0, 0, 3, 1, 1, 1, 0, 3, 0, 3, 1, 1, 2, 0, 2, 0, 3, 2, 2, 2])\n",
        "\n",
        "X2 = np.array([[ 1.05460567e+00,7.20355350e+00, -4.84679966e+00,3.46745033e-01,-1.00804015e+01],\n",
        " [-7.62640336e+00, -3.22368607e+00, -1.38081365e+01, -7.84154033e+00,-3.14351635e+00],\n",
        " [ 4.66031479e+00, -8.45739195e+00,2.75547079e+00, -5.93437228e+00,-6.37435456e+00],\n",
        " [-3.25610317e+00, -1.39624700e+01,7.95310963e-01,2.82698720e+00,-3.33509818e-01],\n",
        " [ 1.75896762e+00, -2.96358726e+00, -9.87567768e+00, -2.71763212e+00,-5.83571173e-02],\n",
        " [ 5.73991530e+00, -8.01065678e+00,6.12496043e+00, -9.83832380e-01,-7.07120909e+00],\n",
        " [-9.13052873e+00,2.17299385e+00, -8.97582553e+00, -8.92185932e-01,-3.34045950e+00],\n",
        " [ 8.37584641e-01, -5.33739622e+00, -3.83296750e+00, -1.12252263e+00, 6.25477227e+00],\n",
        " [ 4.39369860e+00,1.03721797e+00,2.09535845e+00, -1.16488770e+01,-3.90472034e+00],\n",
        " [ 1.10729770e+00,1.08478509e+01, -1.15073215e+01, -3.21912629e+00,-3.33755059e+00],\n",
        " [ 6.21935732e+00,1.02015431e+01, -1.57767139e+01, -2.13545912e+00,-1.13958956e+01],\n",
        " [-3.64872565e+00, -8.70187917e+00, -1.00962383e+00,1.97272004e+00,-8.02577016e+00],\n",
        " [-1.73456357e+00,3.86532602e+00, -7.09152115e+00, -9.90660472e+00,-1.03340048e+01],\n",
        " [ 5.90109801e+00,1.98544100e+00, -1.40029410e+01,2.66137533e+00,-1.71117764e+01],\n",
        " [ 7.61331345e+00,9.69675426e+00, -4.07218355e+00, -9.51453398e-03,-8.27517946e+00],\n",
        " [ 3.64090429e+00,6.72858475e+00, -1.34165272e+01,7.30386049e+00,-1.60015824e+01],\n",
        " [ 4.46411526e+00, -3.48473373e+00, -1.20574085e+00,1.47227194e+00,-9.95155707e+00],\n",
        " [-1.34872325e+01, -3.63045817e+00, -4.64160376e+00, -1.31816304e+01,-6.70779904e+00],\n",
        " [ 2.28915682e+00, -3.45818750e+00, -7.23686788e+00, -9.40041413e+00, 1.81744424e+00],\n",
        " [-8.21283273e+00,1.90298199e+00, -1.57463264e+01, -1.82523565e+00,-1.01979194e+01],\n",
        " [-1.66037000e+00, -1.57561854e+01, -7.87984954e+00, -6.47975917e+00, 3.15222164e+00],\n",
        " [-1.42373528e+01, -7.11931148e+00, -7.28436495e+00,4.33463247e+00, 3.09794527e+00],\n",
        " [-1.25131152e+01,1.32903167e+00, -5.17327182e+00,8.16818455e+00, 3.68688685e+00],\n",
        " [-9.09330433e+00, -6.23185272e+00, -8.38202037e+00,7.61223030e-01, 5.76622087e+00],\n",
        " [-7.00761395e+00,1.22421636e+00, -8.22679633e+00,4.53920093e+00,-5.34880624e+00]])\n",
        "y2 = np.array([2, 0, 3, 1, 2, 3, 0, 1, 3, 2, 0, 3, 0, 2, 2, 2, 3, 1, 1, 0, 1, 1, 0, 1, 2])"
      ],
      "metadata": {
        "id": "GCU_6Gn--qwx"
      },
      "execution_count": null,
      "outputs": []
    },
    {
      "cell_type": "code",
      "source": [
        "mean, var, prior = fit(X1, y1)\n",
        "print(mean, var, prior)"
      ],
      "metadata": {
        "colab": {
          "base_uri": "https://localhost:8080/"
        },
        "id": "qtHBbd-QAbXC",
        "outputId": "f02aa05a-0d16-42de-de32-9a9520e0e2aa"
      },
      "execution_count": null,
      "outputs": [
        {
          "output_type": "stream",
          "name": "stdout",
          "text": [
            "mean:  [[ -0.29407022   2.81910441 -11.66251292  -2.9819318   -8.01907659]\n",
            " [ -9.51830596  -3.34639471  -3.09009361   1.77345652  -0.56933346]\n",
            " [ -0.0890234    2.90441413  -6.47700728   7.73942984  -9.5541553 ]\n",
            " [  1.81674691   2.48820592   2.41264525  -8.77400036  -7.68431706]]\n",
            "var:  [[14.90682466 18.3047822  18.78460281 19.57769881 36.70652506]\n",
            " [ 5.54002042 10.96821231 19.89472548 24.85596465 19.92826628]\n",
            " [29.5507125   5.70530346 21.15962076 13.95333433 24.0351927 ]\n",
            " [10.97674644  3.69268704 21.00056433  7.95655132 10.46758931]]\n",
            "prior:  [0.32 0.24 0.24 0.2 ]\n",
            "[[ -0.29407022   2.81910441 -11.66251292  -2.9819318   -8.01907659]\n",
            " [ -9.51830596  -3.34639471  -3.09009361   1.77345652  -0.56933346]\n",
            " [ -0.0890234    2.90441413  -6.47700728   7.73942984  -9.5541553 ]\n",
            " [  1.81674691   2.48820592   2.41264525  -8.77400036  -7.68431706]] [[14.90682466 18.3047822  18.78460281 19.57769881 36.70652506]\n",
            " [ 5.54002042 10.96821231 19.89472548 24.85596465 19.92826628]\n",
            " [29.5507125   5.70530346 21.15962076 13.95333433 24.0351927 ]\n",
            " [10.97674644  3.69268704 21.00056433  7.95655132 10.46758931]] [0.32 0.24 0.24 0.2 ]\n"
          ]
        }
      ]
    },
    {
      "cell_type": "code",
      "source": [
        "predict(X1,mean, var, prior)"
      ],
      "metadata": {
        "colab": {
          "base_uri": "https://localhost:8080/",
          "height": 311
        },
        "id": "GMkStFWrAfu0",
        "outputId": "d818f2b1-28b4-47bd-9568-c3ea2fdce022"
      },
      "execution_count": null,
      "outputs": [
        {
          "output_type": "error",
          "ename": "IndexError",
          "evalue": "ignored",
          "traceback": [
            "\u001b[0;31m---------------------------------------------------------------------------\u001b[0m",
            "\u001b[0;31mIndexError\u001b[0m                                Traceback (most recent call last)",
            "\u001b[0;32m<ipython-input-25-d337f8c78aea>\u001b[0m in \u001b[0;36m<module>\u001b[0;34m()\u001b[0m\n\u001b[0;32m----> 1\u001b[0;31m \u001b[0mpredict\u001b[0m\u001b[0;34m(\u001b[0m\u001b[0mX1\u001b[0m\u001b[0;34m,\u001b[0m\u001b[0mmean\u001b[0m\u001b[0;34m,\u001b[0m \u001b[0mvar\u001b[0m\u001b[0;34m,\u001b[0m \u001b[0mprior\u001b[0m\u001b[0;34m)\u001b[0m\u001b[0;34m\u001b[0m\u001b[0;34m\u001b[0m\u001b[0m\n\u001b[0m",
            "\u001b[0;32m<ipython-input-22-abab6f3dfacb>\u001b[0m in \u001b[0;36mpredict\u001b[0;34m(X, m, v, p)\u001b[0m\n\u001b[1;32m     39\u001b[0m \u001b[0;34m\u001b[0m\u001b[0m\n\u001b[1;32m     40\u001b[0m \u001b[0;32mdef\u001b[0m \u001b[0mpredict\u001b[0m\u001b[0;34m(\u001b[0m\u001b[0mX\u001b[0m\u001b[0;34m,\u001b[0m\u001b[0mm\u001b[0m\u001b[0;34m,\u001b[0m\u001b[0mv\u001b[0m\u001b[0;34m,\u001b[0m\u001b[0mp\u001b[0m\u001b[0;34m)\u001b[0m\u001b[0;34m:\u001b[0m\u001b[0;34m\u001b[0m\u001b[0;34m\u001b[0m\u001b[0m\n\u001b[0;32m---> 41\u001b[0;31m   \u001b[0mplp\u001b[0m \u001b[0;34m=\u001b[0m \u001b[0mcalc_log_likelyhood_prior_prod\u001b[0m\u001b[0;34m(\u001b[0m\u001b[0mX\u001b[0m\u001b[0;34m,\u001b[0m\u001b[0mm\u001b[0m\u001b[0;34m,\u001b[0m\u001b[0mv\u001b[0m\u001b[0;34m,\u001b[0m\u001b[0mp\u001b[0m\u001b[0;34m)\u001b[0m\u001b[0;34m\u001b[0m\u001b[0;34m\u001b[0m\u001b[0m\n\u001b[0m\u001b[1;32m     42\u001b[0m   \u001b[0mprint\u001b[0m\u001b[0;34m(\u001b[0m\u001b[0;34m'Predict: '\u001b[0m\u001b[0;34m,\u001b[0m \u001b[0mplp\u001b[0m\u001b[0;34m)\u001b[0m\u001b[0;34m\u001b[0m\u001b[0;34m\u001b[0m\u001b[0m\n\u001b[1;32m     43\u001b[0m   \u001b[0;32mreturn\u001b[0m \u001b[0mnp\u001b[0m\u001b[0;34m.\u001b[0m\u001b[0margmax\u001b[0m\u001b[0;34m(\u001b[0m\u001b[0mplp\u001b[0m\u001b[0;34m,\u001b[0m \u001b[0maxis\u001b[0m\u001b[0;34m=\u001b[0m\u001b[0;36m1\u001b[0m\u001b[0;34m)\u001b[0m\u001b[0;34m\u001b[0m\u001b[0;34m\u001b[0m\u001b[0m\n",
            "\u001b[0;32m<ipython-input-22-abab6f3dfacb>\u001b[0m in \u001b[0;36mcalc_log_likelyhood_prior_prod\u001b[0;34m(X, mean, var, prior)\u001b[0m\n\u001b[1;32m     33\u001b[0m         \u001b[0;31m# print('log pdf: ', np.log(pdf))\u001b[0m\u001b[0;34m\u001b[0m\u001b[0;34m\u001b[0m\u001b[0;34m\u001b[0m\u001b[0m\n\u001b[1;32m     34\u001b[0m         \u001b[0;31m# print('log prior: ', np.log(pr))\u001b[0m\u001b[0;34m\u001b[0m\u001b[0;34m\u001b[0m\u001b[0;34m\u001b[0m\u001b[0m\n\u001b[0;32m---> 35\u001b[0;31m         \u001b[0mllpp\u001b[0m\u001b[0;34m[\u001b[0m\u001b[0mx_idx\u001b[0m\u001b[0;34m,\u001b[0m \u001b[0mc\u001b[0m\u001b[0;34m]\u001b[0m \u001b[0;34m=\u001b[0m \u001b[0mnp\u001b[0m\u001b[0;34m.\u001b[0m\u001b[0mlog\u001b[0m\u001b[0;34m(\u001b[0m\u001b[0mpdf\u001b[0m\u001b[0;34m)\u001b[0m \u001b[0;34m+\u001b[0m \u001b[0mnp\u001b[0m\u001b[0;34m.\u001b[0m\u001b[0mlog\u001b[0m\u001b[0;34m(\u001b[0m\u001b[0mpr\u001b[0m\u001b[0;34m)\u001b[0m\u001b[0;34m\u001b[0m\u001b[0;34m\u001b[0m\u001b[0m\n\u001b[0m\u001b[1;32m     36\u001b[0m       \u001b[0;31m#print('LLPP: ', llpp)\u001b[0m\u001b[0;34m\u001b[0m\u001b[0;34m\u001b[0m\u001b[0;34m\u001b[0m\u001b[0m\n\u001b[1;32m     37\u001b[0m \u001b[0;34m\u001b[0m\u001b[0m\n",
            "\u001b[0;31mIndexError\u001b[0m: index 2 is out of bounds for axis 1 with size 2"
          ]
        }
      ]
    },
    {
      "cell_type": "code",
      "source": [
        "naive_gaussian_predict(X1, y1, X2)"
      ],
      "metadata": {
        "colab": {
          "base_uri": "https://localhost:8080/",
          "height": 467
        },
        "id": "7Q5eAfNWAoaL",
        "outputId": "c14a1536-f734-47fd-c701-f0aca5090b8c"
      },
      "execution_count": null,
      "outputs": [
        {
          "output_type": "stream",
          "name": "stdout",
          "text": [
            "mean:  [[ -0.29407022   2.81910441 -11.66251292  -2.9819318   -8.01907659]\n",
            " [ -9.51830596  -3.34639471  -3.09009361   1.77345652  -0.56933346]\n",
            " [ -0.0890234    2.90441413  -6.47700728   7.73942984  -9.5541553 ]\n",
            " [  1.81674691   2.48820592   2.41264525  -8.77400036  -7.68431706]]\n",
            "var:  [[14.90682466 18.3047822  18.78460281 19.57769881 36.70652506]\n",
            " [ 5.54002042 10.96821231 19.89472548 24.85596465 19.92826628]\n",
            " [29.5507125   5.70530346 21.15962076 13.95333433 24.0351927 ]\n",
            " [10.97674644  3.69268704 21.00056433  7.95655132 10.46758931]]\n",
            "prior:  [0.32 0.24 0.24 0.2 ]\n"
          ]
        },
        {
          "output_type": "error",
          "ename": "IndexError",
          "evalue": "ignored",
          "traceback": [
            "\u001b[0;31m---------------------------------------------------------------------------\u001b[0m",
            "\u001b[0;31mIndexError\u001b[0m                                Traceback (most recent call last)",
            "\u001b[0;32m<ipython-input-26-b02c3fcc1cf3>\u001b[0m in \u001b[0;36m<module>\u001b[0;34m()\u001b[0m\n\u001b[0;32m----> 1\u001b[0;31m \u001b[0mnaive_gaussian_predict\u001b[0m\u001b[0;34m(\u001b[0m\u001b[0mX1\u001b[0m\u001b[0;34m,\u001b[0m \u001b[0my1\u001b[0m\u001b[0;34m,\u001b[0m \u001b[0mX2\u001b[0m\u001b[0;34m)\u001b[0m\u001b[0;34m\u001b[0m\u001b[0;34m\u001b[0m\u001b[0m\n\u001b[0m",
            "\u001b[0;32m<ipython-input-22-abab6f3dfacb>\u001b[0m in \u001b[0;36mnaive_gaussian_predict\u001b[0;34m(X_train, y_train, X_test)\u001b[0m\n\u001b[1;32m     57\u001b[0m     \u001b[0mmean\u001b[0m\u001b[0;34m,\u001b[0m \u001b[0mvar\u001b[0m\u001b[0;34m,\u001b[0m \u001b[0mprior\u001b[0m \u001b[0;34m=\u001b[0m \u001b[0mfit\u001b[0m\u001b[0;34m(\u001b[0m\u001b[0mX_train\u001b[0m\u001b[0;34m,\u001b[0m \u001b[0my_train\u001b[0m\u001b[0;34m)\u001b[0m\u001b[0;34m\u001b[0m\u001b[0;34m\u001b[0m\u001b[0m\n\u001b[1;32m     58\u001b[0m \u001b[0;34m\u001b[0m\u001b[0m\n\u001b[0;32m---> 59\u001b[0;31m     \u001b[0mq\u001b[0m \u001b[0;34m=\u001b[0m \u001b[0mcalc_log_likelyhood_prior_prod\u001b[0m\u001b[0;34m(\u001b[0m\u001b[0mX_test\u001b[0m\u001b[0;34m,\u001b[0m \u001b[0mmean\u001b[0m\u001b[0;34m,\u001b[0m \u001b[0mvar\u001b[0m\u001b[0;34m,\u001b[0m \u001b[0mprior\u001b[0m\u001b[0;34m)\u001b[0m\u001b[0;34m\u001b[0m\u001b[0;34m\u001b[0m\u001b[0m\n\u001b[0m\u001b[1;32m     60\u001b[0m     \u001b[0;31m#print(q)\u001b[0m\u001b[0;34m\u001b[0m\u001b[0;34m\u001b[0m\u001b[0;34m\u001b[0m\u001b[0m\n\u001b[1;32m     61\u001b[0m     \u001b[0;32mreturn\u001b[0m \u001b[0mnp\u001b[0m\u001b[0;34m.\u001b[0m\u001b[0margmax\u001b[0m\u001b[0;34m(\u001b[0m\u001b[0mq\u001b[0m\u001b[0;34m,\u001b[0m \u001b[0maxis\u001b[0m\u001b[0;34m=\u001b[0m\u001b[0;36m1\u001b[0m\u001b[0;34m)\u001b[0m\u001b[0;34m\u001b[0m\u001b[0;34m\u001b[0m\u001b[0m\n",
            "\u001b[0;32m<ipython-input-22-abab6f3dfacb>\u001b[0m in \u001b[0;36mcalc_log_likelyhood_prior_prod\u001b[0;34m(X, mean, var, prior)\u001b[0m\n\u001b[1;32m     33\u001b[0m         \u001b[0;31m# print('log pdf: ', np.log(pdf))\u001b[0m\u001b[0;34m\u001b[0m\u001b[0;34m\u001b[0m\u001b[0;34m\u001b[0m\u001b[0m\n\u001b[1;32m     34\u001b[0m         \u001b[0;31m# print('log prior: ', np.log(pr))\u001b[0m\u001b[0;34m\u001b[0m\u001b[0;34m\u001b[0m\u001b[0;34m\u001b[0m\u001b[0m\n\u001b[0;32m---> 35\u001b[0;31m         \u001b[0mllpp\u001b[0m\u001b[0;34m[\u001b[0m\u001b[0mx_idx\u001b[0m\u001b[0;34m,\u001b[0m \u001b[0mc\u001b[0m\u001b[0;34m]\u001b[0m \u001b[0;34m=\u001b[0m \u001b[0mnp\u001b[0m\u001b[0;34m.\u001b[0m\u001b[0mlog\u001b[0m\u001b[0;34m(\u001b[0m\u001b[0mpdf\u001b[0m\u001b[0;34m)\u001b[0m \u001b[0;34m+\u001b[0m \u001b[0mnp\u001b[0m\u001b[0;34m.\u001b[0m\u001b[0mlog\u001b[0m\u001b[0;34m(\u001b[0m\u001b[0mpr\u001b[0m\u001b[0;34m)\u001b[0m\u001b[0;34m\u001b[0m\u001b[0;34m\u001b[0m\u001b[0m\n\u001b[0m\u001b[1;32m     36\u001b[0m       \u001b[0;31m#print('LLPP: ', llpp)\u001b[0m\u001b[0;34m\u001b[0m\u001b[0;34m\u001b[0m\u001b[0;34m\u001b[0m\u001b[0m\n\u001b[1;32m     37\u001b[0m \u001b[0;34m\u001b[0m\u001b[0m\n",
            "\u001b[0;31mIndexError\u001b[0m: index 2 is out of bounds for axis 1 with size 2"
          ]
        }
      ]
    }
  ]
}