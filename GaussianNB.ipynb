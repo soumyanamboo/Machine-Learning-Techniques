{
  "nbformat": 4,
  "nbformat_minor": 0,
  "metadata": {
    "colab": {
      "provenance": [],
      "authorship_tag": "ABX9TyN6viRfrgj3RugCVmtGj+st"
    },
    "kernelspec": {
      "name": "python3",
      "display_name": "Python 3"
    },
    "language_info": {
      "name": "python"
    }
  },
  "cells": [
    {
      "cell_type": "code",
      "execution_count": null,
      "metadata": {
        "id": "yMjchyDJ03YW"
      },
      "outputs": [],
      "source": [
        "import numpy as np"
      ]
    },
    {
      "cell_type": "code",
      "source": [
        "class GaussianNB(object):\n",
        "  def fit(self, X, y):\n",
        "    n_samples, n_features = X.shape\n",
        "    self.classes = np.unique(y)\n",
        "    n_classes = len(self.classes)\n",
        "\n",
        "    self.mean = np.zeros((n_classes, n_features), dtype=np.float64)\n",
        "    self.var = np.zeros((n_classes, n_features), dtype=np.float64)\n",
        "    self.prior = np.zeros(n_classes, dtype=np.float64)\n",
        "\n",
        "    for idx, c in enumerate(self.classes):\n",
        "      X_c = X[y == c]\n",
        "\n",
        "      self.mean[idx, :] = X_c.mean(axis=0)\n",
        "      self.var[idx, :] = X_c.var(axis=0)\n",
        "\n",
        "      self.prior[idx] = X_c.shape[0] / float(n_samples)\n",
        "    print('Mean: ', self.mean)\n",
        "    print('Varience: ', self.var)\n",
        "    print('Prior: ', self.prior)\n",
        "  \n",
        "  def calc_pdf(self, class_idx, X):\n",
        "    mean = self.mean[class_idx]\n",
        "    \n",
        "    var = np.diag(self.var[class_idx])\n",
        "    z = np.power(2 * np.pi, X.shape[0]/2) * np.power(np.linalg.det(var), 1/2)\n",
        "   \n",
        "    pdf = (z/2) * np.exp(-(1/2) * (X - mean).T @ np.linalg.inv(var) @ (X - mean) )\n",
        "    return pdf\n",
        "\n",
        "  def calc_prod_likelyhood_prior(self, X):\n",
        "    ''' calculates product of likelyhood and prior'''\n",
        "    self.prod_likelyhood_prior = np.zeros((X.shape[0], len(self.classes)), dtype=np.float64)\n",
        "    \n",
        "    for x_idx, x in enumerate(X):\n",
        "      for idx, c in enumerate(self.classes):\n",
        "        self.prod_likelyhood_prior[x_idx,c] = np.log(self.calc_pdf(idx,x)) + np.log(self.prior[idx])\n",
        "            \n",
        "  \n",
        "  def predict(self, X):\n",
        "    self.calc_prod_likelyhood_prior(X)\n",
        "    label_predicted = self.prod_likelyhood_prior\n",
        "    return np.argmax(self.prod_likelyhood_prior, axis=1)\n",
        "  \n",
        "  def predict_probability(self, X):\n",
        "    self.calc_prod_likelyhood_prior(X)\n",
        "    q = self.prod_likelyhood_prior\n",
        "    prob = np.exp(q) / np.expand_dims(np.sum(np.exp(q), axis=1), axis=1)\n",
        "    return prob"
      ],
      "metadata": {
        "id": "Wd3O8Xxc5h0i"
      },
      "execution_count": null,
      "outputs": []
    },
    {
      "cell_type": "code",
      "source": [
        "from sklearn.datasets import make_classification, make_blobs\n",
        "from sklearn.model_selection import train_test_split"
      ],
      "metadata": {
        "id": "T6syv0Gw-c9Y"
      },
      "execution_count": null,
      "outputs": []
    },
    {
      "cell_type": "code",
      "source": [
        "X, y = make_blobs(n_samples=100, n_features=2, centers=[[5,5],[10,10]], cluster_std=1.5, random_state=3)\n",
        "X_train, x_test, y_train, y_test = train_test_split(X, y, test_size=0.2, random_state=123)"
      ],
      "metadata": {
        "id": "gx_sb8yt-rJM"
      },
      "execution_count": null,
      "outputs": []
    },
    {
      "cell_type": "code",
      "source": [
        "gaussian_nb = GaussianNB()\n",
        "gaussian_nb.fit(X_train, y_train)"
      ],
      "metadata": {
        "id": "KdrLVJ1w_LG6"
      },
      "execution_count": null,
      "outputs": []
    },
    {
      "cell_type": "code",
      "source": [
        "X1 = np.array([[-1.43313789,  0.87886565], [ 1.73544375,  5.74074094], [-0.20466712, -0.17858128], [ 1.13599219,  5.89066163], [ 2.74485936,  3.86226574], [-0.62227035,  0.67791906], [ 0.18273191,  1.69422586], [-1.49552969, -0.16019098], [ 1.48276596,  7.56215945], [ 2.5756331,   4.79358451], [-0.02672632, -0.9002082 ], [-0.47535179,  0.9614788 ], [-0.62624673,  6.19767345], [-0.36105075,  4.71649291], [-1.04671485,  5.13251142], [ 0.36400416,  0.30274527], [-0.01760132,  4.93424899], [-1.24501648, -1.52927977], [ 0.74281699, -0.26205474], [-1.49643126,  4.29044987], [ 1.43098835,  4.8552861 ], [ 0.83629896,  5.33601689], [ 0.76640666,  2.56599276], [-0.55953029,  4.00154206], [-0.05876738, -0.34313126]])\n",
        "y1 = np.array([0, 1, 0, 1, 1, 0, 0, 0, 1, 1, 0, 0, 1, 1, 1, 0, 1, 0, 0, 1, 1, 1, 0, 1, 0])\n",
        "x2 = np.array([[-0.27459298, -0.33154335], [-1.90328844,  8.63813903], [-1.1212894,   5.11997934], [-0.32198076,  1.53187219], [-1.20681238,  5.03012668], [ 0.83820448,  3.74266307], [ 0.9278087,  -0.6647579 ], [ 0.65004053,  5.65506597], [ 1.76557838,  5.03833828], [ 0.55750544,  2.77951423], [ 0.72126917,  6.16397755], [ 1.9633985,   7.09960884], [ 0.7731207,  -1.67230658], [ 1.78351614,  2.52235728], [-1.45051856,  7.82657438], [ 0.27545036,  5.87035969], [ 0.04892322,  4.0835455 ], [-1.96195702,  8.20859446], [ 1.29811144, -3.45230805], [-1.17286752, -0.65626347]])"
      ],
      "metadata": {
        "id": "kd5c6W7WMHK7"
      },
      "execution_count": null,
      "outputs": []
    },
    {
      "cell_type": "code",
      "source": [
        "g_nb = GaussianNB()\n",
        "g_nb.fit(X1, y1)"
      ],
      "metadata": {
        "colab": {
          "base_uri": "https://localhost:8080/"
        },
        "id": "toEff_6oMZq6",
        "outputId": "bd56dfaa-f81b-4479-c836-b51e63fd271a"
      },
      "execution_count": null,
      "outputs": [
        {
          "output_type": "stream",
          "name": "stdout",
          "text": [
            "Mean:  [[-0.29212561  0.30898176]\n",
            " [ 0.60264665  5.17797184]]\n",
            "Varience:  [[0.56506611 1.16251618]\n",
            " [1.75888975 0.92329467]]\n",
            "Prior:  [0.48 0.52]\n"
          ]
        }
      ]
    },
    {
      "cell_type": "code",
      "source": [
        "g_nb.predict(X1)"
      ],
      "metadata": {
        "colab": {
          "base_uri": "https://localhost:8080/"
        },
        "id": "1eP_nECTAaHc",
        "outputId": "8c0b016e-5728-4b74-9b81-474df36d9165"
      },
      "execution_count": null,
      "outputs": [
        {
          "output_type": "execute_result",
          "data": {
            "text/plain": [
              "array([0, 1, 0, 1, 1, 0, 0, 0, 1, 1, 0, 0, 1, 1, 1, 0, 1, 0, 0, 1, 1, 1,\n",
              "       1, 1, 0])"
            ]
          },
          "metadata": {},
          "execution_count": 66
        }
      ]
    },
    {
      "cell_type": "code",
      "source": [
        "g_nb.predict(x2)"
      ],
      "metadata": {
        "colab": {
          "base_uri": "https://localhost:8080/"
        },
        "id": "otnpeUUL_84w",
        "outputId": "75ded011-653f-4b65-c54f-9a516cede4a0"
      },
      "execution_count": null,
      "outputs": [
        {
          "output_type": "execute_result",
          "data": {
            "text/plain": [
              "array([0, 1, 1, 0, 1, 1, 0, 1, 1, 1, 1, 1, 0, 1, 1, 1, 1, 1, 0, 0])"
            ]
          },
          "metadata": {},
          "execution_count": 67
        }
      ]
    },
    {
      "cell_type": "code",
      "source": [
        "g_nb.predict_probability(X1)"
      ],
      "metadata": {
        "colab": {
          "base_uri": "https://localhost:8080/"
        },
        "id": "mkZcSHPENcwF",
        "outputId": "bb45180f-25f2-4fd3-ea75-25cd05a3aadc"
      },
      "execution_count": null,
      "outputs": [
        {
          "output_type": "execute_result",
          "data": {
            "text/plain": [
              "array([[9.99914144e-01, 8.58559738e-05],\n",
              "       [8.14172001e-08, 9.99999919e-01],\n",
              "       [9.99999718e-01, 2.81857772e-07],\n",
              "       [2.08939498e-07, 9.99999791e-01],\n",
              "       [6.91208138e-06, 9.99993088e-01],\n",
              "       [9.99977576e-01, 2.24238298e-05],\n",
              "       [9.93726100e-01, 6.27389962e-03],\n",
              "       [9.99999617e-01, 3.83301539e-07],\n",
              "       [1.45822800e-10, 1.00000000e+00],\n",
              "       [2.32791087e-07, 9.99999767e-01],\n",
              "       [9.99999994e-01, 6.21950623e-09],\n",
              "       [9.99900260e-01, 9.97396032e-05],\n",
              "       [4.78080139e-07, 9.99999522e-01],\n",
              "       [2.00863691e-04, 9.99799136e-01],\n",
              "       [3.46937019e-05, 9.99965306e-01],\n",
              "       [9.99993693e-01, 6.30695196e-06],\n",
              "       [6.38471763e-05, 9.99936153e-01],\n",
              "       [1.00000000e+00, 1.62012192e-10],\n",
              "       [9.99999449e-01, 5.51173783e-07],\n",
              "       [9.53088055e-04, 9.99046912e-01],\n",
              "       [7.51873149e-06, 9.99992481e-01],\n",
              "       [3.72888176e-06, 9.99996271e-01],\n",
              "       [4.96798922e-01, 5.03201078e-01],\n",
              "       [4.83577492e-03, 9.95164225e-01],\n",
              "       [9.99999872e-01, 1.28391438e-07]])"
            ]
          },
          "metadata": {},
          "execution_count": 68
        }
      ]
    },
    {
      "cell_type": "markdown",
      "source": [
        "#PPA2"
      ],
      "metadata": {
        "id": "3IetkGN5sfvD"
      }
    },
    {
      "cell_type": "code",
      "source": [
        "from sklearn.metrics import classification_report\n",
        "print(classification_report(y_test, gaussian_nb.predict(x_test)))"
      ],
      "metadata": {
        "colab": {
          "base_uri": "https://localhost:8080/"
        },
        "id": "Hqo2lBvfAj2h",
        "outputId": "9e21643e-a91a-401c-8311-bf09286efb78"
      },
      "execution_count": null,
      "outputs": [
        {
          "output_type": "stream",
          "name": "stdout",
          "text": [
            "              precision    recall  f1-score   support\n",
            "\n",
            "           0       0.47      1.00      0.64         9\n",
            "           1       1.00      0.09      0.17        11\n",
            "\n",
            "    accuracy                           0.50        20\n",
            "   macro avg       0.74      0.55      0.40        20\n",
            "weighted avg       0.76      0.50      0.38        20\n",
            "\n"
          ]
        }
      ]
    },
    {
      "cell_type": "code",
      "source": [
        "X1, y1 = make_blobs(n_samples=100, n_features=2, centers = [[5,5],[10,10],[20,20]], cluster_std=1.5, random_state=5)\n",
        "X1_train, X1_test, y1_train, y1_test = train_test_split(X1, y1, test_size=0.2,random_state=5)"
      ],
      "metadata": {
        "id": "QLtECCNuBM_p"
      },
      "execution_count": null,
      "outputs": []
    },
    {
      "cell_type": "code",
      "source": [
        "gnb_multiclass = GaussianNB()\n",
        "gnb_multiclass.fit(X1_train, y1_train)"
      ],
      "metadata": {
        "colab": {
          "base_uri": "https://localhost:8080/"
        },
        "id": "Vx4sus-tBxTK",
        "outputId": "28b00a3d-d0a6-4ebc-aa44-503c915f03de"
      },
      "execution_count": null,
      "outputs": [
        {
          "output_type": "stream",
          "name": "stdout",
          "text": [
            "Mean:  [[ 4.99538779  5.48522533]\n",
            " [ 9.61165477  9.99829772]\n",
            " [20.48065    20.50524366]]\n",
            "Varience:  [[1.44846347 1.50423486]\n",
            " [2.49993902 2.5165167 ]\n",
            " [2.37472197 1.09980241]]\n",
            "Prior:  [0.375  0.3125 0.3125]\n"
          ]
        }
      ]
    },
    {
      "cell_type": "code",
      "source": [
        "gnb_multiclass.predict(X1_test)"
      ],
      "metadata": {
        "colab": {
          "base_uri": "https://localhost:8080/"
        },
        "id": "vQOdbtW1B-pQ",
        "outputId": "ef0815bc-fae1-47ea-e59e-e8c4ddf319e8"
      },
      "execution_count": null,
      "outputs": [
        {
          "output_type": "execute_result",
          "data": {
            "text/plain": [
              "array([1, 0, 0, 0, 0, 0, 0, 0, 0, 0, 0, 0, 0, 0, 0, 0, 0, 0, 0, 0])"
            ]
          },
          "metadata": {},
          "execution_count": 33
        }
      ]
    },
    {
      "cell_type": "code",
      "source": [
        "print(classification_report(y1_test, gnb_multiclass.predict(X1_test)))"
      ],
      "metadata": {
        "colab": {
          "base_uri": "https://localhost:8080/"
        },
        "id": "WnWv6S9QCE7F",
        "outputId": "e8b29f3c-d30f-45ce-9eec-a494a4b227a8"
      },
      "execution_count": null,
      "outputs": [
        {
          "output_type": "stream",
          "name": "stdout",
          "text": [
            "              precision    recall  f1-score   support\n",
            "\n",
            "           0       0.16      0.75      0.26         4\n",
            "           1       0.00      0.00      0.00         8\n",
            "           2       0.00      0.00      0.00         8\n",
            "\n",
            "    accuracy                           0.15        20\n",
            "   macro avg       0.05      0.25      0.09        20\n",
            "weighted avg       0.03      0.15      0.05        20\n",
            "\n"
          ]
        },
        {
          "output_type": "stream",
          "name": "stderr",
          "text": [
            "/usr/local/lib/python3.7/dist-packages/sklearn/metrics/_classification.py:1318: UndefinedMetricWarning: Precision and F-score are ill-defined and being set to 0.0 in labels with no predicted samples. Use `zero_division` parameter to control this behavior.\n",
            "  _warn_prf(average, modifier, msg_start, len(result))\n",
            "/usr/local/lib/python3.7/dist-packages/sklearn/metrics/_classification.py:1318: UndefinedMetricWarning: Precision and F-score are ill-defined and being set to 0.0 in labels with no predicted samples. Use `zero_division` parameter to control this behavior.\n",
            "  _warn_prf(average, modifier, msg_start, len(result))\n",
            "/usr/local/lib/python3.7/dist-packages/sklearn/metrics/_classification.py:1318: UndefinedMetricWarning: Precision and F-score are ill-defined and being set to 0.0 in labels with no predicted samples. Use `zero_division` parameter to control this behavior.\n",
            "  _warn_prf(average, modifier, msg_start, len(result))\n"
          ]
        }
      ]
    }
  ]
}