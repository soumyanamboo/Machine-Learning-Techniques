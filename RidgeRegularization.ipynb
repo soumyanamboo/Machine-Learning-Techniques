{
  "nbformat": 4,
  "nbformat_minor": 0,
  "metadata": {
    "colab": {
      "provenance": [],
      "authorship_tag": "ABX9TyMIzGBEK7264bpJRW8Ed4pP",
      "include_colab_link": true
    },
    "kernelspec": {
      "name": "python3",
      "display_name": "Python 3"
    },
    "language_info": {
      "name": "python"
    }
  },
  "cells": [
    {
      "cell_type": "markdown",
      "metadata": {
        "id": "view-in-github",
        "colab_type": "text"
      },
      "source": [
        "<a href=\"https://colab.research.google.com/github/soumyanamboo/Machine-Learning-Techniques/blob/main/RidgeRegularization.ipynb\" target=\"_parent\"><img src=\"https://colab.research.google.com/assets/colab-badge.svg\" alt=\"Open In Colab\"/></a>"
      ]
    },
    {
      "cell_type": "markdown",
      "source": [
        "# Ridge and Lasso Regularization\n",
        "Polynomial regression is able to model non-linear relationship between features and labels. However higher order polynomial models are prone to overfitting.  \n",
        "There are two ways to tackle the problem of overfitting.\n",
        "1.   Train with more data\n",
        "2.   Penalize the weight vector through regularization  \n",
        "**Regularization:** Regularization leads to change in Linear Regression loss function, which in turn results in change of gradient calculation.   \n",
        "The change in regularization rate results in a new model.For different values of regularization rate, we obtain a new model. Thus we have a problem of model selection at hand, where we need to choose the best model among the list of candidate models.  \n",
        "Ridge and Lasso regularization solution path will be a function of regularization rate $λ$."
      ],
      "metadata": {
        "id": "AgAxWocYnoI6"
      }
    },
    {
      "cell_type": "code",
      "execution_count": null,
      "metadata": {
        "id": "mN81BZhQRBeo"
      },
      "outputs": [],
      "source": [
        "import numpy as np\n",
        "import matplotlib.pyplot as plt\n",
        "import unittest\n",
        "import itertools\n",
        "import functools\n",
        "import math\n",
        "import pandas as pd"
      ]
    },
    {
      "cell_type": "code",
      "source": [
        "#@title [Linear Regression Class Defenition]\n",
        "class LinReg():\n",
        "  ''' Linear Regression Model class definition\n",
        "      y = X@w\n",
        "      X: feature matrix\n",
        "      w: weight vector\n",
        "      y: label vector\n",
        "  '''\n",
        "  def __init__(self):\n",
        "    self.t0 = 20\n",
        "    self.t1 = 100\n",
        "  \n",
        "  def predict(self, X:np.ndarray):\n",
        "    ''' Args:\n",
        "          X: feature matrix\n",
        "        Returns:\n",
        "          y: label vector predicted by the given model\n",
        "    '''\n",
        "    y = X@self.w\n",
        "    return y\n",
        "  \n",
        "  def loss(self, X:np.ndarray, y:np.ndarray, reg_rate:float):\n",
        "    ''' Calculates loss for a model based on known labels.\n",
        "        Args:\n",
        "          X: feature matrix\n",
        "          y: label vector\n",
        "          reg_rate: regularization rate\n",
        "        Returns:\n",
        "          Loss \n",
        "    '''\n",
        "    e = y - self.predict(X)\n",
        "    #return (1/2) * np.transpose(e)@e\n",
        "    return (1/2) * np.transpose(e)@e + (reg_rate/2)*np.transpose(self.w)@self.w\n",
        "  \n",
        "  def rmse(self, X:np.ndarray, y:np.ndarray):\n",
        "    ''' Calculates root mean squared error of prediction w.r.t actual label\n",
        "        Args:\n",
        "          X: feature matrix\n",
        "          y: label vector\n",
        "        Returns:\n",
        "          Loss\n",
        "    '''\n",
        "    return np.sqrt((2/X.shape[0])* self.loss(X,y,0))\n",
        "  \n",
        "  def fit(self, X:np.ndarray, y:np.ndarray, reg_rate:float):\n",
        "    ''' Estimate parameters of linear regression model w.r.t known labels.\n",
        "        Args:\n",
        "          X: feature matrix\n",
        "          y: label vector\n",
        "          reg_rate: rate of regression\n",
        "        Returns:\n",
        "          weight vector\n",
        "    '''\n",
        "    self.w = np.zeros(X.shape[1])\n",
        "    eye = np.eye(np.size(X,1))\n",
        "    self.w = np.linalg.solve(reg_rate*eye + X.T@X, X.T@y)\n",
        "    return self.w\n",
        "  \n",
        "  def calculate_gradient(self, X:np.ndarray, y:np.ndarray, reg_rate:float):\n",
        "    ''' Calculates the gradient of loss function w.r.t weight vector\n",
        "        Args:\n",
        "          X: feature matrix\n",
        "          y: label vector\n",
        "          reg_rate: rate of regression\n",
        "        Returns:\n",
        "          gradient vector\n",
        "    '''\n",
        "    grad = np.transpose(X) @ (self.predict(X) - y) + reg_rate * self.w\n",
        "    return grad\n",
        "  \n",
        "def update_weights(self, grad:np.ndarray, lr:float):\n",
        "  ''' updates the weights based on the gradient of loss function\n",
        "      w_new = w_old - lr * grad\n",
        "      Args:\n",
        "        grad: gradient of loss w.r.t w\n",
        "        lr: learning rate\n",
        "      Returns:\n",
        "      updated weight vector\n",
        "  '''\n",
        "  w_new = self.w - lr * grad\n",
        "  return w_new\n",
        "\n",
        "def learning_schedule(self, t):\n",
        "  return (self.t0/(t + self.t1))\n",
        "\n",
        "def gd(self, X:np.ndarray, y:np.ndarray, num_epochs:int, lr:float,reg_rate:float):\n",
        "  ''' Estimates parameter of linear regression model using gradient descent\n",
        "      Args:\n",
        "        X: feature matrix\n",
        "        y: label vector\n",
        "        num_epochs: number of iterations\n",
        "        lr: learning rate\n",
        "        reg_rate: rate of regression\n",
        "      Returns:\n",
        "        weight vector: final weight vector\n",
        "  '''\n",
        "  self.w = np.zeros(X.shape[1])\n",
        "  self.w_all = []\n",
        "  self.err_all = []\n",
        "  for i in np.arange(0, num_epochs):\n",
        "    \n",
        "    self.w_all.append(self.w)\n",
        "    self.err_all.append(self.loss(X,y,0))\n",
        "    \n",
        "    grad = self.calculate_gradient(X,y,reg_rate)\n",
        "    self.w = self.update_weights(grad,lr)\n",
        "  return self.w\n",
        "\n",
        "def mbgd(self, X:np.ndarray, y:np.ndarray, num_epochs:int, batch_size:int, reg_rate:float):\n",
        "  ''' Estimates parameter of linear regression model using MBGD\n",
        "      Args:\n",
        "        X: feature matrix\n",
        "        y: label vector\n",
        "        num_epochs: number of iterations\n",
        "        batch_size: number of examples in a batch\n",
        "        reg_rate: rate of regression\n",
        "      Returns:\n",
        "        weight vector: final weight vector\n",
        "  '''\n",
        "  self.w = np.zeros(X.shape[1])\n",
        "  self.w_all = []\n",
        "  self.err_all = []\n",
        "  mini_batch_id = 0\n",
        "\n",
        "  for epoch in range(num_epochs):\n",
        "    shuffled_indices = np.random.permutation(X.shape[0])\n",
        "    X_shuffled = X[shuffled_indices]\n",
        "    y_shuffled = y[shuffled_indices]\n",
        "    for i in range(0, X.shape[0],batch_size):\n",
        "      mini_batch_id += 1\n",
        "      xi = X_shuffled[i:i+batch_size]\n",
        "      yi = y_shuffled[i:i+batch_size]\n",
        "      self.w_all.append(self.w)\n",
        "      self.err_all.append(self.loss(xi,yi,0))\n",
        "\n",
        "      grad = (2/batch_size) * self.calculate_gradient(X,y,reg_rate)\n",
        "      lr = self.learning_schedule(mini_batch_id)\n",
        "      self.w = self.update_weights(grad,lr)\n",
        "  return self.w\n",
        "\n",
        "def sgd(self, X:np.ndarray, y:np.ndarray, num_epochs:int, reg_rate:float):\n",
        "  ''' Estimates parameter of linear regression model using Stochastic GD\n",
        "      Args:\n",
        "        X: feature matrix\n",
        "        y: label vector\n",
        "        num_epochs: number of iterations\n",
        "        reg_rate: rate of regression\n",
        "      Returns:\n",
        "        weight vector: final weight vector\n",
        "  '''\n",
        "  self.w = np.zeros(X.shape[1])\n",
        "  self.w_all = []\n",
        "  self.err_all = []\n",
        "\n",
        "  for epoch in range(num_epochs):\n",
        "    for i in range(0, X.shape[0]):\n",
        "      random_index = np.random.randint(X.shape[0])\n",
        "      xi = X[random_index:random_index+1]\n",
        "      yi = y[random_index:random_index+1]\n",
        "\n",
        "      self.w_all.append(self.w)\n",
        "      self.err_all.append(self.loss(xi,yi,0))\n",
        "\n",
        "      grad = 2 * self.calculate_gradient(X,y,reg_rate)\n",
        "      lr = self.learning_schedule(epoch *X.shape[0] + i)\n",
        "      self.w = self.update_weights(grad,lr)\n",
        "  return self.w\n"
      ],
      "metadata": {
        "cellView": "form",
        "id": "FPwegLIWS0yO"
      },
      "execution_count": null,
      "outputs": []
    },
    {
      "cell_type": "markdown",
      "source": [
        "We will implement Ridge Regression using the below euations:  \n",
        "1.   Loss function (loss): \n",
        "$J(w) = (\\frac{1}{2} (Xw - y)^T(Xw-y) + \\frac{λ}{2}w^Tw$\n",
        "2.   Gradient calculation (calculate_gradient): \n",
        "$\\frac{dJ(w)}{dw} = X^T(Xw-y) + λ w$  \n",
        "3.   Normal equation (fit): \n",
        "$ w = (X^TX + λI)^{-1} X^Ty$.\n",
        "\n",
        "\n"
      ],
      "metadata": {
        "id": "BcU78VkPpb93"
      }
    },
    {
      "cell_type": "code",
      "source": [
        "class TestLossFunction(unittest.TestCase):\n",
        "  def test_loss_function(self):\n",
        "    feature_matrix = np.array([[1,3,2,5],[1,9,4,7]])\n",
        "    weight_vector = np.array([1,1,1,1])\n",
        "    label_vector = np.array([6,11])\n",
        "    reg_rate = 0.01\n",
        "    expected_loss = np.array([62.52])\n",
        "\n",
        "    #call\n",
        "    lin_reg = LinReg()\n",
        "    lin_reg.w = weight_vector\n",
        "    loss = lin_reg.loss(feature_matrix,label_vector,reg_rate)\n",
        "\n",
        "    self.assertEqual(loss.shape, ())\n",
        "\n",
        "    np.testing.assert_equal(expected_loss,loss)\n",
        "\n",
        "unittest.main(argv=[''],defaultTest='TestLossFunction',verbosity=2,exit=False)"
      ],
      "metadata": {
        "colab": {
          "base_uri": "https://localhost:8080/"
        },
        "id": "7SfUGTjMRVjf",
        "outputId": "47647f60-4640-4ac9-88da-d73939354453"
      },
      "execution_count": null,
      "outputs": [
        {
          "output_type": "stream",
          "name": "stderr",
          "text": [
            "test_loss_function (__main__.TestLossFunction) ... ok\n",
            "\n",
            "----------------------------------------------------------------------\n",
            "Ran 1 test in 0.011s\n",
            "\n",
            "OK\n"
          ]
        },
        {
          "output_type": "execute_result",
          "data": {
            "text/plain": [
              "<unittest.main.TestProgram at 0x7fe2c716e4d0>"
            ]
          },
          "metadata": {},
          "execution_count": 3
        }
      ]
    },
    {
      "cell_type": "code",
      "source": [
        "class TestCalculateGradient(unittest.TestCase):\n",
        "  def test_calculate_gradient(self):\n",
        "    feature_matrix = np.array([[1,3,2,5],[1,9,4,7]])\n",
        "    weight_vector = np.array([1,1,1,1])\n",
        "    label_vector = np.array([6,11])\n",
        "    reg_rate = 0.01\n",
        "    expected_grad = np.array([15.01, 105.01, 50.01, 95.01])\n",
        "\n",
        "    #call\n",
        "    lin_reg = LinReg()\n",
        "    lin_reg.w = weight_vector\n",
        "    calculated_grad = lin_reg.calculate_gradient(feature_matrix,label_vector,reg_rate)\n",
        "\n",
        "    self.assertEqual(calculated_grad.shape, (4,))\n",
        "\n",
        "    np.testing.assert_equal(expected_grad,calculated_grad)\n",
        "\n",
        "unittest.main(argv=[''],defaultTest='TestCalculateGradient',verbosity=2,exit=False)"
      ],
      "metadata": {
        "colab": {
          "base_uri": "https://localhost:8080/"
        },
        "id": "fp3_iIwLukFG",
        "outputId": "6cd97dad-dbb7-4709-ba29-e56abbcd23f0"
      },
      "execution_count": null,
      "outputs": [
        {
          "output_type": "stream",
          "name": "stderr",
          "text": [
            "test_calculate_gradient (__main__.TestCalculateGradient) ... ok\n",
            "\n",
            "----------------------------------------------------------------------\n",
            "Ran 1 test in 0.006s\n",
            "\n",
            "OK\n"
          ]
        },
        {
          "output_type": "execute_result",
          "data": {
            "text/plain": [
              "<unittest.main.TestProgram at 0x7fe2c70f5ed0>"
            ]
          },
          "metadata": {},
          "execution_count": 4
        }
      ]
    },
    {
      "cell_type": "code",
      "source": [
        "# create a training set by first calculating func(x) (here we use sin(2*pi*x)), and then add a small random noise having gaussian distribution\n",
        "\n",
        "def non_linear_training_set(func, sample_size, std):\n",
        "  x = np.linspace(0,1,sample_size)\n",
        "  y = func(x) + np.random.normal(scale=std,size=x.shape)\n",
        "  return x, y\n",
        "\n",
        "def nonlin(x):\n",
        "  return np.sin(2 * np.pi * x)"
      ],
      "metadata": {
        "id": "lbBb9aVjvkhg"
      },
      "execution_count": null,
      "outputs": []
    },
    {
      "cell_type": "code",
      "source": [
        "def visualize_training_data(x_train, y_train):\n",
        "  points = np.linspace(0,1,100)\n",
        "  output = nonlin(points)\n",
        "  plt.scatter(x_train, y_train,facecolor=\"none\", edgecolor='b', s=50, label='training data')\n",
        "  plt.plot(points, output,c='g',label=\"$sin(2 \\pi x)$\")\n",
        "  plt.xlabel('$x$')\n",
        "  plt.ylabel('y')\n",
        "  plt.legend()\n",
        "  plt.show\n",
        "\n",
        "#x,y = non_linear_training_set(nonlin,100,0.2)\n",
        "#visualize_training_data(x,y)\n"
      ],
      "metadata": {
        "id": "7m2vvTiWvtGT"
      },
      "execution_count": null,
      "outputs": []
    },
    {
      "cell_type": "code",
      "source": [
        "def get_combinations(x, degree):\n",
        "  return itertools.combinations_with_replacement(x, degree)\n",
        "\n",
        "def compute_new_feature(items):\n",
        "  return functools.reduce(lambda x, y: x*y, items) "
      ],
      "metadata": {
        "id": "OSvxJRX1wrGt"
      },
      "execution_count": null,
      "outputs": []
    },
    {
      "cell_type": "code",
      "source": [
        "def polynomial_transform(x, degree, logging=False):\n",
        "  #convert feature to matrix\n",
        "  if(x.ndim ==1):\n",
        "    x = x[:,None]\n",
        "  \n",
        "  x_t = x.transpose()   # transpose of feature matrix\n",
        "  features = [np.ones(len(x))] # populates 1's as first feature of each example\n",
        "\n",
        "  if(logging):\n",
        "    print('Input: ',x)\n",
        "  \n",
        "  for degree in range(1, degree + 1):\n",
        "    for items in get_combinations(x_t,degree):  # generate combinations \n",
        "      features.append(compute_new_feature(items))  # combine features into new feature\n",
        "      if(logging):\n",
        "        print(items, ' : ', compute_new_feature(items))\n",
        "  if(logging):\n",
        "    print(np.asarray(features).transpose())\n",
        "  return np.asarray(features).transpose()"
      ],
      "metadata": {
        "id": "VjmtySqHwugt"
      },
      "execution_count": null,
      "outputs": []
    },
    {
      "cell_type": "code",
      "source": [
        "def visualize_model_fit(x, y, lin_reg, degree,reg_rate=0):\n",
        "  ''' plots trained data along with data generation function'''\n",
        "  points = np.linspace(0,1,100)\n",
        "  output = nonlin(points)\n",
        "\n",
        "  if(degree > 0):\n",
        "    plt.scatter(x, y,facecolor=\"none\",edgecolor='b',s=50,label='training data')\n",
        "  plt.plot(points,output,color='g',label='$sin(2 \\pi x)$')\n",
        "\n",
        "  y_hat = lin_reg.predict(polynomial_transform(points,degree))\n",
        "  plt.plot(points,y_hat,c='r',label='$h_\\mathbf{w}(x)$')\n",
        "  plt.xlabel('x')\n",
        "  plt.ylabel('y')\n",
        "  plt.ylim(-1.5,1.5)\n",
        "  plt.title('M={},reg_rate={}'.format(degree,reg_rate))\n",
        "  #plt.legend()\n",
        "  #plt.show()\n"
      ],
      "metadata": {
        "id": "kTHVp8fTvydl"
      },
      "execution_count": null,
      "outputs": []
    },
    {
      "cell_type": "code",
      "source": [
        "num_samples = 10\n",
        "degree = 9\n",
        "x,y=non_linear_training_set(nonlin,num_samples,0.2)\n",
        "visualize_training_data(x, y)\n",
        "\n",
        "# x_transform = polynomial_transform(x,degree)\n",
        "# lin_reg = LinReg()\n",
        "# lin_reg.fit(x_transform, y,0)\n",
        "# visualize_model_fit(x, y, lin_reg,degree)"
      ],
      "metadata": {
        "colab": {
          "base_uri": "https://localhost:8080/",
          "height": 279
        },
        "id": "XKk9qnYAv3jm",
        "outputId": "ce05cf3c-de68-457d-e12f-9a37b7bb1230"
      },
      "execution_count": null,
      "outputs": [
        {
          "output_type": "display_data",
          "data": {
            "text/plain": [
              "<Figure size 432x288 with 1 Axes>"
            ],
            "image/png": "[encoded data removed]"
          },
          "metadata": {
            "needs_background": "light"
          }
        }
      ]
    },
    {
      "cell_type": "code",
      "source": [
        "num_samples = 10\n",
        "degree = 9\n",
        "reg_rate = 0.001\n",
        "x,y=non_linear_training_set(nonlin,num_samples,0.2)\n",
        "x_transform = polynomial_transform(x,degree)\n",
        "lin_reg = LinReg()\n",
        "lin_reg.fit(x_transform, y,reg_rate)\n",
        "visualize_model_fit(x, y, lin_reg,degree)"
      ],
      "metadata": {
        "colab": {
          "base_uri": "https://localhost:8080/",
          "height": 295
        },
        "id": "8Tif_IW0wa4y",
        "outputId": "c612b34e-a26f-4642-8d0d-9578c347ffe1"
      },
      "execution_count": null,
      "outputs": [
        {
          "output_type": "display_data",
          "data": {
            "text/plain": [
              "<Figure size 432x288 with 1 Axes>"
            ],
            "image/png": "[encoded data removed]"
          },
          "metadata": {
            "needs_background": "light"
          }
        }
      ]
    },
    {
      "cell_type": "markdown",
      "source": [
        "**Model Selection:** One more model available per $λ$.   \n",
        "The process to select model is:\n",
        "*   Fix the list of $λ$ that you want to experiment with.\n",
        "*   Divide the training data into training and validation.\n",
        "*   for each $λ$,\n",
        "    *  Train ridge regression model with $λ$ for traininng data.\n",
        "    *  Calculate training and validation errors on the trained model.\n",
        "*   select the one with lowest training and validation loss among all models.\n",
        "\n"
      ],
      "metadata": {
        "id": "sPQEV-VfydCi"
      }
    },
    {
      "cell_type": "code",
      "source": [
        "# Model selection helpers\n",
        "import pandas as pd\n",
        "\n",
        "def convert_dict_to_df(w_dict, degree):\n",
        "  poly_w_dict = {i:np.array(np.zeros(degree)) for i in range(degree)}\n",
        "  for deg in poly_w_dict:\n",
        "    weight_vector = w_dict[deg]\n",
        "    for i in range(len(weight_vector)):\n",
        "      poly_w_dict[deg][i] = weight_vector[i]\n",
        "    \n",
        "  poly_w_df = pd.DataFrame(poly_w_dict)\n",
        "  poly_w_df.columns = ['w_'+str(i) for i in range(degree)]\n",
        "  return poly_w_df\n",
        "\n",
        "def plot_model_selection(training_errors, val_errors):\n",
        "  plt.plot(training_errors,'o-',mfc='none',mec='b',ms=10,label='training errors')\n",
        "  plt.plot(val_errors,'o-',mfc='none',mec='r',ms=10,label='velidation errors')\n",
        "  plt.legend()\n",
        "  plt.xlabel('degree')\n",
        "  plt.ylabel('RMSE')\n",
        "  plt.show()"
      ],
      "metadata": {
        "id": "W_Dl8Th2zaZG"
      },
      "execution_count": null,
      "outputs": []
    },
    {
      "cell_type": "code",
      "source": [
        "training_errors = {}\n",
        "val_errors  = {}\n",
        "w_dict = {}\n",
        "degree = 9\n",
        "x,y = non_linear_training_set(nonlin,num_samples,0.2)\n",
        "\n",
        "x_val = np.linspace(0,1,100)\n",
        "y_val = nonlin(x_val) + np.random.normal(scale=0.25,size=len(x_val))\n",
        "x_transform = polynomial_transform(x ,degree)\n",
        "x_val_transform = polynomial_transform(x_val, degree)\n",
        "for reg_rate in [1e-6,1e-5,1e-4,1e-3,1e-2,1e-1,1,10,100]:\n",
        "  lin_reg = LinReg()\n",
        "  lin_reg.fit(x_transform,y,reg_rate)\n",
        "\n",
        "  w_dict[reg_rate] = lin_reg.w\n",
        "  training_errors[reg_rate] = lin_reg.rmse(x_transform,y)\n",
        "  val_errors[reg_rate] = lin_reg.rmse(x_val_transform, y_val)\n",
        "err_df = pd.DataFrame([training_errors,val_errors]).T\n",
        "w_df = pd.DataFrame(w_dict)\n",
        "#plot_model_selection(training_errors,val_errors)\n",
        "\n"
      ],
      "metadata": {
        "id": "-agtjlreziqZ"
      },
      "execution_count": null,
      "outputs": []
    },
    {
      "cell_type": "code",
      "source": [
        "#def plot_learning_curve(err_df):\n",
        "#  err_df.columns = [\"A\",\"B\"]\n",
        "#  print(err_df[\"A\"])\n",
        "#  err_df.plot(\"A\")\n",
        "#  err_df.plot(\"B\")"
      ],
      "metadata": {
        "id": "mQ4rfzZC-26c"
      },
      "execution_count": null,
      "outputs": []
    },
    {
      "cell_type": "code",
      "source": [
        "#plot_learning_curve(err_df)"
      ],
      "metadata": {
        "id": "rynzHNBX-2p_"
      },
      "execution_count": null,
      "outputs": []
    },
    {
      "cell_type": "markdown",
      "source": [
        "# Lasso Regression\n",
        "Lasso uses $L_1$ norm of weight vector instead of $L_2$ as used in Ridge Regression"
      ],
      "metadata": {
        "id": "2s8catW_GVPf"
      }
    },
    {
      "cell_type": "code",
      "source": [
        "from sklearn.linear_model import Lasso\n",
        "\n",
        "reg_rate = 0.01\n",
        "lasso = Lasso(alpha=reg_rate)\n",
        "lasso.fit(x_transform, y)\n",
        "\n",
        "#linear regression\n",
        "lin_reg = LinReg()\n",
        "_ = lin_reg.fit(x_transform,y,0)"
      ],
      "metadata": {
        "id": "yAz6C5ZPGWOe"
      },
      "execution_count": null,
      "outputs": []
    },
    {
      "cell_type": "code",
      "source": [
        "pd.DataFrame({'LinReg': lin_reg.w, 'Ridge': w_df[0.01], 'Lasso':lasso.coef_})"
      ],
      "metadata": {
        "colab": {
          "base_uri": "https://localhost:8080/",
          "height": 363
        },
        "id": "AzIRs8MeGryF",
        "outputId": "0e8693f7-0b85-4bfa-a86b-1edd51a6ce1b"
      },
      "execution_count": null,
      "outputs": [
        {
          "output_type": "execute_result",
          "data": {
            "text/plain": [
              "          LinReg     Ridge     Lasso\n",
              "0      -0.103717  0.367216  0.000000\n",
              "1     -45.612736  2.224039  0.000000\n",
              "2    1237.760969 -4.106585 -2.448696\n",
              "3  -11417.585337 -2.644742 -0.000000\n",
              "4   54166.959538 -0.548564 -0.000000\n",
              "5 -148219.000822  0.785831  0.000000\n",
              "6  242104.966322  1.330385  0.000000\n",
              "7 -232745.350477  1.313992  0.000000\n",
              "8  121449.735942  0.953448  0.000000\n",
              "9  -26531.764250  0.405277  1.722464"
            ],
            "text/html": [
              "\n",
              "  <div id=\"df-78f1e8d0-746a-492d-94c6-f3480e104bf2\">\n",
              "    <div class=\"colab-df-container\">\n",
              "      <div>\n",
              "<style scoped>\n",
              "    .dataframe tbody tr th:only-of-type {\n",
              "        vertical-align: middle;\n",
              "    }\n",
              "\n",
              "    .dataframe tbody tr th {\n",
              "        vertical-align: top;\n",
              "    }\n",
              "\n",
              "    .dataframe thead th {\n",
              "        text-align: right;\n",
              "    }\n",
              "</style>\n",
              "<table border=\"1\" class=\"dataframe\">\n",
              "  <thead>\n",
              "    <tr style=\"text-align: right;\">\n",
              "      <th></th>\n",
              "      <th>LinReg</th>\n",
              "      <th>Ridge</th>\n",
              "      <th>Lasso</th>\n",
              "    </tr>\n",
              "  </thead>\n",
              "  <tbody>\n",
              "    <tr>\n",
              "      <th>0</th>\n",
              "      <td>-0.103717</td>\n",
              "      <td>0.367216</td>\n",
              "      <td>0.000000</td>\n",
              "    </tr>\n",
              "    <tr>\n",
              "      <th>1</th>\n",
              "      <td>-45.612736</td>\n",
              "      <td>2.224039</td>\n",
              "      <td>0.000000</td>\n",
              "    </tr>\n",
              "    <tr>\n",
              "      <th>2</th>\n",
              "      <td>1237.760969</td>\n",
              "      <td>-4.106585</td>\n",
              "      <td>-2.448696</td>\n",
              "    </tr>\n",
              "    <tr>\n",
              "      <th>3</th>\n",
              "      <td>-11417.585337</td>\n",
              "      <td>-2.644742</td>\n",
              "      <td>-0.000000</td>\n",
              "    </tr>\n",
              "    <tr>\n",
              "      <th>4</th>\n",
              "      <td>54166.959538</td>\n",
              "      <td>-0.548564</td>\n",
              "      <td>-0.000000</td>\n",
              "    </tr>\n",
              "    <tr>\n",
              "      <th>5</th>\n",
              "      <td>-148219.000822</td>\n",
              "      <td>0.785831</td>\n",
              "      <td>0.000000</td>\n",
              "    </tr>\n",
              "    <tr>\n",
              "      <th>6</th>\n",
              "      <td>242104.966322</td>\n",
              "      <td>1.330385</td>\n",
              "      <td>0.000000</td>\n",
              "    </tr>\n",
              "    <tr>\n",
              "      <th>7</th>\n",
              "      <td>-232745.350477</td>\n",
              "      <td>1.313992</td>\n",
              "      <td>0.000000</td>\n",
              "    </tr>\n",
              "    <tr>\n",
              "      <th>8</th>\n",
              "      <td>121449.735942</td>\n",
              "      <td>0.953448</td>\n",
              "      <td>0.000000</td>\n",
              "    </tr>\n",
              "    <tr>\n",
              "      <th>9</th>\n",
              "      <td>-26531.764250</td>\n",
              "      <td>0.405277</td>\n",
              "      <td>1.722464</td>\n",
              "    </tr>\n",
              "  </tbody>\n",
              "</table>\n",
              "</div>\n",
              "      <button class=\"colab-df-convert\" onclick=\"convertToInteractive('df-78f1e8d0-746a-492d-94c6-f3480e104bf2')\"\n",
              "              title=\"Convert this dataframe to an interactive table.\"\n",
              "              style=\"display:none;\">\n",
              "        \n",
              "  <svg xmlns=\"http://www.w3.org/2000/svg\" height=\"24px\"viewBox=\"0 0 24 24\"\n",
              "       width=\"24px\">\n",
              "    <path d=\"M0 0h24v24H0V0z\" fill=\"none\"/>\n",
              "    <path d=\"M18.56 5.44l.94 2.06.94-2.06 2.06-.94-2.06-.94-.94-2.06-.94 2.06-2.06.94zm-11 1L8.5 8.5l.94-2.06 2.06-.94-2.06-.94L8.5 2.5l-.94 2.06-2.06.94zm10 10l.94 2.06.94-2.06 2.06-.94-2.06-.94-.94-2.06-.94 2.06-2.06.94z\"/><path d=\"M17.41 7.96l-1.37-1.37c-.4-.4-.92-.59-1.43-.59-.52 0-1.04.2-1.43.59L10.3 9.45l-7.72 7.72c-.78.78-.78 2.05 0 2.83L4 21.41c.39.39.9.59 1.41.59.51 0 1.02-.2 1.41-.59l7.78-7.78 2.81-2.81c.8-.78.8-2.07 0-2.86zM5.41 20L4 18.59l7.72-7.72 1.47 1.35L5.41 20z\"/>\n",
              "  </svg>\n",
              "      </button>\n",
              "      \n",
              "  <style>\n",
              "    .colab-df-container {\n",
              "      display:flex;\n",
              "      flex-wrap:wrap;\n",
              "      gap: 12px;\n",
              "    }\n",
              "\n",
              "    .colab-df-convert {\n",
              "      background-color: #E8F0FE;\n",
              "      border: none;\n",
              "      border-radius: 50%;\n",
              "      cursor: pointer;\n",
              "      display: none;\n",
              "      fill: #1967D2;\n",
              "      height: 32px;\n",
              "      padding: 0 0 0 0;\n",
              "      width: 32px;\n",
              "    }\n",
              "\n",
              "    .colab-df-convert:hover {\n",
              "      background-color: #E2EBFA;\n",
              "      box-shadow: 0px 1px 2px rgba(60, 64, 67, 0.3), 0px 1px 3px 1px rgba(60, 64, 67, 0.15);\n",
              "      fill: #174EA6;\n",
              "    }\n",
              "\n",
              "    [theme=dark] .colab-df-convert {\n",
              "      background-color: #3B4455;\n",
              "      fill: #D2E3FC;\n",
              "    }\n",
              "\n",
              "    [theme=dark] .colab-df-convert:hover {\n",
              "      background-color: #434B5C;\n",
              "      box-shadow: 0px 1px 3px 1px rgba(0, 0, 0, 0.15);\n",
              "      filter: drop-shadow(0px 1px 2px rgba(0, 0, 0, 0.3));\n",
              "      fill: #FFFFFF;\n",
              "    }\n",
              "  </style>\n",
              "\n",
              "      <script>\n",
              "        const buttonEl =\n",
              "          document.querySelector('#df-78f1e8d0-746a-492d-94c6-f3480e104bf2 button.colab-df-convert');\n",
              "        buttonEl.style.display =\n",
              "          google.colab.kernel.accessAllowed ? 'block' : 'none';\n",
              "\n",
              "        async function convertToInteractive(key) {\n",
              "          const element = document.querySelector('#df-78f1e8d0-746a-492d-94c6-f3480e104bf2');\n",
              "          const dataTable =\n",
              "            await google.colab.kernel.invokeFunction('convertToInteractive',\n",
              "                                                     [key], {});\n",
              "          if (!dataTable) return;\n",
              "\n",
              "          const docLinkHtml = 'Like what you see? Visit the ' +\n",
              "            '<a target=\"_blank\" href=https://colab.research.google.com/notebooks/data_table.ipynb>data table notebook</a>'\n",
              "            + ' to learn more about interactive tables.';\n",
              "          element.innerHTML = '';\n",
              "          dataTable['output_type'] = 'display_data';\n",
              "          await google.colab.output.renderOutput(dataTable, element);\n",
              "          const docLink = document.createElement('div');\n",
              "          docLink.innerHTML = docLinkHtml;\n",
              "          element.appendChild(docLink);\n",
              "        }\n",
              "      </script>\n",
              "    </div>\n",
              "  </div>\n",
              "  "
            ]
          },
          "metadata": {},
          "execution_count": 78
        }
      ]
    },
    {
      "cell_type": "code",
      "source": [
        "f = plt.figure(figsize=(20,5))\n",
        "ax1 = plt.subplot(1,3,1)\n",
        "visualize_model_fit(x,y,lin_reg,degree,reg_rate=0)\n",
        "plt.title('Linear Regression')\n",
        "plt.legend()\n",
        "\n",
        "lin_reg.w = w_df[0.01]\n",
        "ax2 = plt.subplot(1,3,2)\n",
        "visualize_model_fit(x, y, lin_reg,degree,reg_rate=0.01)\n",
        "plt.title('Ridge')\n",
        "plt.legend()\n",
        "\n",
        "ax3 = plt.subplot(1,3,3)\n",
        "visualize_model_fit(x, y, lasso, degree,reg_rate=0.01)\n",
        "plt.title('Lasso')\n",
        "plt.legend()"
      ],
      "metadata": {
        "colab": {
          "base_uri": "https://localhost:8080/",
          "height": 367
        },
        "id": "1lJLMjYFHPNQ",
        "outputId": "41ac5a76-b593-4c0e-bf91-558d88dfc23d"
      },
      "execution_count": null,
      "outputs": [
        {
          "output_type": "execute_result",
          "data": {
            "text/plain": [
              "<matplotlib.legend.Legend at 0x7fe2b74a3f50>"
            ]
          },
          "metadata": {},
          "execution_count": 18
        },
        {
          "output_type": "display_data",
          "data": {
            "text/plain": [
              "<Figure size 1440x360 with 3 Axes>"
            ],
            "image/png": "[encoded data removed]"
          },
          "metadata": {
            "needs_background": "light"
          }
        }
      ]
    }
  ]
}