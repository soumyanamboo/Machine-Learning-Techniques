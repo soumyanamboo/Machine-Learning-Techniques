{
  "nbformat": 4,
  "nbformat_minor": 0,
  "metadata": {
    "colab": {
      "provenance": [],
      "authorship_tag": "ABX9TyMNQaqf1cctLvEpst7nB5Bo"
    },
    "kernelspec": {
      "name": "python3",
      "display_name": "Python 3"
    },
    "language_info": {
      "name": "python"
    }
  },
  "cells": [
    {
      "cell_type": "code",
      "execution_count": null,
      "metadata": {
        "id": "OlGQjtzWKAsB"
      },
      "outputs": [],
      "source": [
        "import numpy as np\n",
        "from sklearn.model_selection import train_test_split\n",
        "from sklearn.metrics import classification_report"
      ]
    },
    {
      "cell_type": "code",
      "source": [
        "class MultinomialNB(object):\n",
        "  def fit(self, X, y, alpha=1):\n",
        "    n_samples, n_features = X.shape\n",
        "    self.classes = np.unique(y)\n",
        "    n_classes = len(self.classes)\n",
        "\n",
        "    self.w = np.zeros((n_classes, n_features), dtype=np.float64)\n",
        "    self.w_prior = np.zeros(n_classes, dtype=np.float64)\n",
        "\n",
        "    for idx, c in enumerate(self.classes):\n",
        "      X_c = X[y == c]\n",
        "      total_count = np.sum(np.sum(X_c, axis=1))\n",
        "      self.w[idx, :] = (np.sum(X_c, axis=0) + alpha) / (total_count + n_features * alpha)\n",
        "      self.w_prior[idx] = (X_c.shape[0] + alpha) / (float(n_samples) + alpha * n_classes)\n",
        "    \n",
        "    print('W: ', self.w)\n",
        "    print('Prior: ', self.w_prior)\n",
        "    \n",
        "  def log_likelyhood_prior_prod(self, X):\n",
        "    llp = X @ np.log(self.w).T + np.log(self.w_prior)\n",
        "    return llp\n",
        "  \n",
        "  def predict(self, X):\n",
        "    llp = self.log_likelyhood_prior_prod(X)\n",
        "    return np.argmax(llp, axis=1)\n",
        "  \n",
        "  def predict_probability(self, X):\n",
        "    q = self.log_likelyhood_prior_prod(X)\n",
        "    prob = np.exp(q) / np.expand_dims(np.sum(np.exp(q),axis=1),axis=1)\n",
        "    return prob"
      ],
      "metadata": {
        "id": "N6Wfzf03MU8x"
      },
      "execution_count": null,
      "outputs": []
    },
    {
      "cell_type": "code",
      "source": [
        "rng = np.random.RandomState(1)\n",
        "X = rng.randint(5, size=(1000,5))\n",
        "y = rng.randint(2, size=(1000,))\n",
        "X_train, X_test, y_train, y_test = train_test_split(X, y, test_size=0.2)\n",
        "print(X_train.shape)\n",
        "print(y_train.shape)"
      ],
      "metadata": {
        "colab": {
          "base_uri": "https://localhost:8080/"
        },
        "id": "dnGaxGK3Pceh",
        "outputId": "3addc8b3-3f2a-4256-9043-9a4f7bb636f3"
      },
      "execution_count": null,
      "outputs": [
        {
          "output_type": "stream",
          "name": "stdout",
          "text": [
            "(800, 5)\n",
            "(800,)\n"
          ]
        }
      ]
    },
    {
      "cell_type": "code",
      "source": [
        "multinomial_nb = MultinomialNB()\n",
        "multinomial_nb.fit(X_train, y_train)"
      ],
      "metadata": {
        "colab": {
          "base_uri": "https://localhost:8080/"
        },
        "id": "bgeiFkmlQS3P",
        "outputId": "dadac280-6410-4e0f-d5aa-5508624f6377"
      },
      "execution_count": null,
      "outputs": [
        {
          "output_type": "stream",
          "name": "stdout",
          "text": [
            "W:  [[0.21320706 0.18454057 0.19119529 0.20220118 0.2088559 ]\n",
            " [0.20838352 0.20067454 0.1992291  0.1989882  0.19272464]]\n",
            "Prior:  [0.48877805 0.51122195]\n"
          ]
        }
      ]
    },
    {
      "cell_type": "code",
      "source": [
        "print(classification_report(y_test, multinomial_nb.predict(X_test)))"
      ],
      "metadata": {
        "colab": {
          "base_uri": "https://localhost:8080/"
        },
        "id": "yqxJRsZeQO1e",
        "outputId": "b9ad85cf-49a9-4c65-a26e-f354245ff70a"
      },
      "execution_count": null,
      "outputs": [
        {
          "output_type": "stream",
          "name": "stdout",
          "text": [
            "              precision    recall  f1-score   support\n",
            "\n",
            "           0       0.46      0.35      0.40        94\n",
            "           1       0.53      0.64      0.58       106\n",
            "\n",
            "    accuracy                           0.51       200\n",
            "   macro avg       0.50      0.50      0.49       200\n",
            "weighted avg       0.50      0.51      0.49       200\n",
            "\n"
          ]
        }
      ]
    }
  ]
}