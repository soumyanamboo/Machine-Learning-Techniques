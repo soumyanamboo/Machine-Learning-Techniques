{
  "nbformat": 4,
  "nbformat_minor": 0,
  "metadata": {
    "colab": {
      "provenance": [],
      "authorship_tag": "ABX9TyMa9WlYWT96ZHgouhD/jkWa"
    },
    "kernelspec": {
      "name": "python3",
      "display_name": "Python 3"
    },
    "language_info": {
      "name": "python"
    }
  },
  "cells": [
    {
      "cell_type": "markdown",
      "source": [
        "#Perceptron\n",
        "##Training Data\n",
        "* Feature matrix $X_{(n,m+1)}$ includes dummy feature $x_0$ that is set to 1.\n",
        "* Label vector is $y_{(n,1)}$\n",
        "Perceptron can solve only binary classification problems.\n",
        "\n",
        "##Model\n",
        "$$ h_w: y = sign(W^T 𝞥(x))  \n",
        "           = sign(z)  $$  \n",
        "where w is a weight vector in $R^{(m+1)}$\n",
        "\n",
        "$$ sign(z) = \\{^{+1  if z>=0} _ {-1 otherwise}   $$\n",
        "\n",
        "##Loss function\n",
        "$$ J(W) = 𝚺_{i=1}^n e^{(i)} = 𝚺_{i=1}^n max(-h_w(x^{(i)})y^{(i)},0)\n",
        "$$\n",
        "\n",
        "##Optimisation Procedure\n",
        "1. Initialize $w^{(0)} = 0$\n",
        "2. for each training example, $(x^{(i)},y^{(i)})$\n",
        "  * $ŷ^{(i)} = sign(W^T X^{(i)})$ [calculate the output value]\n",
        "  * $w^{(t+1)}:= w^{(t)} + α (y^{(i)} - ŷ^{(i)}) 𝜱(X^{(i)})   $ [update the weights]\n",
        "\n",
        "Linear Separable examples leads to convergence of the algorithm with zero training loss, else it oscillates.  \n",
        "## Evaluation Metrics\n",
        "* Confusion metrics\n",
        "* Precision/Recall/F1"
      ],
      "metadata": {
        "id": "do7uPFUp7bFe"
      }
    },
    {
      "cell_type": "code",
      "execution_count": null,
      "metadata": {
        "id": "aNYrDeME7LEy"
      },
      "outputs": [],
      "source": [
        "# Import Libraries:\n",
        "import numpy as np\n",
        "import matplotlib.pyplot as plt\n",
        "import itertools\n",
        "import functools\n",
        "import seaborn as sns\n",
        "import math\n",
        "np.random.seed(111)"
      ]
    },
    {
      "cell_type": "code",
      "source": [
        "def encode(labels):\n",
        "  k = np.max(labels) + 1\n",
        "  encoder = np.eye(k)\n",
        "  return encoder[labels]\n",
        "\n",
        "#encode([1,2,3,4])"
      ],
      "metadata": {
        "id": "uD1lak9fluIF"
      },
      "execution_count": null,
      "outputs": []
    },
    {
      "cell_type": "code",
      "source": [
        "# @title [polynomial transformation]\n",
        "def get_combinations(x, degree):\n",
        "  return itertools.combinations_with_replacement(x, degree)\n",
        "\n",
        "def compute_new_feature(items):\n",
        "  return functools.reduce(lambda x, y: x*y, items) \n",
        "\n",
        "def polynomial_transform(x, degree, logging=False):\n",
        "  #convert feature to matrix\n",
        "  if(x.ndim ==1):\n",
        "    x = x[:,None]\n",
        "  x_t = x.transpose()   # transpose of feature matrix\n",
        "  features = [np.ones(len(x))] # populates 1's as first feature of each example\n",
        "  if(logging):\n",
        "    print('Input: ',x)\n",
        "\n",
        "  for degree in range(1, degree + 1):\n",
        "    for items in get_combinations(x_t,degree):  # generate combinations \n",
        "      features.append(compute_new_feature(items))  # combine features into new feature\n",
        "      if(logging):\n",
        "        print(items, ' : ', compute_new_feature(items))\n",
        "  if(logging):\n",
        "    print(np.asarray(features).transpose())\n",
        "  return np.asarray(features).transpose()"
      ],
      "metadata": {
        "cellView": "form",
        "id": "xMFbPZ4jAdXW"
      },
      "execution_count": null,
      "outputs": []
    },
    {
      "cell_type": "code",
      "source": [
        "#Perceptron class\n",
        "class Perceptron:\n",
        "  ''' Implements perceptron class\n",
        "      Class Variables:\n",
        "        w: final weight vector\n",
        "        w_all: all weight vector in training iterations\n",
        "        errors_all: all errors in training iterations\n",
        "  '''\n",
        "  def __init__(self):\n",
        "    self.w = None\n",
        "  \n",
        "  def predict(self, X):\n",
        "    ''' Predicts label for input feature matrix X'''\n",
        "    z = X @ self.w\n",
        "    return np.where(z>=0, 1, -1)\n",
        "  \n",
        "  def loss(self, X, y):\n",
        "    ''' Calculate loss due to current weight vector w and label vector y\n",
        "      Arguments:\n",
        "        X: feature matrix\n",
        "        y: label vector\n",
        "      Returns:\n",
        "        None\n",
        "    '''\n",
        "    return np.sum(np.maximum(-1 * self.predict(X) * y, np.zeros(y.shape[0])))\n",
        "  \n",
        "  def train(self, X, y, epochs=10, lr=0.001):\n",
        "    ''' Implements perceptron update rule\n",
        "        Arguments:\n",
        "        X: feature matrix\n",
        "        y: label vector\n",
        "        epochs: number of epochs\n",
        "        lr: learning rate\n",
        "      Returns:\n",
        "        None\n",
        "    '''\n",
        "    self.w = np.zeros(X.shape[1])\n",
        "    self.errors_all = []\n",
        "    self.w_all = []\n",
        "\n",
        "    for i in range(epochs):\n",
        "      errors = 0\n",
        "      for xi, target in zip(X, y):\n",
        "        #print('error: ', errors)\n",
        "        self.w += lr * (target - self.predict(xi)) * xi\n",
        "        errors += (max(-1*self.predict(xi) * target, 0))\n",
        "      \n",
        "      self.errors_all.append(errors)\n",
        "      # print('Loss : ',self.errors_all[-1])\n",
        "      # print('w : ', self.w)\n",
        "      self.w_all.append(self.w)\n",
        "    \n",
        "  #Commented for loss visualization. Uncomment in actual implementation\n",
        "      if(self.loss(X, y) == 0):\n",
        "        break      \n",
        "    return self.w"
      ],
      "metadata": {
        "id": "jIau9x4WAvum"
      },
      "execution_count": null,
      "outputs": []
    },
    {
      "cell_type": "code",
      "source": [
        "from numpy.core.multiarray import concatenate\n",
        "#@title [create toy dataset]\n",
        "def create_toy_data(add_outliers=False,add_class=False):\n",
        "  x0 = np.random.normal(size=50).reshape(-1,2) - 2\n",
        "  x1 = np.random.normal(size=50).reshape(-1,2) + 2\n",
        "  if add_outliers:\n",
        "    x_1 = np.random.normal(size=10).reshape(-1,2) + np.array([5., 10.])\n",
        "    return np.concatenate([x0,x1,x_1]), np.concatenate([np.zeros(25),np.ones(30),]).astype(int)\n",
        "  if add_class:\n",
        "    x2 = np.random.normal(size=50).reshape(-1,2) + 2\n",
        "    return np.concatenate([x0, x1, x2]), np.concatenate([np.zeros(25), np.ones(25), 2+np.zeros(25)]).astype(int)\n",
        "  return np.concatenate([x0, x1]), np.concatenate([np.zeros(25)-1, np.ones(25)]).astype(int)"
      ],
      "metadata": {
        "id": "Ki9HlSBpESoW"
      },
      "execution_count": null,
      "outputs": []
    },
    {
      "cell_type": "code",
      "source": [
        "#@title [Data Preprocessing]\n",
        "\n",
        "from sklearn.model_selection import train_test_split\n",
        "\n",
        "def preprocess(add_class=False,add_outliers=False,degree=1):\n",
        "  x, y = create_toy_data(add_outliers,add_class)\n",
        "  #print(x[:5,:], y[:5])\n",
        "  x_poly = polynomial_transform(x, degree=degree)\n",
        "  x_train, x_test, y_train, y_test = train_test_split(x_poly, y)\n",
        "  \n",
        "  return x_train, x_test, y_train, y_test  "
      ],
      "metadata": {
        "id": "GW345NepEXtS"
      },
      "execution_count": null,
      "outputs": []
    },
    {
      "cell_type": "code",
      "source": [
        "#@title [model visualization]\n",
        "sns.set_context(\"notebook\", font_scale=1.5, rc={\"lines.linewidth\": 2.5})\n",
        "\n",
        "def visualize_model(x_train, labels, lsc_obj, degree=1):\n",
        "  f = plt.figure(figsize=(8,8))\n",
        "  \n",
        "  #compute xlim and ylim\n",
        "  x1_min = np.min(x_train[:,1])\n",
        "  x1_max = np.max(x_train[:,1])\n",
        "  x2_min = np.min(x_train[:,2])\n",
        "  x2_max = np.max(x_train[:,2])\n",
        "\n",
        "  x1_test, x2_test = np.meshgrid(np.linspace(x1_min, x1_max, 100), np.linspace(x2_min, x2_max, 100))\n",
        "  x_test = np.array([x1_test, x2_test]).reshape(2,-1).T\n",
        "  x_test_poly = polynomial_transform(x_test, degree=degree)\n",
        "  y_test = lsc_obj.predict(x_test_poly)\n",
        "\n",
        "  sns.scatterplot(data=x_train, x=x_train[:,-2], y=x_train[:,-1], hue=labels)\n",
        "  plt.contourf(x1_test, x2_test, y_test.reshape(100,100),alpha=0.5, levels=np.linspace(0,1,3))\n",
        "  plt.xlabel('x1')\n",
        "  plt.ylabel('x2')\n",
        "  plt.xlim(x1_min, x1_max)\n",
        "  plt.ylim(x2_min, x2_max)\n",
        "  plt.gca().set_aspect('equal',adjustable='box')\n",
        "  plt.show()"
      ],
      "metadata": {
        "id": "VeRvBVhvEbDk"
      },
      "execution_count": null,
      "outputs": []
    },
    {
      "cell_type": "code",
      "source": [
        "#@title [Linearly Separable binary classification]\n",
        "#x1_train, x1_test, y1_train, y1_test, y1_train_trans, y1_test_trans = preprocess()\n",
        "x1_train, x1_test, y1_train, y1_test = preprocess()\n",
        "print('shape of training feature matrix', x1_train.shape)\n",
        "print('shape of training label vector', y1_train.shape)\n",
        "\n",
        "print('shape of test feature matrix', x1_test.shape)\n",
        "print('shape of test label vector', y1_test.shape)"
      ],
      "metadata": {
        "id": "hTjDgQXhEeax",
        "colab": {
          "base_uri": "https://localhost:8080/"
        },
        "outputId": "2e11c235-dccf-49da-b502-90431c3eee72"
      },
      "execution_count": null,
      "outputs": [
        {
          "output_type": "stream",
          "name": "stdout",
          "text": [
            "shape of training feature matrix (37, 3)\n",
            "shape of training label vector (37,)\n",
            "shape of test feature matrix (13, 3)\n",
            "shape of test label vector (13,)\n"
          ]
        }
      ]
    },
    {
      "cell_type": "code",
      "source": [
        "#@title [Visualization of dataset]\n",
        "sns.set_style(\"white\")\n",
        "f = plt.figure(figsize=(8,8))\n",
        "sns.set_context(\"notebook\",font_scale=1.5, rc={\"lines.linewidth\":2.5})\n",
        "sns.scatterplot(data=x1_train, x=x1_train[:,-2], y= x1_train[:,-1],hue=y1_train)\n",
        "plt.xlabel('x1')\n",
        "plt.ylabel('x2')\n",
        "plt.show()"
      ],
      "metadata": {
        "id": "KcIO2IoTEm86",
        "colab": {
          "base_uri": "https://localhost:8080/",
          "height": 515
        },
        "outputId": "369d08f0-3622-4e3b-9acd-415a35c45646"
      },
      "execution_count": null,
      "outputs": [
        {
          "output_type": "display_data",
          "data": {
            "text/plain": [
              "<Figure size 576x576 with 1 Axes>"
            ],
            "image/png": "[encoded data removed]"
          },
          "metadata": {}
        }
      ]
    },
    {
      "cell_type": "code",
      "source": [
        "perceptron_obj = Perceptron()\n",
        "#print(x_train[:5,:], y_train[:5])\n",
        "#print(x1_train[:5,:], y1_train[:5])\n",
        "perceptron_obj.train(x1_train, y1_train,epochs=10, lr=0.01)\n",
        "#print(perceptron_obj.w)\n",
        "visualize_model(x1_train, y1_train, perceptron_obj, degree=1)"
      ],
      "metadata": {
        "id": "iTMqbJuhEwOc",
        "colab": {
          "base_uri": "https://localhost:8080/",
          "height": 457
        },
        "outputId": "19671aa9-2b6c-4618-bd06-e0b6ef391ef9"
      },
      "execution_count": null,
      "outputs": [
        {
          "output_type": "display_data",
          "data": {
            "text/plain": [
              "<Figure size 576x576 with 1 Axes>"
            ],
            "image/png": "[encoded data removed]"
          },
          "metadata": {}
        }
      ]
    },
    {
      "cell_type": "code",
      "source": [
        "#without train test split\n",
        "XX, yy = create_toy_data()\n",
        "x_poly = polynomial_transform(XX, degree=1)\n",
        "p = Perceptron()\n",
        "p.train(x_poly, yy,epochs=10, lr=0.01)\n",
        "#print(perceptron_obj.w)\n",
        "visualize_model(x_poly, yy, p, degree=1)\n",
        "print(x_poly[0] @ p.w, yy[0])\n",
        "print('Loss = ', max((-1*p.predict(x_poly[0]) * yy[0]), 0))"
      ],
      "metadata": {
        "colab": {
          "base_uri": "https://localhost:8080/",
          "height": 556
        },
        "id": "7ELNZMb6SCBp",
        "outputId": "3ecb9f8e-f6e4-4688-f759-bb6d43c1778d"
      },
      "execution_count": null,
      "outputs": [
        {
          "output_type": "display_data",
          "data": {
            "text/plain": [
              "<Figure size 576x576 with 1 Axes>"
            ],
            "image/png": "[encoded data removed]"
          },
          "metadata": {}
        },
        {
          "output_type": "stream",
          "name": "stdout",
          "text": [
            "-0.3571712789206904 -1\n",
            "Loss =  0\n"
          ]
        }
      ]
    }
  ]
}