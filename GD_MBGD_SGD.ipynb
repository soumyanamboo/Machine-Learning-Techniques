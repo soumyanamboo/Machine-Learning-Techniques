{
  "nbformat": 4,
  "nbformat_minor": 0,
  "metadata": {
    "colab": {
      "provenance": [],
      "toc_visible": true,
      "authorship_tag": "ABX9TyMdhYeY3MI+FsBGoJfJ/AVi",
      "include_colab_link": true
    },
    "kernelspec": {
      "name": "python3",
      "display_name": "Python 3"
    },
    "language_info": {
      "name": "python"
    }
  },
  "cells": [
    {
      "cell_type": "markdown",
      "metadata": {
        "id": "view-in-github",
        "colab_type": "text"
      },
      "source": [
        "<a href=\"https://colab.research.google.com/github/soumyanamboo/Machine-Learning-Techniques/blob/main/GD_MBGD_SGD.ipynb\" target=\"_parent\"><img src=\"https://colab.research.google.com/assets/colab-badge.svg\" alt=\"Open In Colab\"/></a>"
      ]
    },
    {
      "cell_type": "markdown",
      "source": [
        "# Linear Regression:\n",
        "\n",
        "The steps to be followed are:\n",
        "1.   Import Libraries\n",
        "2.   Generate training data\n",
        "3.  Preprocessing: Dummy feature addition and train test split\n",
        "4.  Model Inference\n",
        "5.  Loss Calculation\n",
        "6.  Optimization"
      ],
      "metadata": {
        "id": "3DR2JoBcd6LO"
      }
    },
    {
      "cell_type": "markdown",
      "source": [
        "## **1. Import Libraries**"
      ],
      "metadata": {
        "id": "xh9iTbcIejRC"
      }
    },
    {
      "cell_type": "code",
      "execution_count": null,
      "metadata": {
        "id": "p2e-MMWSds9N"
      },
      "outputs": [],
      "source": [
        "from IPython.display import display, Math, Latex\n",
        "import numpy as np\n",
        "import matplotlib.pyplot as plt\n",
        "import seaborn as sns"
      ]
    },
    {
      "cell_type": "markdown",
      "source": [
        "## 2.   Generate training data"
      ],
      "metadata": {
        "id": "H4Q2RYhKerA_"
      }
    },
    {
      "cell_type": "code",
      "source": [
        "def generate_data(n):\n",
        "  \n",
        "  w = np.random.rand(2,)\n",
        "  X = 10 * np.random.rand(n,)\n",
        "\n",
        "  y = w[0] + w[1] * X + np.random.randn(n,)  # to add some random noice to the label value\n",
        "\n",
        "  return(X, y, w)"
      ],
      "metadata": {
        "id": "tr2cQXG_ev7e"
      },
      "execution_count": null,
      "outputs": []
    },
    {
      "cell_type": "code",
      "source": [
        "\n",
        "X, y, w = generate_data(100)\n",
        "print(X.shape, y.shape, w.shape)"
      ],
      "metadata": {
        "colab": {
          "base_uri": "https://localhost:8080/"
        },
        "id": "A90p8AEGhbui",
        "outputId": "5c2fd595-129c-42b0-bd5b-799d93280797"
      },
      "execution_count": null,
      "outputs": [
        {
          "output_type": "stream",
          "name": "stdout",
          "text": [
            "(100,) (100,) (2,)\n"
          ]
        }
      ]
    },
    {
      "cell_type": "markdown",
      "source": [
        "## 3.  Preprocessing: Dummy feature addition and train test split"
      ],
      "metadata": {
        "id": "pAzrcdLJe1yR"
      }
    },
    {
      "cell_type": "code",
      "source": [
        "def add_dummy_feature(x):\n",
        "  '''   Adds dummy feature to the dataset.\n",
        "\n",
        "        Args:\n",
        "          x : Training dataset\n",
        "        Returns:\n",
        "          Training dataset with addition of dummy feature.\n",
        "  '''\n",
        "  dummy_feature_matrix = np.column_stack((np.ones(x.shape[0]),x))\n",
        "  return(dummy_feature_matrix)"
      ],
      "metadata": {
        "id": "nVUPjdOlfd5X"
      },
      "execution_count": null,
      "outputs": []
    },
    {
      "cell_type": "code",
      "source": [
        "from sklearn.model_selection import train_test_split\n",
        "def preprocess(X,y):\n",
        "  X_train, X_test, y_train, y_test = train_test_split(X,y,test_size = 0.20, random_state=42)\n",
        "  X_train_with_dummy = add_dummy_feature(X_train)\n",
        "  y_train_with_dummy = add_dummy_feature(y_train)\n",
        "\n",
        "  X_test_with_dummy = add_dummy_feature(X_test)\n",
        "  y_test_with_dummy = add_dummy_feature(y_test)\n",
        "\n",
        "  return X_train_with_dummy, y_train, X_test_with_dummy, y_test"
      ],
      "metadata": {
        "id": "ZebTP--GfX28"
      },
      "execution_count": null,
      "outputs": []
    },
    {
      "cell_type": "code",
      "source": [
        "X_train, y_train, X_test, y_test = preprocess(X, y)\n",
        "print(X_train.shape, y_train.shape, X_test.shape, y_test.shape)"
      ],
      "metadata": {
        "colab": {
          "base_uri": "https://localhost:8080/"
        },
        "id": "evV0oI_PietI",
        "outputId": "ca417e5f-0871-41a4-ae84-bbb87f434d3a"
      },
      "execution_count": null,
      "outputs": [
        {
          "output_type": "stream",
          "name": "stdout",
          "text": [
            "(80, 2) (80,) (20, 2) (20,)\n"
          ]
        }
      ]
    },
    {
      "cell_type": "markdown",
      "source": [
        "## 4.  Model Inference"
      ],
      "metadata": {
        "id": "33CSJqBne69U"
      }
    },
    {
      "cell_type": "code",
      "source": [
        "def predict(X, w):\n",
        "  ''' Prediction of output label for a given input\n",
        "\n",
        "      Args:\n",
        "        X: feature matrix of shape (n,m+1)\n",
        "        w: weight vector of shape(m+1, 1)\n",
        "      Returns:\n",
        "        y: predicted label vector of shape (n,1)\n",
        "  '''\n",
        "  # checking feature matrix and weight vector have compatible shape\n",
        "  assert X.shape[-1] == w.shape[0], \"X and w dont have compatible dimensions\"\n",
        "  return X @ w"
      ],
      "metadata": {
        "id": "AxjclzmufkbW"
      },
      "execution_count": null,
      "outputs": []
    },
    {
      "cell_type": "markdown",
      "source": [
        "## 5.  Loss Calculation"
      ],
      "metadata": {
        "id": "ioEegKx8e_71"
      }
    },
    {
      "cell_type": "code",
      "source": [
        "def loss(X, y, w):\n",
        "  ''' Calculating loss of a model\n",
        "      Args:\n",
        "        X: feature matrix of shape (n,m+1)\n",
        "        y: label vector of shape (n,)\n",
        "        w: weight vector of shape (m+1,1)\n",
        "      Returns:\n",
        "        Loss\n",
        "  '''\n",
        "  e = predict(X, w) - y\n",
        "  L = (1/2) * (np.transpose(e) @ e)\n",
        "  return(L)"
      ],
      "metadata": {
        "id": "B4CqWJmJfuG2"
      },
      "execution_count": null,
      "outputs": []
    },
    {
      "cell_type": "markdown",
      "source": [
        "## 6.  Optimization"
      ],
      "metadata": {
        "id": "Hi0O7n6hfDZ_"
      }
    },
    {
      "cell_type": "markdown",
      "source": [
        "### 1. Using Normal Equation:"
      ],
      "metadata": {
        "id": "6mjXO63sf3M_"
      }
    },
    {
      "cell_type": "code",
      "source": [
        "def normal_equation(X, y):\n",
        "  ''' Estimate the parameters of linear regression model with normal quation.\n",
        "\n",
        "      Args:\n",
        "        X: feature meatrix of given inputs\n",
        "        y: label vector\n",
        "\n",
        "      Returns:\n",
        "        Weight vector\n",
        "  '''\n",
        "  w1 = np.linalg.pinv(X) @ y\n",
        "  return w1"
      ],
      "metadata": {
        "id": "kxvM9cZif8Bu"
      },
      "execution_count": null,
      "outputs": []
    },
    {
      "cell_type": "markdown",
      "source": [
        "### 2.  Gradient Descent"
      ],
      "metadata": {
        "id": "tD4-Bf4_f_4R"
      }
    },
    {
      "cell_type": "code",
      "source": [
        "def calculate_gradient(X, y ,w):\n",
        "  ''' Calculates gradient of loss function w.r.t weight vector on training set\n",
        "\n",
        "      Args:\n",
        "        X: feature matrix of shape (n,m+1)\n",
        "        y: label vector of shape (n,)\n",
        "        w: weight vector of shape (m+1,1)\n",
        "      Returns:\n",
        "        A vector of gradients\n",
        "  '''\n",
        "  gradient = np.transpose(X) @ (predict(X,w) - y)\n",
        "  return gradient"
      ],
      "metadata": {
        "id": "aMBg-rTcf_Rh"
      },
      "execution_count": null,
      "outputs": []
    },
    {
      "cell_type": "code",
      "source": [
        "def update_weights(w, grad, lr):\n",
        "  ''' updates the weights based on the gradient of the loss function\n",
        "      w_new = w_old - (lr * grad)\n",
        "      Args:\n",
        "        w: old weight vector\n",
        "        grad: gradient of loss w.r.t w\n",
        "        lr: learning rate\n",
        "      Return:\n",
        "        updated weight vector\n",
        "  '''\n",
        "  w_new = w - (lr * grad)\n",
        "  return w_new"
      ],
      "metadata": {
        "id": "PaDQh9mhgN-r"
      },
      "execution_count": null,
      "outputs": []
    },
    {
      "cell_type": "code",
      "source": [
        "def gradient_descent(X:np.ndarray, y:np.ndarray,lr:float, num_epochs:int):\n",
        "  ''' Estimate parameters of linear regression model through gradient descent\n",
        "\n",
        "      Args:\n",
        "        X: Feature Matrix\n",
        "        y: label vector\n",
        "        lr: learning rate\n",
        "        num_epochs: number of training steps\n",
        "      \n",
        "      Return:\n",
        "      weight vector: final weight vector\n",
        "      Error vector across all iterations\n",
        "      weight vector across all iterations\n",
        "  '''\n",
        "  w_all = []    # weight vector across all iterations\n",
        "  err_all = []  # error vector across all iterations\n",
        "\n",
        "  # parameter vector initialized to zeroes\n",
        "  w = np.zeros(X_train.shape[-1])\n",
        "\n",
        "  # Gradient descent loop\n",
        "  print()\n",
        "  for i in np.arange(0, num_epochs):\n",
        "    w_all.append(w)\n",
        "\n",
        "    #calculate error due to the current weight vector using loss function\n",
        "    err_all.append(loss(X_train, y_train,w))\n",
        "\n",
        "    #gradient calculation\n",
        "    dJdw = calculate_gradient(X_train, y_train, w)\n",
        "\n",
        "    #Print status every 100 iterations\n",
        "    if(i%100 == 0):\n",
        "      print('Iteration #: %d, loss: %4.2f'%(i, err_all[-1]))\n",
        "    \n",
        "    #weight vector update\n",
        "    w = update_weights(w,dJdw,lr)\n",
        "  \n",
        "  return w, err_all, w_all"
      ],
      "metadata": {
        "id": "TWdsEtzUgSqC"
      },
      "execution_count": null,
      "outputs": []
    },
    {
      "cell_type": "code",
      "source": [
        "def plot_learning_curves(err_all):\n",
        "  plt.plot(err_all)\n",
        "  plt.xlabel(\"iteration #\")\n",
        "  plt.ylabel(\"Loss $J(\\mathbf{w})$\")"
      ],
      "metadata": {
        "id": "VXkHeNadgb8l"
      },
      "execution_count": null,
      "outputs": []
    },
    {
      "cell_type": "code",
      "source": [
        "w_gd, err_all, w_all = gradient_descent(X_train, y_train, lr=0.0001, num_epochs=2000)\n",
        "plot_learning_curves(err_all)"
      ],
      "metadata": {
        "colab": {
          "base_uri": "https://localhost:8080/",
          "height": 644
        },
        "id": "DK2I6DaTgecp",
        "outputId": "53050c4d-aea6-4350-f6c9-01025fa3a918"
      },
      "execution_count": null,
      "outputs": [
        {
          "output_type": "stream",
          "name": "stdout",
          "text": [
            "\n",
            "Iteration #: 0, loss: 1355.85\n",
            "Iteration #: 100, loss: 30.80\n",
            "Iteration #: 200, loss: 29.91\n",
            "Iteration #: 300, loss: 29.31\n",
            "Iteration #: 400, loss: 28.90\n",
            "Iteration #: 500, loss: 28.62\n",
            "Iteration #: 600, loss: 28.43\n",
            "Iteration #: 700, loss: 28.31\n",
            "Iteration #: 800, loss: 28.22\n",
            "Iteration #: 900, loss: 28.16\n",
            "Iteration #: 1000, loss: 28.12\n",
            "Iteration #: 1100, loss: 28.10\n",
            "Iteration #: 1200, loss: 28.08\n",
            "Iteration #: 1300, loss: 28.07\n",
            "Iteration #: 1400, loss: 28.06\n",
            "Iteration #: 1500, loss: 28.05\n",
            "Iteration #: 1600, loss: 28.05\n",
            "Iteration #: 1700, loss: 28.04\n",
            "Iteration #: 1800, loss: 28.04\n",
            "Iteration #: 1900, loss: 28.04\n"
          ]
        },
        {
          "output_type": "display_data",
          "data": {
            "text/plain": [
              "<Figure size 432x288 with 1 Axes>"
            ],
            "image/png": "[encoded data removed]"
          },
          "metadata": {
            "needs_background": "light"
          }
        }
      ]
    },
    {
      "cell_type": "code",
      "source": [
        "print(w_gd)\n",
        "plt.figure()\n",
        "plt.scatter(X_train[:,1], y_train)\n",
        "plt.plot(X_train[:,1], X_train@w_gd,'r')\n",
        "plt.show()"
      ],
      "metadata": {
        "colab": {
          "base_uri": "https://localhost:8080/",
          "height": 282
        },
        "id": "WYdcJwwQ1lXD",
        "outputId": "1cd69b50-4435-44de-d897-6aa0a72647b3"
      },
      "execution_count": null,
      "outputs": [
        {
          "output_type": "stream",
          "name": "stdout",
          "text": [
            "[0.76872424 0.86039115]\n"
          ]
        },
        {
          "output_type": "display_data",
          "data": {
            "text/plain": [
              "<Figure size 432x288 with 1 Axes>"
            ],
            "image/png": "[encoded data removed]"
          },
          "metadata": {
            "needs_background": "light"
          }
        }
      ]
    },
    {
      "cell_type": "markdown",
      "source": [
        "### MiniBatch Gradient Descent (MGBGD)"
      ],
      "metadata": {
        "id": "aE9fGWUbgjd-"
      }
    },
    {
      "cell_type": "code",
      "source": [
        "t0, t1 = 200, 100000\n",
        "def learning_schedule(t):\n",
        "  return (t0 / (t + t1))"
      ],
      "metadata": {
        "id": "2FC-XKc4gmCz"
      },
      "execution_count": null,
      "outputs": []
    },
    {
      "cell_type": "code",
      "source": [
        "def mini_batch_gd(X:np.ndarray, y:np.ndarray, num_iters:int, minibatch_size:int):\n",
        "  ''' Estimates paramaters of linear regression through mini batch gradient descent\n",
        "\n",
        "      Args:\n",
        "        X : feature matrix\n",
        "        y : label vector\n",
        "        num_iters : number of iterations\n",
        "        minibatch_size : batch size\n",
        "      \n",
        "      Returns:\n",
        "        weight vector\n",
        "        error vector of all iterations\n",
        "        weight vector of all iterations\n",
        "  '''\n",
        "  w_all = []  # weight vector of all iterations\n",
        "  err_all = [] # loss vector of all iterations\n",
        "\n",
        "  #weight vector(parameter vector) initialized to [0,0]\n",
        "  w = np.zeros((X.shape[1]))\n",
        "  t = 0\n",
        "\n",
        "  for epoch in range(num_iters):\n",
        "    shuffled_indices = np.random.permutation(X.shape[0])\n",
        "    X_shuffled = X[shuffled_indices]\n",
        "    y_shuffled = y[shuffled_indices]\n",
        "\n",
        "    for i in range(0,X.shape[0],minibatch_size):\n",
        "      t += 1\n",
        "      xi = X_shuffled[i:i+minibatch_size]\n",
        "      yi = y_shuffled[i:i+minibatch_size]\n",
        "      err_all.append(loss(xi, yi, w))\n",
        "\n",
        "      gradients = 2/minibatch_size * calculate_gradient(xi, yi, w)\n",
        "      lr = learning_schedule(t)\n",
        "      w = update_weights(w, gradients,lr)\n",
        "      w_all.append(w)\n",
        "\n",
        "  return w, err_all, w_all"
      ],
      "metadata": {
        "id": "dhZtKOcJgorv"
      },
      "execution_count": null,
      "outputs": []
    },
    {
      "cell_type": "code",
      "source": [
        "w_mbgd, err_all, w_all = mini_batch_gd(X_train, y_train, 200, 100)\n",
        "plot_learning_curves(err_all)"
      ],
      "metadata": {
        "colab": {
          "base_uri": "https://localhost:8080/",
          "height": 280
        },
        "id": "qrtyYXtagr2t",
        "outputId": "98abacea-1578-42c3-ba48-f6e27de04127"
      },
      "execution_count": null,
      "outputs": [
        {
          "output_type": "display_data",
          "data": {
            "text/plain": [
              "<Figure size 432x288 with 1 Axes>"
            ],
            "image/png": "[encoded data removed]"
          },
          "metadata": {
            "needs_background": "light"
          }
        }
      ]
    },
    {
      "cell_type": "code",
      "source": [
        "print(w_mbgd)\n",
        "plt.figure()\n",
        "plt.scatter(X_train[:,1], y_train)\n",
        "plt.plot(X_train[:,1], X_train@w_mbgd,'r')\n",
        "plt.show()"
      ],
      "metadata": {
        "colab": {
          "base_uri": "https://localhost:8080/",
          "height": 282
        },
        "id": "cmnO_aKA4JV9",
        "outputId": "2f9e8105-4b39-4881-e3c2-5339a5a61f6b"
      },
      "execution_count": null,
      "outputs": [
        {
          "output_type": "stream",
          "name": "stdout",
          "text": [
            "[0.23316799 0.93955461]\n"
          ]
        },
        {
          "output_type": "display_data",
          "data": {
            "text/plain": [
              "<Figure size 432x288 with 1 Axes>"
            ],
            "image/png": "[encoded data removed]"
          },
          "metadata": {
            "needs_background": "light"
          }
        }
      ]
    },
    {
      "cell_type": "markdown",
      "source": [
        "### 4. Stocastic Gradient Descent (SGD)"
      ],
      "metadata": {
        "id": "ybifIK5VgvNp"
      }
    },
    {
      "cell_type": "code",
      "source": [
        "def sgd(X:np.ndarray, y:np.ndarray, num_epochs:int):\n",
        "  ''' Estimates paramaters of linear regression through mini batch gradient descent\n",
        "\n",
        "      Args:\n",
        "        X : feature matrix\n",
        "        y : label vector\n",
        "        num_epochs : number of iterations\n",
        "        \n",
        "      Returns:\n",
        "        weight vector\n",
        "        error vector of all iterations\n",
        "        weight vector of all iterations\n",
        "  '''\n",
        "  w_all = []  # weight vector of all iterations\n",
        "  err_all = [] # loss vector of all iterations\n",
        "\n",
        "  #weight vector(parameter vector) initialized to [0,0]\n",
        "  w = np.zeros((X.shape[1]))\n",
        "\n",
        "  for epoch in range(num_epochs):\n",
        "    for i in range(X.shape[0]):\n",
        "      random_index = np.random.randint(X.shape[0])\n",
        "      xi = X[random_index:random_index+1]\n",
        "      yi = y[random_index:random_index+1]\n",
        "      err_all.append(loss(xi, yi, w))\n",
        "\n",
        "      gradients = 2 * calculate_gradient(xi, yi, w)\n",
        "      lr = learning_schedule(epoch * X.shape[0]+i)\n",
        "      w = update_weights(w, gradients,lr)\n",
        "      w_all.append(w)\n",
        "\n",
        "  return w, err_all, w_all"
      ],
      "metadata": {
        "id": "aM7rPa8Qg1GL"
      },
      "execution_count": null,
      "outputs": []
    },
    {
      "cell_type": "code",
      "source": [
        "w_sgd, err_all, w_all = sgd(X_train, y_train, 20)\n",
        "plot_learning_curves(err_all)"
      ],
      "metadata": {
        "colab": {
          "base_uri": "https://localhost:8080/",
          "height": 283
        },
        "id": "EZZndqX-g8BG",
        "outputId": "06bb7cf1-ffbb-4f0b-9116-743a8ffcd4a2"
      },
      "execution_count": null,
      "outputs": [
        {
          "output_type": "display_data",
          "data": {
            "text/plain": [
              "<Figure size 432x288 with 1 Axes>"
            ],
            "image/png": "[encoded data removed]"
          },
          "metadata": {
            "needs_background": "light"
          }
        }
      ]
    },
    {
      "cell_type": "code",
      "source": [
        "print(w_sgd)\n",
        "plt.figure()\n",
        "plt.scatter(X_train[:,1], y_train)\n",
        "plt.plot(X_train[:,1], X_train@w_sgd,'r')\n",
        "plt.show()"
      ],
      "metadata": {
        "colab": {
          "base_uri": "https://localhost:8080/",
          "height": 282
        },
        "id": "aUl-DMuc4YX6",
        "outputId": "004bf05b-4acd-41d7-a6c4-c036e58d84ef"
      },
      "execution_count": null,
      "outputs": [
        {
          "output_type": "stream",
          "name": "stdout",
          "text": [
            "[0.72722751 0.9060435 ]\n"
          ]
        },
        {
          "output_type": "display_data",
          "data": {
            "text/plain": [
              "<Figure size 432x288 with 1 Axes>"
            ],
            "image/png": "[encoded data removed]"
          },
          "metadata": {
            "needs_background": "light"
          }
        }
      ]
    },
    {
      "cell_type": "markdown",
      "source": [
        "Comparison of GD, MBGD and SGD"
      ],
      "metadata": {
        "id": "DCs9zioG5QDD"
      }
    },
    {
      "cell_type": "code",
      "source": [
        "plt.figure(figsize=(10,10))\n",
        "plt.scatter(X_train[:,1], y_train)\n",
        "plt.plot(X_train[:,1], X_train@w_gd,'black')\n",
        "plt.plot(X_train[:,1], X_train@w_mbgd,'y')\n",
        "plt.plot(X_train[:,1], X_train@w_sgd,'r')\n",
        "plt.legend([\"GD\", \"MBGD\", \"SGD\"])\n",
        "plt.xlabel(\"Input Feature\")\n",
        "plt.ylabel(\"Output (y)\")\n",
        "plt.title(\"Comparison of GD, MBGD and SGD\")\n",
        "plt.show()"
      ],
      "metadata": {
        "colab": {
          "base_uri": "https://localhost:8080/",
          "height": 621
        },
        "id": "5b2hR_BP5VJ5",
        "outputId": "f0dfd796-b70f-43bc-d2f4-d262162bfa98"
      },
      "execution_count": null,
      "outputs": [
        {
          "output_type": "display_data",
          "data": {
            "text/plain": [
              "<Figure size 720x720 with 1 Axes>"
            ],
            "image/png": "[encoded data removed]"
          },
          "metadata": {
            "needs_background": "light"
          }
        }
      ]
    }
  ]
}