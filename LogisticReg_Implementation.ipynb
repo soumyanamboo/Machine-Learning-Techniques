{
  "nbformat": 4,
  "nbformat_minor": 0,
  "metadata": {
    "colab": {
      "provenance": [],
      "authorship_tag": "ABX9TyOsQarSXEJv3/1xsXMGjlyG"
    },
    "kernelspec": {
      "name": "python3",
      "display_name": "Python 3"
    },
    "language_info": {
      "name": "python"
    }
  },
  "cells": [
    {
      "cell_type": "markdown",
      "source": [
        "#Logistic Regression Class"
      ],
      "metadata": {
        "id": "-QoNOGx0vhjG"
      }
    },
    {
      "cell_type": "code",
      "source": [
        "#import libraries\n",
        "from IPython.display import display, Math, Latex\n",
        "import math\n",
        "import numpy as np\n",
        "\n",
        "import matplotlib.pyplot as plt\n",
        "import seaborn as sns\n",
        "import functools\n",
        "import itertools\n",
        "\n",
        "%matplotlib inline\n",
        "\n",
        "np.random.seed(1234)\n"
      ],
      "metadata": {
        "id": "gfjdFfzOvgsX"
      },
      "execution_count": null,
      "outputs": []
    },
    {
      "cell_type": "code",
      "execution_count": null,
      "metadata": {
        "id": "XmAxrCTkvXOk"
      },
      "outputs": [],
      "source": [
        "#@title Logistic Regression Class defenition\n",
        "class Logistic_Regression(object):\n",
        "  ''' Logistic regression model : y = sigmoid (X@w)'''\n",
        "\n",
        "  def set_weight_vector(self,w):\n",
        "    self.w = w\n",
        "  \n",
        "  def linear_combination(self, X:np.ndarray):\n",
        "    return X @ self.w\n",
        "  \n",
        "  def sigmoid(self, z:np.ndarray):\n",
        "    return (1/(1 + np.exp(-z)))\n",
        "  \n",
        "  def activation(self, X:np.ndarray):\n",
        "    '''calculates sigmoid activation for logistic regression as act = sigmoid(Xw)'''\n",
        "\n",
        "    return self.sigmoid(self.linear_combination(X))\n",
        "  \n",
        "  def predict(self, X:np.ndarray, threshold:float = 0.5):\n",
        "    return (self.activation(X) > threshold).astype(int)\n",
        "  \n",
        "  def loss(self,X:np.ndarray,y:np.ndarray, reg_rate:float):\n",
        "    predicted_prob = self.activation(X)\n",
        "    loss = (-1 * np.sum(y * np.log(predicted_prob) + (1-y)*np.log(1 - predicted_prob))) + reg_rate * (np.transpose(self.w) @ self.w)\n",
        "    return loss\n",
        "  \n",
        "  def calculate_gradient(self, X:np.ndarray, y:np.ndarray,reg_rate:float):\n",
        "    grad = np.transpose(X) @ (self.activation(X) - y) + reg_rate * self.w\n",
        "    return grad\n",
        "  \n",
        "  def update_weight(self, grad:np.ndarray, lr:float):\n",
        "    return (self.w - lr * grad)\n",
        "  \n",
        "  def gd(self, X:np.ndarray, y:np.ndarray, num_epochs:int, lr:float, reg_rate:float):\n",
        "    self.w = np.zeros(X.shape[1])\n",
        "    self.w_all = []\n",
        "    self.err_all = []\n",
        "    for i in np.arange(0, num_epochs):\n",
        "      dJdw = self.calculate_gradient(X, y, reg_rate)\n",
        "      self.w_all.append(self.w)\n",
        "      self.err_all.append(self.loss(X, y, reg_rate))\n",
        "      self.w = self.update_weight(dJdw, lr)\n",
        "    return self.w"
      ]
    },
    {
      "cell_type": "markdown",
      "source": [
        "##STEP1:\n",
        "Toy dataset Creation:   \n",
        "Generate two linearly separable classes with 50 samples each. Each sample is represented with two features."
      ],
      "metadata": {
        "id": "H9TUlrobv5KP"
      }
    },
    {
      "cell_type": "code",
      "source": [
        "def create_toy_data():\n",
        "  x0 = np.random.normal(size=100).reshape(-1,2) + 1 \n",
        "  x1 = np.random.normal(size=100).reshape(-1,2) - 1\n",
        "  feature_mat = np.concatenate([x0,x1])\n",
        "  label_vect = np.concatenate([np.zeros(50),np.ones(50)]).astype(int)\n",
        "  #np.random.shuffle(label_vect)\n",
        "  return feature_mat, label_vect"
      ],
      "metadata": {
        "id": "BPAc6jItwMXb"
      },
      "execution_count": null,
      "outputs": []
    },
    {
      "cell_type": "code",
      "source": [
        "arr1 = np.concatenate([np.zeros(25),np.ones(25)])\n",
        "print(arr1)\n",
        "#np.random.shuffle(arr1)\n",
        "arr1"
      ],
      "metadata": {
        "colab": {
          "base_uri": "https://localhost:8080/"
        },
        "id": "PWnylHwe3ZZK",
        "outputId": "10b90e01-46ed-4b70-e556-5fa07bc381d7"
      },
      "execution_count": null,
      "outputs": [
        {
          "output_type": "stream",
          "name": "stdout",
          "text": [
            "[0. 0. 0. 0. 0. 0. 0. 0. 0. 0. 0. 0. 0. 0. 0. 0. 0. 0. 0. 0. 0. 0. 0. 0.\n",
            " 0. 1. 1. 1. 1. 1. 1. 1. 1. 1. 1. 1. 1. 1. 1. 1. 1. 1. 1. 1. 1. 1. 1. 1.\n",
            " 1. 1.]\n"
          ]
        },
        {
          "output_type": "execute_result",
          "data": {
            "text/plain": [
              "array([0., 0., 0., 0., 0., 0., 0., 0., 0., 0., 0., 0., 0., 0., 0., 0., 0.,\n",
              "       0., 0., 0., 0., 0., 0., 0., 0., 1., 1., 1., 1., 1., 1., 1., 1., 1.,\n",
              "       1., 1., 1., 1., 1., 1., 1., 1., 1., 1., 1., 1., 1., 1., 1., 1.])"
            ]
          },
          "metadata": {},
          "execution_count": 49
        }
      ]
    },
    {
      "cell_type": "code",
      "source": [
        "feature_matrix, label_vector = create_toy_data()\n",
        "print('Feature matrix shape: ', feature_matrix.shape)\n",
        "print('Label vector shape: ', label_vector.shape)\n",
        "#print(label_vector)\n",
        "assert feature_matrix.shape[0] == label_vector.shape[0]"
      ],
      "metadata": {
        "colab": {
          "base_uri": "https://localhost:8080/"
        },
        "id": "PPKbsfZqxEGw",
        "outputId": "c031d9f2-c833-44c4-91bb-77057c554ff8"
      },
      "execution_count": null,
      "outputs": [
        {
          "output_type": "stream",
          "name": "stdout",
          "text": [
            "Feature matrix shape:  (100, 2)\n",
            "Label vector shape:  (100,)\n"
          ]
        }
      ]
    },
    {
      "cell_type": "markdown",
      "source": [
        "##Step 2:\n",
        "Add dummy feature corresponding to the bias.   \n",
        "* the dummy feature can be aaded by performing polynomial transformation of degree=1."
      ],
      "metadata": {
        "id": "rM2AAZXCyufy"
      }
    },
    {
      "cell_type": "code",
      "source": [
        "#@title Polynomial transformation\n",
        "def get_combinations(X, degree):\n",
        "  return itertools.combinations_with_replacement(X, degree)\n",
        "\n",
        "def compute_new_features(items):\n",
        "  return functools.reduce(lambda x,y:x*y, items)\n",
        "\n",
        "def polynomial_transform(X, degree):\n",
        "  if(X.ndim == 1):\n",
        "    X = X[:,None]\n",
        "  X_t = np.transpose(X)\n",
        "  features = [np.ones(X.shape[0])]\n",
        "\n",
        "  for d in range(1, degree+1):\n",
        "    for items in get_combinations(X_t, d):\n",
        "      features.append(compute_new_features(items))\n",
        "  \n",
        "  return np.asarray(np.transpose(features))"
      ],
      "metadata": {
        "id": "jYBUhX_lzAK3"
      },
      "execution_count": null,
      "outputs": []
    },
    {
      "cell_type": "code",
      "source": [
        "feature_matrix_bias = polynomial_transform(feature_matrix,degree=1)"
      ],
      "metadata": {
        "id": "dG0VgRy21Lsz"
      },
      "execution_count": null,
      "outputs": []
    },
    {
      "cell_type": "markdown",
      "source": [
        "##STEP 3:\n",
        "Separate data into training and test set\n"
      ],
      "metadata": {
        "id": "XlB2ZP8wy_kD"
      }
    },
    {
      "cell_type": "code",
      "source": [
        "from sklearn.model_selection import train_test_split\n",
        "x_train, x_test, y_train, y_test = train_test_split(feature_matrix_bias, label_vector,train_size=80)\n",
        "\n",
        "print(x_train.shape[0],  y_train.shape[0])\n",
        "print(x_test.shape[0],  y_test.shape[0])\n",
        "assert x_train.shape[0] ==  y_train.shape[0]\n",
        "assert x_test.shape[0] ==  y_test.shape[0]"
      ],
      "metadata": {
        "colab": {
          "base_uri": "https://localhost:8080/"
        },
        "id": "joMfbpfq24jq",
        "outputId": "4b7b52e0-2900-4192-820c-a6085968243e"
      },
      "execution_count": null,
      "outputs": [
        {
          "output_type": "stream",
          "name": "stdout",
          "text": [
            "80 80\n",
            "20 20\n"
          ]
        }
      ]
    },
    {
      "cell_type": "markdown",
      "source": [
        "##Visualize Training Dataset"
      ],
      "metadata": {
        "id": "z_mkTuJ-5c72"
      }
    },
    {
      "cell_type": "code",
      "source": [
        "sns.set_style(\"white\")\n",
        "f = plt.figure(figsize=(8,8))\n",
        "sns.set_context(\"notebook\", font_scale=1.5, rc={\"lines.linewidth\":2.5})\n",
        "sns.scatterplot(data=x_train,x=x_train[:,-2], y=x_train[:,-1], hue=y_train)\n",
        "plt.xlabel('x1')\n",
        "plt.ylabel('x2')\n",
        "plt.show()"
      ],
      "metadata": {
        "colab": {
          "base_uri": "https://localhost:8080/",
          "height": 515
        },
        "id": "ZviGmHFz5gGA",
        "outputId": "872591a3-4fe3-4973-f2a2-04134f1b5d83"
      },
      "execution_count": null,
      "outputs": [
        {
          "output_type": "display_data",
          "data": {
            "text/plain": [
              "<Figure size 576x576 with 1 Axes>"
            ],
            "image/png": "[encoded data removed]"
          },
          "metadata": {}
        }
      ]
    },
    {
      "cell_type": "markdown",
      "source": [
        "##STEP 5:\n",
        "1. Instantiate a logistic regression object\n",
        "2. Train the model with gradient descent procedure on the training dataset."
      ],
      "metadata": {
        "id": "-Pn4G2Sb7LDO"
      }
    },
    {
      "cell_type": "code",
      "source": [
        "log_reg = Logistic_Regression()\n",
        "log_reg.gd(x_train, y_train, num_epochs=1000,reg_rate=0,lr=1e-2)"
      ],
      "metadata": {
        "colab": {
          "base_uri": "https://localhost:8080/"
        },
        "id": "29ND6UP67bE9",
        "outputId": "97efd8d6-190f-4815-ddbb-ebdd2d24f0f4"
      },
      "execution_count": null,
      "outputs": [
        {
          "output_type": "execute_result",
          "data": {
            "text/plain": [
              "array([ 0.45996415, -4.7596002 , -2.59553511])"
            ]
          },
          "metadata": {},
          "execution_count": 55
        }
      ]
    },
    {
      "cell_type": "markdown",
      "source": [
        "##Plot learnig Curve"
      ],
      "metadata": {
        "id": "y-44KfEU7_an"
      }
    },
    {
      "cell_type": "code",
      "source": [
        "def plot_learning_curve(err):\n",
        "  plt.plot(err, 'r-')\n",
        "  plt.xlabel('# iteration')\n",
        "  plt.ylabel('Loss J(w)')\n",
        "  plt.show()"
      ],
      "metadata": {
        "id": "DFmO_c-98Cjk"
      },
      "execution_count": null,
      "outputs": []
    },
    {
      "cell_type": "code",
      "source": [
        "plot_learning_curve(log_reg.err_all)\n",
        "print('weight vector', log_reg.w)"
      ],
      "metadata": {
        "colab": {
          "base_uri": "https://localhost:8080/",
          "height": 315
        },
        "id": "rrz-PjYJ8fRz",
        "outputId": "9ec02215-72b7-4796-87a8-aa009bb4fdbe"
      },
      "execution_count": null,
      "outputs": [
        {
          "output_type": "display_data",
          "data": {
            "text/plain": [
              "<Figure size 432x288 with 1 Axes>"
            ],
            "image/png": "[encoded data removed]"
          },
          "metadata": {}
        },
        {
          "output_type": "stream",
          "name": "stdout",
          "text": [
            "weight vector [ 0.45996415 -4.7596002  -2.59553511]\n"
          ]
        }
      ]
    },
    {
      "cell_type": "markdown",
      "source": [
        "##Model visualization"
      ],
      "metadata": {
        "id": "SodudO8W9Gk3"
      }
    },
    {
      "cell_type": "code",
      "source": [
        "def visualize_model(x_train, y_train, log_reg_obj, degree=1):\n",
        "  sns.set_context(\"notebook\", font_scale=1.5,rc={\"lines.linewidth\":2.5})\n",
        "  plt.figure(figsize=(8,8))\n",
        "  #compute xlimit and ylimit\n",
        "  x1_min = np.min(x_train[:,1])\n",
        "  x1_max = np.max(x_train[:,1])\n",
        "  x2_min = np.min(x_train[:,2])\n",
        "  x2_max = np.max(x_train[:,2])\n",
        "  print(x1_min, x1_max, x2_min, x2_max)\n",
        "  x1_test, x2_test = np.meshgrid(np.linspace(x1_min, x1_max,y_train.shape[0]), np.linspace(x2_min, x2_max,y_train.shape[0]))\n",
        "  \n",
        "  x_test = np.array([x1_test, x2_test]).reshape(2, -1).T\n",
        "  x_test_poly = polynomial_transform(x_test, degree=degree)\n",
        "  y_test = log_reg_obj.predict(x_test_poly)\n",
        "  label = y_test.reshape(x1_test.shape)\n",
        "  sns.scatterplot(data=x_train, x=x_train[:,-2], y=x_train[:,-1],hue=y_train)\n",
        "  #plt.contourf(x1_test, x2_test,label,alpha=0.5,levels=np.linspace(0,1,3))\n",
        "  plt.contourf(x1_test, x2_test,label,alpha=0.5,cmap='summer')\n",
        "  plt.xlabel('x1')\n",
        "  plt.ylabel('x2')\n",
        "  plt.xlim(x1_min, x1_max)\n",
        "  plt.ylim(x2_min, x2_max)\n",
        "  plt.gca().set_aspect('equal',adjustable='box')\n",
        "  plt.show()"
      ],
      "metadata": {
        "id": "d__YUAtd9JPw"
      },
      "execution_count": null,
      "outputs": []
    },
    {
      "cell_type": "code",
      "source": [
        "print(x_train.shape)\n",
        "visualize_model(x_train, y_train,log_reg)"
      ],
      "metadata": {
        "colab": {
          "base_uri": "https://localhost:8080/",
          "height": 550
        },
        "id": "QV4T4AxOAXfq",
        "outputId": "cafdda83-0222-42e6-f451-36028f425334"
      },
      "execution_count": null,
      "outputs": [
        {
          "output_type": "stream",
          "name": "stdout",
          "text": [
            "(80, 3)\n",
            "-3.14785503764361 3.0306036208387996 -2.818498990391614 3.390960515463033\n"
          ]
        },
        {
          "output_type": "display_data",
          "data": {
            "text/plain": [
              "<Figure size 576x576 with 1 Axes>"
            ],
            "image/png": "[encoded data removed]"
          },
          "metadata": {}
        }
      ]
    },
    {
      "cell_type": "code",
      "source": [
        "a,b = np.meshgrid(np.linspace(0,3,4), np.linspace(0,3,4))\n",
        "#print(a,b)\n",
        "#np.array([a,b]).reshape(2,-1).T"
      ],
      "metadata": {
        "id": "lpk38QpsXHEN"
      },
      "execution_count": null,
      "outputs": []
    },
    {
      "cell_type": "code",
      "source": [
        "plt.figure(figsize=(8,8))\n",
        "\n",
        "sns.scatterplot(data=x_train, x=x_train[:,-2], y=x_train[:,-1],hue=y_train)\n",
        "a1_min = np.min(x_train[:,1])\n",
        "a1_max = np.max(x_train[:,1])\n",
        "b1_min = np.min(x_train[:,2])\n",
        "b1_max = np.max(x_train[:,2])\n",
        "a,b = np.meshgrid(np.linspace(a1_min,a1_max,y_train.shape[0]), np.linspace(b1_min, b1_max,y_train.shape[0]))\n",
        "ab = np.array([a,b]).reshape(2,-1).T\n",
        "ab_poly = polynomial_transform(ab, degree=1)\n",
        "label_hat = log_reg.predict(ab_poly)\n",
        "print(a.shape,label_hat.shape,y_train.shape, ab.shape)\n",
        "plt.contourf(a, b,label_hat.reshape(a.shape), alpha=0.5, levels=np.linspace(0,1,3));"
      ],
      "metadata": {
        "id": "0-bytelPXpgP"
      },
      "execution_count": null,
      "outputs": []
    },
    {
      "cell_type": "markdown",
      "source": [
        "##6. Model Evaluation"
      ],
      "metadata": {
        "id": "z-T2AxLHuMFJ"
      }
    },
    {
      "cell_type": "code",
      "source": [
        "y_test_hat = log_reg.predict(x_test)"
      ],
      "metadata": {
        "id": "vM5J6-izuLjx"
      },
      "execution_count": null,
      "outputs": []
    },
    {
      "cell_type": "code",
      "source": [
        "from sklearn.metrics import classification_report\n",
        "print(classification_report(y_test, y_test_hat, zero_division=0))"
      ],
      "metadata": {
        "colab": {
          "base_uri": "https://localhost:8080/"
        },
        "id": "i5wQIhU8uaAn",
        "outputId": "c30c7d28-c58d-443c-f76b-9ba0170f5ed9"
      },
      "execution_count": null,
      "outputs": [
        {
          "output_type": "stream",
          "name": "stdout",
          "text": [
            "              precision    recall  f1-score   support\n",
            "\n",
            "           0       0.90      1.00      0.95         9\n",
            "           1       1.00      0.91      0.95        11\n",
            "\n",
            "    accuracy                           0.95        20\n",
            "   macro avg       0.95      0.95      0.95        20\n",
            "weighted avg       0.96      0.95      0.95        20\n",
            "\n"
          ]
        }
      ]
    },
    {
      "cell_type": "markdown",
      "source": [
        "#Polynomial Logistic Regression\n",
        "##Step1:  \n",
        "Generate samples from two classes sucha that they are separated by a circular decision boundary."
      ],
      "metadata": {
        "id": "koJXFUrxuvyg"
      }
    },
    {
      "cell_type": "code",
      "source": [
        "from sklearn.datasets import make_circles\n",
        "feature_matrix_cicle, label_vector_circle = make_circles()\n",
        "\n",
        "assert feature_matrix_cicle.shape[0] == label_vector_circle.shape[0]"
      ],
      "metadata": {
        "id": "rqVceckGvF8r"
      },
      "execution_count": null,
      "outputs": []
    },
    {
      "cell_type": "code",
      "source": [
        "x_poly_circle = polynomial_transform(feature_matrix_cicle,degree=2)"
      ],
      "metadata": {
        "id": "qmXvl7Edvszh"
      },
      "execution_count": null,
      "outputs": []
    },
    {
      "cell_type": "code",
      "source": [
        "x_train_circle, x_test_circle, y_train_circle, y_test_circle = train_test_split(x_poly_circle, label_vector_circle)\n",
        "print(x_train_circle.shape, y_train_circle.shape)\n",
        "print(x_test_circle.shape, y_test_circle.shape)"
      ],
      "metadata": {
        "colab": {
          "base_uri": "https://localhost:8080/"
        },
        "id": "wIVKA5ltv9hZ",
        "outputId": "3c17a148-b978-4ad3-9a3f-cbb373126196"
      },
      "execution_count": null,
      "outputs": [
        {
          "output_type": "stream",
          "name": "stdout",
          "text": [
            "(75, 6) (75,)\n",
            "(25, 6) (25,)\n"
          ]
        }
      ]
    },
    {
      "cell_type": "code",
      "source": [
        "sns.set_style(\"white\")\n",
        "sns.set_context(\"notebook\",font_scale=1.5,rc={\"lines.linewidth\":2.5})\n",
        "f = plt.figure(figsize=(8,8))\n",
        "sns.scatterplot(data=x_train_circle,x=x_train_circle[:,-2],y=x_train_circle[:,-1],hue=y_train_circle)\n",
        "plt.show()"
      ],
      "metadata": {
        "colab": {
          "base_uri": "https://localhost:8080/",
          "height": 493
        },
        "id": "jExMqYDgwfMe",
        "outputId": "5c1b88af-032d-4de2-927a-d374eda28cb0"
      },
      "execution_count": null,
      "outputs": [
        {
          "output_type": "display_data",
          "data": {
            "text/plain": [
              "<Figure size 576x576 with 1 Axes>"
            ],
            "image/png": "[encoded data removed]"
          },
          "metadata": {}
        }
      ]
    },
    {
      "cell_type": "code",
      "source": [
        "log_reg_poly = Logistic_Regression()\n",
        "log_reg_poly.gd(x_train_circle,y_train_circle,reg_rate=0.001, num_epochs=10000,lr=1e-2)"
      ],
      "metadata": {
        "colab": {
          "base_uri": "https://localhost:8080/"
        },
        "id": "rzX2bumTxTBs",
        "outputId": "e4325c23-9b2a-4d53-81a6-e3788a188fae"
      },
      "execution_count": null,
      "outputs": [
        {
          "output_type": "execute_result",
          "data": {
            "text/plain": [
              "array([ 19.43807245,   0.09028596,   0.0678063 , -23.87630301,\n",
              "         0.31158558, -23.67397511])"
            ]
          },
          "metadata": {},
          "execution_count": 181
        }
      ]
    },
    {
      "cell_type": "code",
      "source": [
        "plot_learning_curve(log_reg_poly.err_all)"
      ],
      "metadata": {
        "colab": {
          "base_uri": "https://localhost:8080/",
          "height": 298
        },
        "id": "gi3iWKJ7xo60",
        "outputId": "c4b7ef9b-53ed-48bd-8699-addb6e4567d4"
      },
      "execution_count": null,
      "outputs": [
        {
          "output_type": "display_data",
          "data": {
            "text/plain": [
              "<Figure size 432x288 with 1 Axes>"
            ],
            "image/png": "[encoded data removed]"
          },
          "metadata": {}
        }
      ]
    },
    {
      "cell_type": "code",
      "source": [
        "def visualize_model_circle(x_train, y_train, log_reg_obj, degree=2):\n",
        "  sns.set_context(\"notebook\", font_scale=1.5,rc={\"lines.linewidth\":2.5})\n",
        "  plt.figure(figsize=(8,8))\n",
        "  #compute xlimit and ylimit\n",
        "  x1_min = np.min(x_train[:,1])\n",
        "  x1_max = np.max(x_train[:,1])\n",
        "  x2_min = np.min(x_train[:,2])\n",
        "  x2_max = np.max(x_train[:,2])\n",
        "  \n",
        "  x1_test, x2_test = np.meshgrid(np.linspace(x1_min, x1_max,y_train.shape[0]), np.linspace(x2_min, x2_max,y_train.shape[0]))\n",
        "  \n",
        "  x_test = np.array([x1_test, x2_test]).reshape(2, -1).T\n",
        "  x_test_poly = polynomial_transform(x_test, degree=degree)\n",
        "  y_test = log_reg_obj.predict(x_test_poly)\n",
        "  label = y_test.reshape(x1_test.shape)\n",
        "  sns.scatterplot(data=x_train, x=x_train[:,-2], y=x_train[:,-1],hue=y_train)\n",
        "  plt.contourf(x1_test, x2_test,y_test.reshape(x1_test.shape),alpha=0.5,levels=np.linspace(0,1,3))\n",
        "  #plt.contourf(x1_test, x2_test,label,alpha=0.5,cmap='summer')\n",
        "  plt.xlabel('x1')\n",
        "  plt.ylabel('x2')\n",
        "  plt.xlim(x1_min, x1_max)\n",
        "  plt.ylim(x2_min, x2_max)\n",
        "  plt.gca().set_aspect('equal',adjustable='box')\n",
        "  plt.show()"
      ],
      "metadata": {
        "id": "ianvPMyHnI9V"
      },
      "execution_count": null,
      "outputs": []
    },
    {
      "cell_type": "code",
      "source": [
        "visualize_model_circle(x_train_circle,y_train_circle,log_reg_poly,degree=2)"
      ],
      "metadata": {
        "colab": {
          "base_uri": "https://localhost:8080/",
          "height": 515
        },
        "id": "WJ46Lhf0x22n",
        "outputId": "8b5a34f7-d944-493a-fd58-b2159d50f2ed"
      },
      "execution_count": null,
      "outputs": [
        {
          "output_type": "display_data",
          "data": {
            "text/plain": [
              "<Figure size 576x576 with 1 Axes>"
            ],
            "image/png": "[encoded data removed]"
          },
          "metadata": {}
        }
      ]
    },
    {
      "cell_type": "code",
      "source": [
        "y_test_circle_hat = log_reg_poly.predict(x_test_circle)"
      ],
      "metadata": {
        "id": "WEfhhJsAyCQJ"
      },
      "execution_count": null,
      "outputs": []
    },
    {
      "cell_type": "code",
      "source": [
        "from sklearn.metrics import classification_report\n",
        "print(classification_report(y_test_circle,y_test_circle_hat,zero_division=0))"
      ],
      "metadata": {
        "colab": {
          "base_uri": "https://localhost:8080/"
        },
        "id": "q6QU1rspyMW8",
        "outputId": "e276ea50-0570-4447-b15d-75aae5a63619"
      },
      "execution_count": null,
      "outputs": [
        {
          "output_type": "stream",
          "name": "stdout",
          "text": [
            "              precision    recall  f1-score   support\n",
            "\n",
            "           0       1.00      1.00      1.00        12\n",
            "           1       1.00      1.00      1.00        13\n",
            "\n",
            "    accuracy                           1.00        25\n",
            "   macro avg       1.00      1.00      1.00        25\n",
            "weighted avg       1.00      1.00      1.00        25\n",
            "\n"
          ]
        }
      ]
    },
    {
      "cell_type": "code",
      "source": [
        "def linear_combination1(X, w):\n",
        "    return X @ w\n",
        "  \n",
        "def sigmoid1(z):\n",
        "  return (1/(1 + np.exp(-z)))\n",
        "  \n",
        "def activation1(X:np.ndarray,w):\n",
        "  '''calculates sigmoid activation for logistic regression as act = sigmoid(Xw)'''\n",
        "\n",
        "  return sigmoid1(linear_combination1(X,w))\n",
        "  \n",
        "def predict1(X:np.ndarray,w):\n",
        "  #predicted_labels = [1 if ]\n",
        "  #return (activation1(X,w) > 0.75).astype(int)\n",
        "  #print(activation1(X,w))\n",
        "  sig = activation1(X, w)\n",
        "  label_p = np.array([1 if a > 0.75 else (-1 if a < 0.25 else 0) for a in activation1(X, w)])\n",
        "  labels  = np.array([1 if s > 0.75 else (-1 if s < 0.25 else 0) for s in sig])\n",
        "  print(label_p.shape)\n",
        "  return label_p\n",
        "\n",
        "\n",
        "predict1(x_train, log_reg.w)"
      ],
      "metadata": {
        "colab": {
          "base_uri": "https://localhost:8080/"
        },
        "id": "iKQlTmZ16fSj",
        "outputId": "c8f5bef6-d352-4e15-f3bc-508f1e878234"
      },
      "execution_count": null,
      "outputs": [
        {
          "output_type": "stream",
          "name": "stdout",
          "text": [
            "(80,)\n"
          ]
        },
        {
          "output_type": "execute_result",
          "data": {
            "text/plain": [
              "array([ 1,  1, -1, -1, -1,  1,  1, -1,  0,  1,  1,  1, -1,  1, -1, -1, -1,\n",
              "        1, -1,  1,  1,  1, -1,  1,  1, -1,  1, -1, -1,  1,  1,  1,  1,  1,\n",
              "        1, -1,  1, -1, -1, -1, -1,  1,  0, -1, -1,  1, -1, -1,  1, -1, -1,\n",
              "        1, -1,  1, -1,  1, -1, -1,  0, -1,  1, -1,  1, -1,  1,  1,  1, -1,\n",
              "       -1,  1, -1, -1,  1,  1, -1, -1, -1, -1,  1,  0])"
            ]
          },
          "metadata": {},
          "execution_count": 84
        }
      ]
    }
  ]
}