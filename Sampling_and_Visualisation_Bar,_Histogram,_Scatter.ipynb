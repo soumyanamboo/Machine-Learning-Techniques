{
  "nbformat": 4,
  "nbformat_minor": 0,
  "metadata": {
    "colab": {
      "provenance": []
    },
    "kernelspec": {
      "name": "python3",
      "display_name": "Python 3"
    },
    "language_info": {
      "name": "python"
    }
  },
  "cells": [
    {
      "cell_type": "markdown",
      "source": [
        "# Sampling from Distributions, Bar Plots, Histograms and Scatter plots"
      ],
      "metadata": {
        "id": "QM2BAmxAaWpZ"
      }
    },
    {
      "cell_type": "markdown",
      "source": [
        "## Import and Settings\n",
        "\n",
        "We will import `NumPy` and `matplotlib`. In addition, we will also start with some customised layout for the plot."
      ],
      "metadata": {
        "id": "wVwN9M-ZaaV1"
      }
    },
    {
      "cell_type": "code",
      "source": [
        "import numpy as np\n",
        "import matplotlib.pyplot as plt\n",
        "plt.rcParams['figure.figsize'] = [8, 8]\n",
        "plt.rcParams['font.size'] = 15"
      ],
      "metadata": {
        "id": "mT4Fnwyvan_v"
      },
      "execution_count": null,
      "outputs": []
    },
    {
      "cell_type": "markdown",
      "source": [
        "## Sampling and Plotting\n",
        "\n",
        "`NumPy` provides a utility to generate pseudo-random numbers. We shall try to sample points from various distributions. Once we have a sample, we can then represent it pictorially using suitable plots."
      ],
      "metadata": {
        "id": "9yBRSJpe1TaM"
      }
    },
    {
      "cell_type": "markdown",
      "source": [
        "### Sampling: Bernoulli\n",
        "\n",
        "Let us generate a sample of $1000$ points from the $\\text{Br}(0.7)$.\n",
        "\n",
        "In `NumPy`:"
      ],
      "metadata": {
        "id": "lVd75olS4KnQ"
      }
    },
    {
      "cell_type": "code",
      "source": [
        "# Pseudo-random numbers\n",
        "rng = np.random.default_rng(seed = 1001)\n",
        "# p specifies the pmf\n",
        "x = rng.choice([0, 1], p = [0.3, 0.7], size = 1000)"
      ],
      "metadata": {
        "id": "9R1hsH361xL3"
      },
      "execution_count": null,
      "outputs": []
    },
    {
      "cell_type": "markdown",
      "source": [
        "### Plotting: Bar plot\n",
        "\n",
        "Visualise the sample using a bar plot."
      ],
      "metadata": {
        "id": "v2sX5_B15Ncl"
      }
    },
    {
      "cell_type": "code",
      "source": [
        "# counts of 1 and 0\n",
        "zeros = 0\n",
        "ones = 0\n",
        "for i in range(1000):\n",
        "    if x[i] == 0:\n",
        "        zeros += 1\n",
        "    if x[i] == 1:\n",
        "        ones += 1\n",
        "\n",
        "plt.bar([0, 1], [zeros, ones])\n",
        "plt.xticks([0, 1])\n",
        "plt.yticks([0, 300, 700])\n",
        "plt.title('Bernoulli(0.7)');"
      ],
      "metadata": {
        "id": "p8OcBjwY5ZE3",
        "colab": {
          "base_uri": "https://localhost:8080/",
          "height": 508
        },
        "outputId": "5574256d-164a-42f1-9fbd-5a24b186d8d9"
      },
      "execution_count": null,
      "outputs": [
        {
          "output_type": "display_data",
          "data": {
            "text/plain": [
              "<Figure size 576x576 with 1 Axes>"
            ],
            "image/png": "[encoded data removed]"
          },
          "metadata": {
            "needs_background": "light"
          }
        }
      ]
    },
    {
      "cell_type": "markdown",
      "source": [
        "### Sampling: Gaussian\n",
        "\n",
        "Generate a sample of $10000$ points from $\\mathcal{N}(1, 4)$."
      ],
      "metadata": {
        "id": "H5zt6NetMe6E"
      }
    },
    {
      "cell_type": "code",
      "source": [
        "rng = np.random.default_rng(seed = 1001)\n",
        "x = rng.normal(1, 2, size = 10_000)\n",
        "x"
      ],
      "metadata": {
        "id": "gIj_MLI2MoPH",
        "colab": {
          "base_uri": "https://localhost:8080/"
        },
        "outputId": "07456c5f-c096-4397-8c63-c48ad7de3c86"
      },
      "execution_count": null,
      "outputs": [
        {
          "output_type": "execute_result",
          "data": {
            "text/plain": [
              "array([ 2.86464487,  0.73031518, -1.19554222, ...,  3.17898028,\n",
              "        0.93976677,  0.28371794])"
            ]
          },
          "metadata": {},
          "execution_count": 49
        }
      ]
    },
    {
      "cell_type": "markdown",
      "source": [
        "### Plotting: Histogram\n",
        "\n",
        "Visualise the sample using a histogram."
      ],
      "metadata": {
        "id": "J7LkwESeOB2I"
      }
    },
    {
      "cell_type": "code",
      "source": [
        "plt.hist(x, bins = 10, edgecolor = 'black');"
      ],
      "metadata": {
        "id": "-7YqSIyCOGNp",
        "colab": {
          "base_uri": "https://localhost:8080/",
          "height": 488
        },
        "outputId": "cf0da9a9-8e2e-4381-ae89-2c3171d5ea38"
      },
      "execution_count": null,
      "outputs": [
        {
          "output_type": "display_data",
          "data": {
            "text/plain": [
              "<Figure size 576x576 with 1 Axes>"
            ],
            "image/png": "[encoded data removed]"
          },
          "metadata": {
            "needs_background": "light"
          }
        }
      ]
    },
    {
      "cell_type": "markdown",
      "source": [
        "### Sampling: Bivariate Gaussian\n",
        "\n",
        "Sample 1000 points from the following Bivariate Gaussian:\n",
        "\n",
        "$$\n",
        "\\mathcal{N} \\left( \\begin{bmatrix}1 \\\\ 2\\end{bmatrix}, \\begin{bmatrix}1 & 0\\\\0 & 5\\end{bmatrix} \\right)\n",
        "$$"
      ],
      "metadata": {
        "id": "ZOF8A9BvOpLa"
      }
    },
    {
      "cell_type": "code",
      "source": [
        "mu = np.array([1, 2])\n",
        "cov = np.array([[10, -3],\n",
        "                [-3, 1]])\n",
        "# cov = np.diag([1, 5])\n",
        "X = rng.multivariate_normal(mu, cov, size = 1000)\n",
        "X.shape"
      ],
      "metadata": {
        "id": "c8TC0ZcjP7dj",
        "colab": {
          "base_uri": "https://localhost:8080/"
        },
        "outputId": "d1fc0c6b-ce31-43e7-b53f-8c7ce88fe2c5"
      },
      "execution_count": null,
      "outputs": [
        {
          "output_type": "execute_result",
          "data": {
            "text/plain": [
              "(1000, 2)"
            ]
          },
          "metadata": {},
          "execution_count": 68
        }
      ]
    },
    {
      "cell_type": "markdown",
      "source": [
        "### Estimating the sample covariance matrix"
      ],
      "metadata": {
        "id": "k8x-l7tfair_"
      }
    },
    {
      "cell_type": "code",
      "source": [
        "(X - X.mean(axis = 0)).T @ (X - X.mean(axis = 0)) / X.shape[0]"
      ],
      "metadata": {
        "id": "IHXHO06aahak"
      },
      "execution_count": null,
      "outputs": []
    },
    {
      "cell_type": "markdown",
      "source": [
        "### Plotting: Scatter plot\n",
        "\n",
        "Visualise the sample using a scatter plot. Try to zoom out of the plot and see what the shape of the distribution looks like. Change the values of the covariance matrix and observe how the shape changes."
      ],
      "metadata": {
        "id": "_VCj2JaXQJB0"
      }
    },
    {
      "cell_type": "code",
      "source": [
        "plt.scatter(X[:, 0], X[:, 1])\n",
        "plt.xlim([-20, 20])\n",
        "plt.ylim([-20, 20])"
      ],
      "metadata": {
        "id": "fvmuvNBWQTqP",
        "colab": {
          "base_uri": "https://localhost:8080/",
          "height": 511
        },
        "outputId": "2904f0b9-b3a3-4e8d-b02d-693c901ad9f3"
      },
      "execution_count": null,
      "outputs": [
        {
          "output_type": "execute_result",
          "data": {
            "text/plain": [
              "(-20.0, 20.0)"
            ]
          },
          "metadata": {},
          "execution_count": 69
        },
        {
          "output_type": "display_data",
          "data": {
            "text/plain": [
              "<Figure size 576x576 with 1 Axes>"
            ],
            "image/png": "[encoded data removed]"
          },
          "metadata": {
            "needs_background": "light"
          }
        }
      ]
    }
  ]
}