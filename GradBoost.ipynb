{
  "nbformat": 4,
  "nbformat_minor": 0,
  "metadata": {
    "colab": {
      "provenance": [],
      "authorship_tag": "ABX9TyP80zMcf6fK3IS20l3DjH95"
    },
    "kernelspec": {
      "name": "python3",
      "display_name": "Python 3"
    },
    "language_info": {
      "name": "python"
    }
  },
  "cells": [
    {
      "cell_type": "markdown",
      "source": [
        "#Gradient Boost   \n",
        "The principle behind boosting algorithm is that first we build a model on the training dataset. Then a second model is built to rectify the errors present in the first model.This process is continued until and unless the error is minimized and the dataset is predicted correctly.   \n",
        "We start with a weak model and subsequently each new model is fit on a modified version of original dataset.   \n",
        "  * A weak learner is a model that performs at least slightly better than a random model.   \n",
        "  * Decision trees are generally used as weak learners in gradient boost.   \n",
        "  * Unlike Adaboost, where decision trees contains only one level (decision stumps), the decision tree used in gradient boost generally contains 3 - 7 levels.\n",
        "\n",
        "##Steps   \n",
        "1. make first guess for y_train and y_test using the average of y_train.   \n",
        "$$\n",
        "  y_{train_{p0}} = = \\frac{1}{n} Σ_{i=1}^n y_{train_i}\n",
        "$$\n",
        "$$\n",
        "  y_{test_{p0}} = y_{train_{p0}}\n",
        "$$\n",
        "2. Calculate the residuals from the training dataset.\n",
        "$$ r_0 = y_{train} - y_{train_{p0}}\n",
        "$$\n",
        "3. Fit a weak learner $f_0$ to the residuals minimizing the loss function. \n",
        "$$ r_0 = f_0(X_{train}) \n",
        "$$\n",
        "4. Increment the predicted y's.\n",
        "$$ y_{train_{p_1}} = y_{train_{p_0}} + α F_0(X_{train}) \n",
        "$$\n",
        "$$ y_{test_{p_1}} = y_{test_{p_0}} + α F_0(X_{test})\n",
        "$$\n",
        "where $α$ is the learning rate.\n",
        "5. Repeat the steps 2 to 4 until you reach the number of boosting rounds."
      ],
      "metadata": {
        "id": "7BDNQTTcMFyJ"
      }
    },
    {
      "cell_type": "code",
      "execution_count": null,
      "metadata": {
        "id": "S2IYdxAmL6Mc"
      },
      "outputs": [],
      "source": [
        "import numpy as np\n",
        "import pandas as pd\n",
        "import matplotlib.pyplot as plt\n",
        "import seaborn as sns"
      ]
    },
    {
      "cell_type": "code",
      "source": [
        "def GradBoost(model, X_train, y_train, X_test, boosting_rounds, learning_rate:float = 0.1):\n",
        "  y_hat_train = np.repeat(np.mean(y_train), len(y_train))\n",
        "  y_hat_test = np.repeat(np.mean(y_train), len(X_test))\n",
        "\n",
        "  residuals = y_train - y_hat_train\n",
        "\n",
        "  for i in range(boosting_rounds):\n",
        "    model = model.fit(X_train, residuals)\n",
        "    y_hat_train = y_hat_train + learning_rate * model.predict(X_train)\n",
        "    y_hat_test = y_hat_test + learning_rate * model.predict(X_test)\n",
        "    residuals = y_train - y_hat_train\n",
        "\n",
        "  return y_hat_train, y_hat_test"
      ],
      "metadata": {
        "id": "5AznE0jLR5Vx"
      },
      "execution_count": null,
      "outputs": []
    },
    {
      "cell_type": "code",
      "source": [
        "from sklearn.datasets import make_regression\n",
        "\n",
        "X, y = make_regression(n_samples = 1000,\n",
        "                       n_features = 20,\n",
        "                       n_informative=15,\n",
        "                       n_targets=1,\n",
        "                       bias=0.0,\n",
        "                       noise=20,\n",
        "                       shuffle=True,\n",
        "                       random_state=13                       \n",
        "                       )\n",
        "X_train = X[0:800]\n",
        "y_train = y[0:800]\n",
        "\n",
        "X_test = X[800:]\n",
        "y_test = y[800:]"
      ],
      "metadata": {
        "id": "47L0VuKEUCf5"
      },
      "execution_count": null,
      "outputs": []
    },
    {
      "cell_type": "code",
      "source": [
        "from sklearn.tree import DecisionTreeRegressor\n",
        "model = DecisionTreeRegressor(criterion='squared_error', max_depth=3)"
      ],
      "metadata": {
        "id": "2s9jZSaNUrAo"
      },
      "execution_count": null,
      "outputs": []
    },
    {
      "cell_type": "code",
      "source": [
        "mse_train = []\n",
        "n_rounds = np.arange(5, 101, 5)\n",
        "for n_round in n_rounds:\n",
        "  y_hat_train = GradBoost(model, X_train, y_train, X_test, boosting_rounds=n_round, learning_rate=0.1)[0]\n",
        "\n",
        "  mse_train.append(np.mean((y_train - y_hat_train) ** 2))\n",
        "\n",
        "plt.plot(n_rounds, mse_train)"
      ],
      "metadata": {
        "colab": {
          "base_uri": "https://localhost:8080/",
          "height": 282
        },
        "id": "otsLf1D0VAYT",
        "outputId": "5ecf7736-d01e-4320-e660-064b28af752a"
      },
      "execution_count": null,
      "outputs": [
        {
          "output_type": "execute_result",
          "data": {
            "text/plain": [
              "[<matplotlib.lines.Line2D at 0x7efffa10f590>]"
            ]
          },
          "metadata": {},
          "execution_count": 9
        },
        {
          "output_type": "display_data",
          "data": {
            "text/plain": [
              "<Figure size 432x288 with 1 Axes>"
            ],
            "image/png": "[encoded data removed]"
          },
          "metadata": {
            "needs_background": "light"
          }
        }
      ]
    }
  ]
}