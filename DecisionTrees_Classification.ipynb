{
  "nbformat": 4,
  "nbformat_minor": 0,
  "metadata": {
    "colab": {
      "provenance": [],
      "authorship_tag": "ABX9TyPZ9UcKH2faj5nW8c5IMGgE"
    },
    "kernelspec": {
      "name": "python3",
      "display_name": "Python 3"
    },
    "language_info": {
      "name": "python"
    }
  },
  "cells": [
    {
      "cell_type": "code",
      "execution_count": null,
      "metadata": {
        "id": "lJMge2hw51US"
      },
      "outputs": [],
      "source": [
        "import numpy as np\n",
        "import pandas as pd\n",
        "eps = np.finfo(float).eps"
      ]
    },
    {
      "cell_type": "code",
      "source": [
        "Age = 'junior,middle,senior,senior,middle,junior,junior,middle,middle,junior,junior,senior,middle,junior,junior,senior,senior'.split(',')\n",
        "Married = 'yes,no,no,no,yes,no,yes,yes,no,no,no,yes,yes,no,no,yes,yes'.split(',')\n",
        "Salary = 'high,low,low,low,high,high,low,high,low,low,high,low,high,high,high,high,high'.split(',')\n",
        "Home_owner = 'yes,yes,no,yes,yes,yes,yes,no,no,no,yes,no,yes,yes,no,yes,no'.split(',')\n",
        "Loan_worthy = 'yes,no,no,no,yes,yes,yes,yes,no,no,no,yes,yes,yes,no,yes,yes'.split(',')"
      ],
      "metadata": {
        "id": "h5wHJQZQ6CyL"
      },
      "execution_count": null,
      "outputs": []
    },
    {
      "cell_type": "code",
      "source": [
        "data = {'Age':Age, 'Married':Married, 'Salary':Salary, 'Home_owner':Home_owner, 'Loan_worthy' : Loan_worthy}\n",
        "#df = pd.DataFrame(data)\n",
        "df = pd.DataFrame(data, columns = ['Age', 'Married', 'Salary', 'Home_owner', 'Loan_worthy'])\n",
        "df"
      ],
      "metadata": {
        "colab": {
          "base_uri": "https://localhost:8080/",
          "height": 582
        },
        "id": "h6YK74i57sii",
        "outputId": "1a996e21-7bc3-4156-e997-d4079cccea4a"
      },
      "execution_count": null,
      "outputs": [
        {
          "output_type": "execute_result",
          "data": {
            "text/plain": [
              "       Age Married Salary Home_owner Loan_worthy\n",
              "0   junior     yes   high        yes         yes\n",
              "1   middle      no    low        yes          no\n",
              "2   senior      no    low         no          no\n",
              "3   senior      no    low        yes          no\n",
              "4   middle     yes   high        yes         yes\n",
              "5   junior      no   high        yes         yes\n",
              "6   junior     yes    low        yes         yes\n",
              "7   middle     yes   high         no         yes\n",
              "8   middle      no    low         no          no\n",
              "9   junior      no    low         no          no\n",
              "10  junior      no   high        yes          no\n",
              "11  senior     yes    low         no         yes\n",
              "12  middle     yes   high        yes         yes\n",
              "13  junior      no   high        yes         yes\n",
              "14  junior      no   high         no          no\n",
              "15  senior     yes   high        yes         yes\n",
              "16  senior     yes   high         no         yes"
            ],
            "text/html": [
              "\n",
              "  <div id=\"df-d9756bea-d829-44b5-8706-71cbcb703a95\">\n",
              "    <div class=\"colab-df-container\">\n",
              "      <div>\n",
              "<style scoped>\n",
              "    .dataframe tbody tr th:only-of-type {\n",
              "        vertical-align: middle;\n",
              "    }\n",
              "\n",
              "    .dataframe tbody tr th {\n",
              "        vertical-align: top;\n",
              "    }\n",
              "\n",
              "    .dataframe thead th {\n",
              "        text-align: right;\n",
              "    }\n",
              "</style>\n",
              "<table border=\"1\" class=\"dataframe\">\n",
              "  <thead>\n",
              "    <tr style=\"text-align: right;\">\n",
              "      <th></th>\n",
              "      <th>Age</th>\n",
              "      <th>Married</th>\n",
              "      <th>Salary</th>\n",
              "      <th>Home_owner</th>\n",
              "      <th>Loan_worthy</th>\n",
              "    </tr>\n",
              "  </thead>\n",
              "  <tbody>\n",
              "    <tr>\n",
              "      <th>0</th>\n",
              "      <td>junior</td>\n",
              "      <td>yes</td>\n",
              "      <td>high</td>\n",
              "      <td>yes</td>\n",
              "      <td>yes</td>\n",
              "    </tr>\n",
              "    <tr>\n",
              "      <th>1</th>\n",
              "      <td>middle</td>\n",
              "      <td>no</td>\n",
              "      <td>low</td>\n",
              "      <td>yes</td>\n",
              "      <td>no</td>\n",
              "    </tr>\n",
              "    <tr>\n",
              "      <th>2</th>\n",
              "      <td>senior</td>\n",
              "      <td>no</td>\n",
              "      <td>low</td>\n",
              "      <td>no</td>\n",
              "      <td>no</td>\n",
              "    </tr>\n",
              "    <tr>\n",
              "      <th>3</th>\n",
              "      <td>senior</td>\n",
              "      <td>no</td>\n",
              "      <td>low</td>\n",
              "      <td>yes</td>\n",
              "      <td>no</td>\n",
              "    </tr>\n",
              "    <tr>\n",
              "      <th>4</th>\n",
              "      <td>middle</td>\n",
              "      <td>yes</td>\n",
              "      <td>high</td>\n",
              "      <td>yes</td>\n",
              "      <td>yes</td>\n",
              "    </tr>\n",
              "    <tr>\n",
              "      <th>5</th>\n",
              "      <td>junior</td>\n",
              "      <td>no</td>\n",
              "      <td>high</td>\n",
              "      <td>yes</td>\n",
              "      <td>yes</td>\n",
              "    </tr>\n",
              "    <tr>\n",
              "      <th>6</th>\n",
              "      <td>junior</td>\n",
              "      <td>yes</td>\n",
              "      <td>low</td>\n",
              "      <td>yes</td>\n",
              "      <td>yes</td>\n",
              "    </tr>\n",
              "    <tr>\n",
              "      <th>7</th>\n",
              "      <td>middle</td>\n",
              "      <td>yes</td>\n",
              "      <td>high</td>\n",
              "      <td>no</td>\n",
              "      <td>yes</td>\n",
              "    </tr>\n",
              "    <tr>\n",
              "      <th>8</th>\n",
              "      <td>middle</td>\n",
              "      <td>no</td>\n",
              "      <td>low</td>\n",
              "      <td>no</td>\n",
              "      <td>no</td>\n",
              "    </tr>\n",
              "    <tr>\n",
              "      <th>9</th>\n",
              "      <td>junior</td>\n",
              "      <td>no</td>\n",
              "      <td>low</td>\n",
              "      <td>no</td>\n",
              "      <td>no</td>\n",
              "    </tr>\n",
              "    <tr>\n",
              "      <th>10</th>\n",
              "      <td>junior</td>\n",
              "      <td>no</td>\n",
              "      <td>high</td>\n",
              "      <td>yes</td>\n",
              "      <td>no</td>\n",
              "    </tr>\n",
              "    <tr>\n",
              "      <th>11</th>\n",
              "      <td>senior</td>\n",
              "      <td>yes</td>\n",
              "      <td>low</td>\n",
              "      <td>no</td>\n",
              "      <td>yes</td>\n",
              "    </tr>\n",
              "    <tr>\n",
              "      <th>12</th>\n",
              "      <td>middle</td>\n",
              "      <td>yes</td>\n",
              "      <td>high</td>\n",
              "      <td>yes</td>\n",
              "      <td>yes</td>\n",
              "    </tr>\n",
              "    <tr>\n",
              "      <th>13</th>\n",
              "      <td>junior</td>\n",
              "      <td>no</td>\n",
              "      <td>high</td>\n",
              "      <td>yes</td>\n",
              "      <td>yes</td>\n",
              "    </tr>\n",
              "    <tr>\n",
              "      <th>14</th>\n",
              "      <td>junior</td>\n",
              "      <td>no</td>\n",
              "      <td>high</td>\n",
              "      <td>no</td>\n",
              "      <td>no</td>\n",
              "    </tr>\n",
              "    <tr>\n",
              "      <th>15</th>\n",
              "      <td>senior</td>\n",
              "      <td>yes</td>\n",
              "      <td>high</td>\n",
              "      <td>yes</td>\n",
              "      <td>yes</td>\n",
              "    </tr>\n",
              "    <tr>\n",
              "      <th>16</th>\n",
              "      <td>senior</td>\n",
              "      <td>yes</td>\n",
              "      <td>high</td>\n",
              "      <td>no</td>\n",
              "      <td>yes</td>\n",
              "    </tr>\n",
              "  </tbody>\n",
              "</table>\n",
              "</div>\n",
              "      <button class=\"colab-df-convert\" onclick=\"convertToInteractive('df-d9756bea-d829-44b5-8706-71cbcb703a95')\"\n",
              "              title=\"Convert this dataframe to an interactive table.\"\n",
              "              style=\"display:none;\">\n",
              "        \n",
              "  <svg xmlns=\"http://www.w3.org/2000/svg\" height=\"24px\"viewBox=\"0 0 24 24\"\n",
              "       width=\"24px\">\n",
              "    <path d=\"M0 0h24v24H0V0z\" fill=\"none\"/>\n",
              "    <path d=\"M18.56 5.44l.94 2.06.94-2.06 2.06-.94-2.06-.94-.94-2.06-.94 2.06-2.06.94zm-11 1L8.5 8.5l.94-2.06 2.06-.94-2.06-.94L8.5 2.5l-.94 2.06-2.06.94zm10 10l.94 2.06.94-2.06 2.06-.94-2.06-.94-.94-2.06-.94 2.06-2.06.94z\"/><path d=\"M17.41 7.96l-1.37-1.37c-.4-.4-.92-.59-1.43-.59-.52 0-1.04.2-1.43.59L10.3 9.45l-7.72 7.72c-.78.78-.78 2.05 0 2.83L4 21.41c.39.39.9.59 1.41.59.51 0 1.02-.2 1.41-.59l7.78-7.78 2.81-2.81c.8-.78.8-2.07 0-2.86zM5.41 20L4 18.59l7.72-7.72 1.47 1.35L5.41 20z\"/>\n",
              "  </svg>\n",
              "      </button>\n",
              "      \n",
              "  <style>\n",
              "    .colab-df-container {\n",
              "      display:flex;\n",
              "      flex-wrap:wrap;\n",
              "      gap: 12px;\n",
              "    }\n",
              "\n",
              "    .colab-df-convert {\n",
              "      background-color: #E8F0FE;\n",
              "      border: none;\n",
              "      border-radius: 50%;\n",
              "      cursor: pointer;\n",
              "      display: none;\n",
              "      fill: #1967D2;\n",
              "      height: 32px;\n",
              "      padding: 0 0 0 0;\n",
              "      width: 32px;\n",
              "    }\n",
              "\n",
              "    .colab-df-convert:hover {\n",
              "      background-color: #E2EBFA;\n",
              "      box-shadow: 0px 1px 2px rgba(60, 64, 67, 0.3), 0px 1px 3px 1px rgba(60, 64, 67, 0.15);\n",
              "      fill: #174EA6;\n",
              "    }\n",
              "\n",
              "    [theme=dark] .colab-df-convert {\n",
              "      background-color: #3B4455;\n",
              "      fill: #D2E3FC;\n",
              "    }\n",
              "\n",
              "    [theme=dark] .colab-df-convert:hover {\n",
              "      background-color: #434B5C;\n",
              "      box-shadow: 0px 1px 3px 1px rgba(0, 0, 0, 0.15);\n",
              "      filter: drop-shadow(0px 1px 2px rgba(0, 0, 0, 0.3));\n",
              "      fill: #FFFFFF;\n",
              "    }\n",
              "  </style>\n",
              "\n",
              "      <script>\n",
              "        const buttonEl =\n",
              "          document.querySelector('#df-d9756bea-d829-44b5-8706-71cbcb703a95 button.colab-df-convert');\n",
              "        buttonEl.style.display =\n",
              "          google.colab.kernel.accessAllowed ? 'block' : 'none';\n",
              "\n",
              "        async function convertToInteractive(key) {\n",
              "          const element = document.querySelector('#df-d9756bea-d829-44b5-8706-71cbcb703a95');\n",
              "          const dataTable =\n",
              "            await google.colab.kernel.invokeFunction('convertToInteractive',\n",
              "                                                     [key], {});\n",
              "          if (!dataTable) return;\n",
              "\n",
              "          const docLinkHtml = 'Like what you see? Visit the ' +\n",
              "            '<a target=\"_blank\" href=https://colab.research.google.com/notebooks/data_table.ipynb>data table notebook</a>'\n",
              "            + ' to learn more about interactive tables.';\n",
              "          element.innerHTML = '';\n",
              "          dataTable['output_type'] = 'display_data';\n",
              "          await google.colab.output.renderOutput(dataTable, element);\n",
              "          const docLink = document.createElement('div');\n",
              "          docLink.innerHTML = docLinkHtml;\n",
              "          element.appendChild(docLink);\n",
              "        }\n",
              "      </script>\n",
              "    </div>\n",
              "  </div>\n",
              "  "
            ]
          },
          "metadata": {},
          "execution_count": 12
        }
      ]
    },
    {
      "cell_type": "code",
      "source": [
        "def entire_entropy(df):\n",
        "  target = df.keys()[-1]\n",
        "  entropy = 0\n",
        "  target_values = df[target].unique()\n",
        "\n",
        "  for value in target_values:\n",
        "    p = df[target].value_counts()[value] / len(df[target])\n",
        "    entropy += -p * np.log2(p+eps)\n",
        "  return entropy"
      ],
      "metadata": {
        "id": "6BVD-JSU9uN1"
      },
      "execution_count": null,
      "outputs": []
    },
    {
      "cell_type": "code",
      "source": [
        "print(entire_entropy(df))"
      ],
      "metadata": {
        "colab": {
          "base_uri": "https://localhost:8080/"
        },
        "id": "NonBw7IY96Q5",
        "outputId": "60514c54-4466-4dd6-a823-9684d6e88061"
      },
      "execution_count": null,
      "outputs": [
        {
          "output_type": "stream",
          "name": "stdout",
          "text": [
            "0.9774178175281709\n"
          ]
        }
      ]
    },
    {
      "cell_type": "code",
      "source": [
        "def entire_gini(df):\n",
        "  target = df.keys()[-1]\n",
        "  gini = 0\n",
        "  target_values = df[target].unique()\n",
        "\n",
        "  for value in target_values:\n",
        "    p = df[target].value_counts()[value] / len(df[target])\n",
        "    gini += p * (1 - p)\n",
        "  return gini"
      ],
      "metadata": {
        "id": "_pT_gaRxAYb9"
      },
      "execution_count": null,
      "outputs": []
    },
    {
      "cell_type": "code",
      "source": [
        "print(entire_gini(df))"
      ],
      "metadata": {
        "colab": {
          "base_uri": "https://localhost:8080/"
        },
        "id": "ggUJyPRTAh8a",
        "outputId": "e07dfc3c-9543-4f1d-f69b-932e8b7616d0"
      },
      "execution_count": null,
      "outputs": [
        {
          "output_type": "stream",
          "name": "stdout",
          "text": [
            "0.4844290657439446\n"
          ]
        }
      ]
    },
    {
      "cell_type": "code",
      "source": [
        "def attribute_entropy(df, attribute):\n",
        "  target = df.keys()[-1]\n",
        "  entropy_attribute = 0\n",
        "  target_values = df[target].unique()\n",
        "  attribute_values = df[attribute].unique()\n",
        "\n",
        "  for value in attribute_values:\n",
        "    total_entropy = 0\n",
        "\n",
        "    for val in target_values:\n",
        "      numerator = len(df[attribute][df[attribute] == value][df[target] == val])\n",
        "      denominator = len(df[attribute][df[attribute] == value])\n",
        "      p = numerator / (denominator + eps)  \n",
        "      total_entropy += -p * np.log2(p+eps)\n",
        "\n",
        "    p2 = denominator / len(df)\n",
        "    entropy_attribute += p2 * total_entropy\n",
        "\n",
        "  return entropy_attribute"
      ],
      "metadata": {
        "id": "hKzu3AKiA-m_"
      },
      "execution_count": null,
      "outputs": []
    },
    {
      "cell_type": "code",
      "source": [
        "for attribute in df.keys()[:-1]:\n",
        "  print('Entropy of',attribute, ' :', attribute_entropy(df, attribute))"
      ],
      "metadata": {
        "colab": {
          "base_uri": "https://localhost:8080/"
        },
        "id": "ZoTiZV_NDKCX",
        "outputId": "93fb7936-8fc5-491f-c085-de351ba9f0e8"
      },
      "execution_count": null,
      "outputs": [
        {
          "output_type": "stream",
          "name": "stdout",
          "text": [
            "Entropy of Age  : 0.976829582163908\n",
            "Entropy of Married  : 0.4045788563869161\n",
            "Entropy of Salary  : 0.7800661722847076\n",
            "Entropy of Home_owner  : 0.9240885849733339\n"
          ]
        }
      ]
    },
    {
      "cell_type": "code",
      "source": [
        "def best_attribute_to_divide(df):\n",
        "  entropy_list = []\n",
        "  attributes = df.keys()[:-1]\n",
        "  index = 0\n",
        "  for attribute in attributes:\n",
        "    entropy_list.append(attribute_entropy(df, attribute))\n",
        "    \n",
        "  index = np.argmin(entropy_list)\n",
        "  best_attribute = attributes[index]\n",
        "  \n",
        "  return best_attribute\n",
        "  #########################################################\n",
        "  # IG = []\n",
        "  # attributes  = df.keys()[:-1]\n",
        "  # for attribute in attributes:\n",
        "  #   IG.append(entire_entropy(df) - attribute_entropy(df, attribute))\n",
        "  # index = np.argmax(IG)\n",
        "  # best_attribute = attributes[index]\n",
        "  # return best_attribute"
      ],
      "metadata": {
        "id": "7RZl1KAyH1L1"
      },
      "execution_count": null,
      "outputs": []
    },
    {
      "cell_type": "code",
      "source": [
        "print(best_attribute_to_divide(df))"
      ],
      "metadata": {
        "colab": {
          "base_uri": "https://localhost:8080/"
        },
        "id": "UTQldGkuIQiO",
        "outputId": "4216d5b5-5177-420f-ae5a-84c6cca62ec0"
      },
      "execution_count": null,
      "outputs": [
        {
          "output_type": "stream",
          "name": "stdout",
          "text": [
            "Married\n"
          ]
        }
      ]
    }
  ]
}