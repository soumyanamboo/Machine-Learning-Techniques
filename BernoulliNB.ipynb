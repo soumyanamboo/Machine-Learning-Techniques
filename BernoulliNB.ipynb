{
  "nbformat": 4,
  "nbformat_minor": 0,
  "metadata": {
    "colab": {
      "provenance": [],
      "authorship_tag": "ABX9TyOEBciulC7LnPMyp4jqYKN5"
    },
    "kernelspec": {
      "name": "python3",
      "display_name": "Python 3"
    },
    "language_info": {
      "name": "python"
    }
  },
  "cells": [
    {
      "cell_type": "markdown",
      "source": [
        "#Bernoulli NB Implementation\n",
        "Class conditional density is calculated as   \n",
        "$$ w_{jy_c} = \\frac{Σ_{i=1}^n 𝟙(y^{(i)} = y_c) x_j^{(i)}}{Σ_{i=1}^n 𝟙(y^{(i)} = y_c)}\n",
        "$$\n",
        "* Numerator: the number of examples with label = $y_c$ and $x_j = 1$  \n",
        "* Denomenator: Total no of examples with label $y_c$  \n",
        "\n",
        "Class prior is $$ w_{jy_c} = \\frac{Σ_{i=1}^n 𝟙(y^{(i)} = y_c)}{n}$$   \n",
        "* Ratio of Total no of examples with label $y_c$ to total number of examples in the training set.  \n",
        "\n",
        "While estimating the parametrs of the model, we process examples from each label separately and estimate the parameters.\n"
      ],
      "metadata": {
        "id": "yHeuRaLy5a8P"
      }
    },
    {
      "cell_type": "code",
      "execution_count": null,
      "metadata": {
        "id": "Md6SQZbWQ7Tg"
      },
      "outputs": [],
      "source": [
        "import numpy as np"
      ]
    },
    {
      "cell_type": "code",
      "source": [
        "def fit(X, y):\n",
        "  n_samples, n_features = X.shape\n",
        "  classes = np.unique(y)\n",
        "  n_classes = len(classes)\n",
        "\n",
        "  w = np.zeros((n_classes, n_features), dtype=np.float64)\n",
        "  w_priors = np.zeros(n_classes, dtype=np.float64)\n",
        "\n",
        "  for c in range(n_features):\n",
        "    x_c = X[y == c]\n",
        "    w[c,:] = np.sum(x_c, axis=0)/x_c.shape[0]\n",
        "    w_priors[c] = x_c.shape[0] / float(n_samples)\n",
        "  \n",
        "  print('weight vector: ', w)\n",
        "  print('Prior: ', w_priors)\n",
        "  return w, w_priors"
      ],
      "metadata": {
        "id": "t7nFrz505aOB"
      },
      "execution_count": null,
      "outputs": []
    },
    {
      "cell_type": "code",
      "source": [
        "X = np.array([[1,0],[0,1],[0,1],[1,0]])\n",
        "y = np.array([1,0,0,1])\n",
        "fit(X, y)\n"
      ],
      "metadata": {
        "colab": {
          "base_uri": "https://localhost:8080/"
        },
        "id": "GXbDVCZI5aT8",
        "outputId": "ded63a9a-51a1-4f4d-85f8-70537bf786c3"
      },
      "execution_count": null,
      "outputs": [
        {
          "output_type": "stream",
          "name": "stdout",
          "text": [
            "weight vector:  [[0. 1.]\n",
            " [1. 0.]]\n",
            "Prior:  [0.5 0.5]\n"
          ]
        },
        {
          "output_type": "execute_result",
          "data": {
            "text/plain": [
              "(array([[0., 1.],\n",
              "        [1., 0.]]), array([0.5, 0.5]))"
            ]
          },
          "metadata": {},
          "execution_count": 3
        }
      ]
    },
    {
      "cell_type": "code",
      "source": [
        "class BernoulliNB(object):\n",
        "  def __init__(self, alpha=1.0):\n",
        "    self.alpha = alpha\n",
        "  \n",
        "  def fit(self, X, y):\n",
        "    n_samples, n_features = X.shape\n",
        "    classes = np.unique(y)\n",
        "    n_classes = len(classes)\n",
        "\n",
        "    self.w = np.zeros((n_classes, n_features), dtype=np.float64)\n",
        "    self.w_prior = np.zeros(n_classes, dtype=np.float64)\n",
        "    \n",
        "    for c in range(n_classes):\n",
        "      X_c = X[y == c]\n",
        "      self.w[c,:] = (np.sum(X_c, axis=0) + self.alpha) / (X_c.shape[0] + 2 * self.alpha)\n",
        "      self.w_prior[c] = (X_c.shape[0] + self.alpha) / (float(n_samples) + n_classes * self.alpha)\n",
        "\n",
        "    print('Class conditional density: ', self.w)\n",
        "    print('Prior: ', self.w_prior)\n",
        "\n",
        "  def log_likelyhood_prior_prod(self, X):gg\n",
        "    log_likelyhood = X @ (np.log(self.w).T) + (1 - X) @ (np.log(1 - self.w).T) + np.log(self.w_prior)\n",
        "    return log_likelyhood\n",
        "    \n",
        "  def predict_probability(self, X):\n",
        "    q = self.log_likelyhood_prior_prod(X)\n",
        "    #predicted_prob = np.exp(q) / np.expand_dims(np.sum(np.exp(q), axis=1), axis=1)\n",
        "    predicted_prob = np.exp(q) / np.sum(np.exp(q), axis=1).reshape(-1,1)\n",
        "    return predicted_prob\n",
        "\n",
        "  def predict(self, X):\n",
        "    return np.argmax(self.log_likelyhood_prior_prod(X), axis=1)\n",
        "  "
      ],
      "metadata": {
        "id": "w2xOIvvx-JNC"
      },
      "execution_count": null,
      "outputs": []
    },
    {
      "cell_type": "code",
      "source": [
        "bernoulli_nb = BernoulliNB()\n",
        "X = np.array([[1,0],[0,1],[0,1],[1,0]])\n",
        "y = np.array([1,0,0,1])\n",
        "bernoulli_nb.fit(X, y)"
      ],
      "metadata": {
        "colab": {
          "base_uri": "https://localhost:8080/"
        },
        "id": "fK3cJollvf_b",
        "outputId": "fc601b42-1633-48cb-d1f6-0c7ee6135cb5"
      },
      "execution_count": null,
      "outputs": [
        {
          "output_type": "stream",
          "name": "stdout",
          "text": [
            "Class conditional density:  [[0.25 0.75]\n",
            " [0.75 0.25]]\n",
            "Prior:  [0.5 0.5]\n"
          ]
        }
      ]
    },
    {
      "cell_type": "code",
      "source": [
        "bernoulli_nb.log_likelyhood_prior_prod(X)"
      ],
      "metadata": {
        "colab": {
          "base_uri": "https://localhost:8080/"
        },
        "id": "W7LuneE-wdUQ",
        "outputId": "b7fe4f4b-00ba-4096-cdde-c4c02928c8f5"
      },
      "execution_count": null,
      "outputs": [
        {
          "output_type": "execute_result",
          "data": {
            "text/plain": [
              "array([[-3.4657359 , -1.26851133],\n",
              "       [-1.26851133, -3.4657359 ],\n",
              "       [-1.26851133, -3.4657359 ],\n",
              "       [-3.4657359 , -1.26851133]])"
            ]
          },
          "metadata": {},
          "execution_count": 7
        }
      ]
    },
    {
      "cell_type": "code",
      "source": [
        "bernoulli_nb.predict(X)"
      ],
      "metadata": {
        "colab": {
          "base_uri": "https://localhost:8080/"
        },
        "id": "8E5n3QuAwAUj",
        "outputId": "add9549c-0b63-471d-b245-c77391c56545"
      },
      "execution_count": null,
      "outputs": [
        {
          "output_type": "execute_result",
          "data": {
            "text/plain": [
              "array([1, 0, 0, 1])"
            ]
          },
          "metadata": {},
          "execution_count": 8
        }
      ]
    },
    {
      "cell_type": "code",
      "source": [
        "bernoulli_nb.log_likelyhood_prior_prod(X)"
      ],
      "metadata": {
        "colab": {
          "base_uri": "https://localhost:8080/"
        },
        "id": "-LDMC256v4eE",
        "outputId": "cb928597-144d-4790-dffa-81105fd026a3"
      },
      "execution_count": null,
      "outputs": [
        {
          "output_type": "execute_result",
          "data": {
            "text/plain": [
              "array([[-3.4657359 , -1.26851133],\n",
              "       [-1.26851133, -3.4657359 ],\n",
              "       [-1.26851133, -3.4657359 ],\n",
              "       [-3.4657359 , -1.26851133]])"
            ]
          },
          "metadata": {},
          "execution_count": 11
        }
      ]
    },
    {
      "cell_type": "code",
      "source": [
        "bernoulli_nb.predict_probability(X)"
      ],
      "metadata": {
        "colab": {
          "base_uri": "https://localhost:8080/"
        },
        "id": "Q_muh3vtx8MV",
        "outputId": "a2e1ed73-1e67-4c33-d5cf-f4ebc215d14f"
      },
      "execution_count": null,
      "outputs": [
        {
          "output_type": "execute_result",
          "data": {
            "text/plain": [
              "array([[0.1, 0.9],\n",
              "       [0.9, 0.1],\n",
              "       [0.9, 0.1],\n",
              "       [0.1, 0.9]])"
            ]
          },
          "metadata": {},
          "execution_count": 10
        }
      ]
    },
    {
      "cell_type": "code",
      "source": [
        "X1 = np.array([[1,0], [0,1], [0,1], [1,0], [1,1], [1,1]])\n",
        "y1 = np.array([1, 0, 0, 1, 2, 2])\n",
        "b_nb = BernoulliNB()\n",
        "print('fit')\n",
        "print(b_nb.fit(X1, y1))\n",
        "print('predict')\n",
        "print(b_nb.predict(X1))\n",
        "print('log likelyhood')\n",
        "print(b_nb.log_likelyhood_prior_prod(X1))\n",
        "print('probability')\n",
        "print(b_nb.predict_probability(X1))"
      ],
      "metadata": {
        "colab": {
          "base_uri": "https://localhost:8080/"
        },
        "id": "GRnUf-ebyGHe",
        "outputId": "2ace660f-37dd-4a2e-988d-14ea2281c77f"
      },
      "execution_count": null,
      "outputs": [
        {
          "output_type": "stream",
          "name": "stdout",
          "text": [
            "fit\n",
            "Class conditional density:  [[0.25 0.75]\n",
            " [0.75 0.25]\n",
            " [0.75 0.75]]\n",
            "Prior:  [0.33333333 0.33333333 0.33333333]\n",
            "None\n",
            "predict\n",
            "[1 0 0 1 2 2]\n",
            "log likelyhood\n",
            "[[-3.87120101 -1.67397643 -2.77258872]\n",
            " [-1.67397643 -3.87120101 -2.77258872]\n",
            " [-1.67397643 -3.87120101 -2.77258872]\n",
            " [-3.87120101 -1.67397643 -2.77258872]\n",
            " [-2.77258872 -2.77258872 -1.67397643]\n",
            " [-2.77258872 -2.77258872 -1.67397643]]\n",
            "probability\n",
            "[[0.07692308 0.69230769 0.23076923]\n",
            " [0.69230769 0.07692308 0.23076923]\n",
            " [0.69230769 0.07692308 0.23076923]\n",
            " [0.07692308 0.69230769 0.23076923]\n",
            " [0.2        0.2        0.6       ]\n",
            " [0.2        0.2        0.6       ]]\n"
          ]
        }
      ]
    }
  ]
}