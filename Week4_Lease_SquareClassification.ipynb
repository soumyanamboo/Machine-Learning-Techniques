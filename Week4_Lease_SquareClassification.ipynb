{
  "nbformat": 4,
  "nbformat_minor": 0,
  "metadata": {
    "colab": {
      "provenance": [],
      "authorship_tag": "ABX9TyN1X1fEZRc1H0zc2dRhhmai",
      "include_colab_link": true
    },
    "kernelspec": {
      "name": "python3",
      "display_name": "Python 3"
    },
    "language_info": {
      "name": "python"
    }
  },
  "cells": [
    {
      "cell_type": "markdown",
      "metadata": {
        "id": "view-in-github",
        "colab_type": "text"
      },
      "source": [
        "<a href=\"https://colab.research.google.com/github/soumyanamboo/Machine-Learning-Techniques/blob/main/Week4_Lease_SquareClassification.ipynb\" target=\"_parent\"><img src=\"https://colab.research.google.com/assets/colab-badge.svg\" alt=\"Open In Colab\"/></a>"
      ]
    },
    {
      "cell_type": "markdown",
      "source": [
        "# Lease Square Classification\n",
        "* Lease Square Classification is used for estimating parameters of Discriminant function from the given training data.  \n",
        "* Lease Square Classification adapts linear regression model for classification.  \n",
        "  * It uses lease square error as loss function.  \n",
        "  * It uses normal equation methos and Gradient Descent for estimating model parameters or weight vector.\n",
        "* Since it is a classification algorithm, we would use classification related evaluation metrics such as precision, recall, F-1 Score, AUC ROC/PR and accuracy.\n",
        "* We make use of polynomial feature transformation to obtain new features and then make use of that representation to learn non-linear decision boundaries between classes.   \n",
        "$$ y = w_0 + W^T 𝝫(x)   $$  \n",
        "where $𝝫(x)$ is a polynomial feature transformation.\n",
        "* We can tackle the issue of overfitting by using Ridge or Lasso Regularization just like linear regression model."
      ],
      "metadata": {
        "id": "vuDYNoYN0HCJ"
      }
    },
    {
      "cell_type": "code",
      "execution_count": null,
      "metadata": {
        "id": "PLzjIMwMzYWW"
      },
      "outputs": [],
      "source": [
        "# Import Libraries:\n",
        "import numpy as np\n",
        "import matplotlib.pyplot as plt\n",
        "import itertools\n",
        "import functools\n",
        "import seaborn as sns\n",
        "import math"
      ]
    },
    {
      "cell_type": "code",
      "source": [
        "#@title [Implementation of Linear Regression class]\n",
        "\n",
        "class LinReg():\n",
        "  ''' Linear Regression Model class definition\n",
        "      y = X@w\n",
        "      X: feature matrix\n",
        "      w: weight vector\n",
        "      y: label vector\n",
        "  '''\n",
        "  def __init__(self):\n",
        "    self.t0 = 20\n",
        "    self.t1 = 100\n",
        "  \n",
        "  def predict(self, X:np.ndarray):\n",
        "    ''' Args:\n",
        "          X: feature matrix\n",
        "        Returns:\n",
        "          y: label vector predicted by the given model\n",
        "    '''\n",
        "    y = X@self.w\n",
        "    return y\n",
        "  \n",
        "  def loss(self, X:np.ndarray, y:np.ndarray, reg_rate:float):\n",
        "    ''' Calculates loss for a model based on known labels.\n",
        "        Args:\n",
        "          X: feature matrix\n",
        "          y: label vector\n",
        "          reg_rate: regularization rate\n",
        "        Returns:\n",
        "          Loss \n",
        "    '''\n",
        "    e = y - self.predict(X)\n",
        "    return (1/2) * np.transpose(e)@e\n",
        "    # return (1/2) * np.transpose(e)@e + (reg_rate/2)*np.transpose(self.w)@self.w\n",
        "  \n",
        "  def rmse(self, X:np.ndarray, y:np.ndarray):\n",
        "    ''' Calculates root mean squared error of prediction w.r.t actual label\n",
        "        Args:\n",
        "          X: feature matrix\n",
        "          y: label vector\n",
        "        Returns:\n",
        "          Loss\n",
        "    '''\n",
        "    return np.sqrt((2/X.shape[0])* self.loss(X,y,0))\n",
        "  \n",
        "  def fit(self, X:np.ndarray, y:np.ndarray, reg_rate:float):\n",
        "    ''' Estimate parameters of linear regression model w.r.t known labels.\n",
        "        Args:\n",
        "          X: feature matrix\n",
        "          y: label vector\n",
        "          reg_rate: rate of regression\n",
        "        Returns:\n",
        "          weight vector\n",
        "    '''\n",
        "    self.w = np.zeros(X.shape[1])\n",
        "    eye = np.eye(np.size(X,1))\n",
        "    self.w = np.linalg.solve(reg_rate*eye + X.T@X, X.T@y)\n",
        "    return self.w\n",
        "  \n",
        "  def calculate_gradient(self, X:np.ndarray, y:np.ndarray, reg_rate:float):\n",
        "    ''' Calculates the gradient of loss function w.r.t weight vector\n",
        "        Args:\n",
        "          X: feature matrix\n",
        "          y: label vector\n",
        "          reg_rate: rate of regression\n",
        "        Returns:\n",
        "          gradient vector\n",
        "    '''\n",
        "    grad = np.transpose(X) @ (self.predict(X) - y) + reg_rate * self.w\n",
        "    return grad\n",
        "  \n",
        "def update_weights(self, grad:np.ndarray, lr:float):\n",
        "  ''' updates the weights based on the gradient of loss function\n",
        "      w_new = w_old - lr * grad\n",
        "      Args:\n",
        "        grad: gradient of loss w.r.t w\n",
        "        lr: learning rate\n",
        "      Returns:\n",
        "      updated weight vector\n",
        "  '''\n",
        "  w_new = self.w - lr * grad\n",
        "  return w_new\n",
        "\n",
        "def learning_schedule(self, t):\n",
        "  return (self.t0/(t + self.t1))\n",
        "\n",
        "def gd(self, X:np.ndarray, y:np.ndarray, num_epochs:int, lr:float,reg_rate:float):\n",
        "  ''' Estimates parameter of linear regression model using gradient descent\n",
        "      Args:\n",
        "        X: feature matrix\n",
        "        y: label vector\n",
        "        num_epochs: number of iterations\n",
        "        lr: learning rate\n",
        "        reg_rate: rate of regression\n",
        "      Returns:\n",
        "        weight vector: final weight vector\n",
        "  '''\n",
        "  self.w = np.zeros(X.shape[1])\n",
        "  self.w_all = []\n",
        "  self.err_all = []\n",
        "  for i in np.arange(0, num_epochs):\n",
        "    \n",
        "    self.w_all.append(self.w)\n",
        "    self.err_all.append(self.loss(X,y,0))\n",
        "    \n",
        "    grad = self.calculate_gradient(X,y,reg_rate)\n",
        "    self.w = self.update_weights(grad,lr)\n",
        "  return self.w\n",
        "\n",
        "def mbgd(self, X:np.ndarray, y:np.ndarray, num_epochs:int, batch_size:int, reg_rate:float):\n",
        "  ''' Estimates parameter of linear regression model using MBGD\n",
        "      Args:\n",
        "        X: feature matrix\n",
        "        y: label vector\n",
        "        num_epochs: number of iterations\n",
        "        batch_size: number of examples in a batch\n",
        "        reg_rate: rate of regression\n",
        "      Returns:\n",
        "        weight vector: final weight vector\n",
        "  '''\n",
        "  self.w = np.zeros(X.shape[1])\n",
        "  self.w_all = []\n",
        "  self.err_all = []\n",
        "  mini_batch_id = 0\n",
        "\n",
        "  for epoch in range(num_epochs):\n",
        "    shuffled_indices = np.random.permutation(X.shape[0])\n",
        "    X_shuffled = X[shuffled_indices]\n",
        "    y_shuffled = y[shuffled_indices]\n",
        "    for i in range(0, X.shape[0],batch_size):\n",
        "      mini_batch_id += 1\n",
        "      xi = X_shuffled[i:i+batch_size]\n",
        "      yi = y_shuffled[i:i+batch_size]\n",
        "      self.w_all.append(self.w)\n",
        "      self.err_all.append(self.loss(xi,yi,0))\n",
        "\n",
        "      grad = (2/batch_size) * self.calculate_gradient(X,y,reg_rate)\n",
        "      lr = self.learning_schedule(mini_batch_id)\n",
        "      self.w = self.update_weights(grad,lr)\n",
        "  return self.w\n",
        "\n",
        "def sgd(self, X:np.ndarray, y:np.ndarray, num_epochs:int, reg_rate:float):\n",
        "  ''' Estimates parameter of linear regression model using Stochastic GD\n",
        "      Args:\n",
        "        X: feature matrix\n",
        "        y: label vector\n",
        "        num_epochs: number of iterations\n",
        "        reg_rate: rate of regression\n",
        "      Returns:\n",
        "        weight vector: final weight vector\n",
        "  '''\n",
        "  self.w = np.zeros(X.shape[1])\n",
        "  self.w_all = []\n",
        "  self.err_all = []\n",
        "\n",
        "  for epoch in range(num_epochs):\n",
        "    for i in range(0, X.shape[0]):\n",
        "      random_index = np.random.randint(X.shape[0])\n",
        "      xi = X[random_index:random_index+1]\n",
        "      yi = y[random_index:random_index+1]\n",
        "\n",
        "      self.w_all.append(self.w)\n",
        "      self.err_all.append(self.loss(xi,yi,0))\n",
        "\n",
        "      grad = 2 * self.calculate_gradient(X,y,reg_rate)\n",
        "      lr = self.learning_schedule(epoch *X.shape[0] + i)\n",
        "      self.w = self.update_weights(grad,lr)\n",
        "  return self.w\n"
      ],
      "metadata": {
        "cellView": "form",
        "id": "1Vuq9hlF2oEh"
      },
      "execution_count": null,
      "outputs": []
    },
    {
      "cell_type": "code",
      "source": [
        "# @title [polynomial transformation]\n",
        "def get_combinations(x, degree):\n",
        "  return itertools.combinations_with_replacement(x, degree)\n",
        "\n",
        "def compute_new_feature(items):\n",
        "  return functools.reduce(lambda x, y: x*y, items) \n",
        "\n",
        "def polynomial_transform(x, degree, logging=False):\n",
        "  #convert feature to matrix\n",
        "  if(x.ndim ==1):\n",
        "    x = x[:,None]\n",
        "  x_t = x.transpose()   # transpose of feature matrix\n",
        "  features = [np.ones(len(x))] # populates 1's as first feature of each example\n",
        "  if(logging):\n",
        "    print('Input: ',x)\n",
        "\n",
        "  for degree in range(1, degree + 1):\n",
        "    for items in get_combinations(x_t,degree):  # generate combinations \n",
        "      features.append(compute_new_feature(items))  # combine features into new feature\n",
        "      if(logging):\n",
        "        print(items, ' : ', compute_new_feature(items))\n",
        "  if(logging):\n",
        "    print(np.asarray(features).transpose())\n",
        "  return np.asarray(features).transpose()"
      ],
      "metadata": {
        "cellView": "form",
        "id": "owuWjnV33l9d"
      },
      "execution_count": null,
      "outputs": []
    },
    {
      "cell_type": "code",
      "source": [
        "# @title [create non linear training set]\n",
        "def non_linear_training_set(func, sample_size, std):\n",
        "  x = np.linspace(0,1,sample_size)\n",
        "  y = func(x) + np.random.normal(scale=std,size=x.shape)\n",
        "  return x, y\n",
        "\n",
        "def nonlin(x):\n",
        "  return np.sin(2 * np.pi * x)"
      ],
      "metadata": {
        "cellView": "form",
        "id": "yprzM5sk3vvh"
      },
      "execution_count": null,
      "outputs": []
    },
    {
      "cell_type": "code",
      "source": [
        "# @title [model selection]\n",
        "def convert_dict_to_df(w_dict, degree):\n",
        "  poly_w_dict = {i:np.array(np.zeros(degree)) for i in range(degree)}\n",
        "  for deg in poly_w_dict:\n",
        "    weight_vector = w_dict[deg]\n",
        "    for i in range(len(weight_vector)):\n",
        "      poly_w_dict[deg][i] = weight_vector[i]\n",
        "    \n",
        "  poly_w_df = pd.DataFrame(poly_w_dict)\n",
        "  poly_w_df.columns = ['w_'+str(i) for i in range(degree)]\n",
        "  return poly_w_df\n",
        "\n",
        "def plot_model_selection(training_errors, val_errors):\n",
        "  plt.plot(training_errors,'o-',mfc='none',mec='b',ms=10,label='training errors')\n",
        "  plt.plot(val_errors,'o-',mfc='none',mec='r',ms=10,label='velidation errors')\n",
        "  plt.legend()\n",
        "  plt.xlabel('degree')\n",
        "  plt.ylabel('RMSE')\n",
        "  plt.show()"
      ],
      "metadata": {
        "cellView": "form",
        "id": "Wxoe6Z5w36Kf"
      },
      "execution_count": null,
      "outputs": []
    },
    {
      "cell_type": "code",
      "source": [
        "# @title [plot model selection]\n",
        "training_errors = []\n",
        "val_errors = []\n",
        "w_dict = {}\n",
        "x_val = np.linspace(0,1,100)\n",
        "y_val = nonlin(x_val) +np.random.normal(scale=0.25,size=(len(x_val)))\n",
        "for i in range(10):\n",
        "  x_transform = polynomial_transform(x,i)\n",
        "  x_val_transform = polynomial_transform(x_val,i)\n",
        "  lin_reg = LinReg()\n",
        "  lin_reg.fit(x_transform,y,0)\n",
        "\n",
        "  w_dict[i] = lin_reg.w\n",
        "  training_errors.append(lin_reg.rmse(x_transform, y))\n",
        "  val_errors.append(lin_reg.rmse(x_val_transform, y_val))\n",
        "plot_model_selection(training_errors,val_errors)\n",
        "convert_dict_to_df(w_dict,10)"
      ],
      "metadata": {
        "colab": {
          "base_uri": "https://localhost:8080/",
          "height": 235
        },
        "cellView": "form",
        "id": "PkEsSUQf4CZr",
        "outputId": "81b0110c-e63e-4936-cbb5-717a7d583153"
      },
      "execution_count": null,
      "outputs": [
        {
          "output_type": "error",
          "ename": "NameError",
          "evalue": "ignored",
          "traceback": [
            "\u001b[0;31m---------------------------------------------------------------------------\u001b[0m",
            "\u001b[0;31mNameError\u001b[0m                                 Traceback (most recent call last)",
            "\u001b[0;32m<ipython-input-6-a1a921cf3890>\u001b[0m in \u001b[0;36m<module>\u001b[0;34m()\u001b[0m\n\u001b[1;32m      6\u001b[0m \u001b[0my_val\u001b[0m \u001b[0;34m=\u001b[0m \u001b[0mnonlin\u001b[0m\u001b[0;34m(\u001b[0m\u001b[0mx_val\u001b[0m\u001b[0;34m)\u001b[0m \u001b[0;34m+\u001b[0m\u001b[0mnp\u001b[0m\u001b[0;34m.\u001b[0m\u001b[0mrandom\u001b[0m\u001b[0;34m.\u001b[0m\u001b[0mnormal\u001b[0m\u001b[0;34m(\u001b[0m\u001b[0mscale\u001b[0m\u001b[0;34m=\u001b[0m\u001b[0;36m0.25\u001b[0m\u001b[0;34m,\u001b[0m\u001b[0msize\u001b[0m\u001b[0;34m=\u001b[0m\u001b[0;34m(\u001b[0m\u001b[0mlen\u001b[0m\u001b[0;34m(\u001b[0m\u001b[0mx_val\u001b[0m\u001b[0;34m)\u001b[0m\u001b[0;34m)\u001b[0m\u001b[0;34m)\u001b[0m\u001b[0;34m\u001b[0m\u001b[0;34m\u001b[0m\u001b[0m\n\u001b[1;32m      7\u001b[0m \u001b[0;32mfor\u001b[0m \u001b[0mi\u001b[0m \u001b[0;32min\u001b[0m \u001b[0mrange\u001b[0m\u001b[0;34m(\u001b[0m\u001b[0;36m10\u001b[0m\u001b[0;34m)\u001b[0m\u001b[0;34m:\u001b[0m\u001b[0;34m\u001b[0m\u001b[0;34m\u001b[0m\u001b[0m\n\u001b[0;32m----> 8\u001b[0;31m   \u001b[0mx_transform\u001b[0m \u001b[0;34m=\u001b[0m \u001b[0mpolynomial_transform\u001b[0m\u001b[0;34m(\u001b[0m\u001b[0mx\u001b[0m\u001b[0;34m,\u001b[0m\u001b[0mi\u001b[0m\u001b[0;34m)\u001b[0m\u001b[0;34m\u001b[0m\u001b[0;34m\u001b[0m\u001b[0m\n\u001b[0m\u001b[1;32m      9\u001b[0m   \u001b[0mx_val_transform\u001b[0m \u001b[0;34m=\u001b[0m \u001b[0mpolynomial_transform\u001b[0m\u001b[0;34m(\u001b[0m\u001b[0mx_val\u001b[0m\u001b[0;34m,\u001b[0m\u001b[0mi\u001b[0m\u001b[0;34m)\u001b[0m\u001b[0;34m\u001b[0m\u001b[0;34m\u001b[0m\u001b[0m\n\u001b[1;32m     10\u001b[0m   \u001b[0mlin_reg\u001b[0m \u001b[0;34m=\u001b[0m \u001b[0mLinReg\u001b[0m\u001b[0;34m(\u001b[0m\u001b[0;34m)\u001b[0m\u001b[0;34m\u001b[0m\u001b[0;34m\u001b[0m\u001b[0m\n",
            "\u001b[0;31mNameError\u001b[0m: name 'x' is not defined"
          ]
        }
      ]
    },
    {
      "cell_type": "markdown",
      "source": [
        "## Label Encoding:  \n",
        "Since the label y is a discrete quantity, we use one-hot encoding represent label.  \n",
        "For a binary classification,\n",
        "* The label 0 is represented with [1,0]\n",
        "* The label 1 is represented with [0,1]   \n",
        "The same scheme can be extended to the **multi-class setting**. In general, for a k-class set up, we use one hot encoding in k component vector. $[y_0,y_1,...,y_k]$. For label 1 <= r <= k, $y_r$ would be 1 and other components would be 0.  \n",
        "For 3-class set-up, \n",
        "* The label 0 is represented with [1, 0, 0]\n",
        "* The label 1 is represented with [0, 1, 0]\n",
        "* The label 2 is represented with [0, 0, 1]"
      ],
      "metadata": {
        "id": "cVPqyUka237L"
      }
    },
    {
      "cell_type": "code",
      "source": [
        "class LabelTransformer(object):\n",
        "  ''' Label encoder - decoder\n",
        "      Attributes:\n",
        "        n_classes: int\n",
        "          --> no of classes - k\n",
        "  '''\n",
        "  def __init__(self, n_classes:int=None):\n",
        "    self.n_classes = n_classes\n",
        "  \n",
        "  @property\n",
        "  def n_classes(self):\n",
        "    return self.__n_classes\n",
        "  \n",
        "  @n_classes.setter\n",
        "  def n_classes(self, K):\n",
        "    self.__n_classes = K\n",
        "    self.__encoder = None if K is None else np.eye(K)\n",
        "  \n",
        "  @property\n",
        "  def encoder(self):\n",
        "    return self.__encoder\n",
        "  \n",
        "  def encode(self, class_indices:np.ndarray):\n",
        "    ''' Encode class index into one-of-k code\n",
        "        Parameters:\n",
        "          class_indices: (N,) np.ndarray\n",
        "          non negative class index. elements must be integer in [0, n_classes]\n",
        "        Returns:\n",
        "          (N,K): ndarray - one-of-k encoding of input\n",
        "    '''\n",
        "    if self.n_classes is None:\n",
        "      self.n_classes = np.max(class_indices) + 1\n",
        "    return self.encoder[class_indices]\n",
        "  \n",
        "  def decode(self, onehot:np.ndarray):\n",
        "    ''' decode one-of-k class into class index\n",
        "        Parameters:\n",
        "          onehot: (N,K) np.ndarray - one-of-k code\n",
        "        Returns:\n",
        "          (N,) np.ndarray - class index\n",
        "    '''\n",
        "    return np.argmax(onehot,axis=1)  "
      ],
      "metadata": {
        "id": "j2URlBwm23oK"
      },
      "execution_count": null,
      "outputs": []
    },
    {
      "cell_type": "code",
      "source": [
        "binary_labels = LabelTransformer(2).encode(np.array([1,0,1,0]))\n",
        "binary_labels\n",
        "#LabelTransformer(2).decode(np.array([[1,0,1,0]]))"
      ],
      "metadata": {
        "colab": {
          "base_uri": "https://localhost:8080/"
        },
        "id": "RYKStq9lGAK6",
        "outputId": "5f4eb711-1582-4caa-9297-2bed9dc94437"
      },
      "execution_count": null,
      "outputs": [
        {
          "output_type": "execute_result",
          "data": {
            "text/plain": [
              "array([[0., 1.],\n",
              "       [1., 0.],\n",
              "       [0., 1.],\n",
              "       [1., 0.]])"
            ]
          },
          "metadata": {},
          "execution_count": 15
        }
      ]
    },
    {
      "cell_type": "markdown",
      "source": [
        "# Least Square Classification Implimentation  \n",
        "## Training Data\n",
        "This representation of label has an impact on the learning set-up.\n",
        "* A feature matrix of shape (n,m) where n is the number of examples and m is the number of features\n",
        "* A label Matrix Y of shane (n,k) where k is the number of class labels. This set up is similar to multi-label regression.\n",
        "## Model\n",
        "The label matrix is obtained by multiplication of feature matrix and weight matrix. After adding a dummy feature to feature matrix, its shape becomes (n,m+1).\n",
        "$$ Y_{(n,k)} = X_{(n,m+1)} W_{(m+1,k)}  $$\n",
        "There is one weight vector per output. Hence total number of parameters to be estimated = (m+1, k).  \n",
        "## Loss Function\n",
        "Loss Matrix of shape (k,k):\n",
        "$$ J(w) = \\frac{1}{2} (Y_{(n,k)} - X_{(n,m+1)} W_{(m+1,k)})^T (Y_{(n,k)} - X_{(n,m+1)} W_{(m+1,k)}) + \\frac{λ}{2} W^TW  $$ \n",
        "$$ = \\frac{1}{2} (E)^T_{(k,n)}E_{(n,k)} + \\frac{λ}{2} W^TW_{(k,k)} $$\n",
        "\n",
        "**Normal Equation:**\n",
        "There is almost no code change needed for the ***fit*** function that uses normal equation method for parameter or weight vector estimation.\n",
        "$$W = (X^TX + λ I)^{-1} X^TY$$\n",
        "\n",
        "## Iterative Optimization (GD, MBGD, SGD)\n",
        "The gradient calculation ***calculate_gradient*** for iterative optimization is as follows:\n",
        "$$ \\frac{DJ(w)}{D(W)} = X^T(XW - Y) + λW $$\n",
        "New value of W is calculated in vector form as:\n",
        "$$ W^{(new)} := W^{(old)} - α \\frac{DJ(w)}{D(W)}  $$\n",
        "\n",
        "**Inference**\n",
        "The predict function for this classification function is expected to return a discrete quantity  \n",
        "* We return the class label for the largest value of linear combination of features among all classes\n",
        "\n"
      ],
      "metadata": {
        "id": "zsDK13yaLhQe"
      }
    },
    {
      "cell_type": "code",
      "source": [
        "class LeastSquareClassification():\n",
        "  ''' LSC Model:\n",
        "        y: np.where(X@W >=0, 1, 0)\n",
        "        X: a feature matrix\n",
        "        w: weight vector\n",
        "        y: label vector\n",
        "  '''\n",
        "  def __init__(self):\n",
        "    self.t0 = 20\n",
        "    self.t1 = 100\n",
        "  \n",
        "  def predict(self, X:np.ndarray):\n",
        "    ''' Prediction of output label for a given input\n",
        "        Arguments:\n",
        "          X:feature matrix\n",
        "        Returns:\n",
        "          y: label vector\n",
        "    '''\n",
        "    # check to make sure that shapes are compatible\n",
        "    assert X.shape[-1] == self.w.shape[0], f\"X shape {X.shape} and w shape {self.w.shape} are not compatible\"\n",
        "    print('predict: ',np.argmax(X@self.w, axis=-1), 'y_hat: ',(X@self.w).shape)\n",
        "    return np.argmax(X@self.w, axis=-1)\n",
        "  \n",
        "  def predict_internal(self, X:np.ndarray) -> np.ndarray:\n",
        "    ''' Prediction of output label for a given input\n",
        "        Arguments:\n",
        "          X:feature matrix\n",
        "        Returns:\n",
        "          y: label vector\n",
        "    '''\n",
        "    # check to make sure that shapes are compatible\n",
        "    assert X.shape[-1] == self.w.shape[0], f\"X shape {X.shape} and w shape {self.w.shape} are not compatible\"\n",
        "    return X@self.w\n",
        "######################################################\n",
        "####             same as LinReg Class              ###\n",
        "######################################################\n",
        "  def loss(self, X:np.ndarray, y:np.ndarray, reg_rate:float):\n",
        "    ''' Calculates loss for a model based on known labels.\n",
        "        Args:\n",
        "          X: feature matrix\n",
        "          y: label vector\n",
        "          reg_rate: regularization rate\n",
        "        Returns:\n",
        "          Loss \n",
        "    '''\n",
        "    e = y - self.predict_internal(X)\n",
        "    return (1/2) * np.transpose(e)@e\n",
        "    # return (1/2) * np.transpose(e)@e + (reg_rate/2)*np.transpose(self.w)@self.w\n",
        "  \n",
        "  def rmse(self, X:np.ndarray, y:np.ndarray):\n",
        "    ''' Calculates root mean squared error of prediction w.r.t actual label\n",
        "        Args:\n",
        "          X: feature matrix\n",
        "          y: label vector\n",
        "        Returns:\n",
        "          Loss\n",
        "    '''\n",
        "    return np.sqrt((2/X.shape[0])* self.loss(X,y,0))\n",
        "  \n",
        "  def fit(self, X:np.ndarray, y:np.ndarray, reg_rate:float):\n",
        "    ''' Estimate parameters of linear regression model w.r.t known labels.\n",
        "        Args:\n",
        "          X: feature matrix\n",
        "          y: label vector\n",
        "          reg_rate: rate of regression\n",
        "        Returns:\n",
        "          weight vector\n",
        "    '''\n",
        "    self.w = np.zeros(X.shape[1])\n",
        "    eye = np.eye(np.size(X,1))\n",
        "    self.w = np.linalg.solve(reg_rate*eye + X.T@X, X.T@y)\n",
        "    return self.w\n",
        "  \n",
        "  def calculate_gradient(self, X:np.ndarray, y:np.ndarray, reg_rate:float):\n",
        "    ''' Calculates the gradient of loss function w.r.t weight vector\n",
        "        Args:\n",
        "          X: feature matrix\n",
        "          y: label vector\n",
        "          reg_rate: rate of regression\n",
        "        Returns:\n",
        "          gradient vector\n",
        "    ''' \n",
        "    y_hat = self.predict_internal(X)\n",
        "    print('Calculate_gradient:',y_hat.shape, y.shape)\n",
        "    grad = np.transpose(X) @ (y_hat - y) + reg_rate * self.w\n",
        "    #grad = np.transpose(X) @ (self.predict_internal(X) - y) + reg_rate * self.w\n",
        "    return grad\n",
        "  \n",
        "  def update_weights(self, grad:np.ndarray, lr:float):\n",
        "    ''' updates the weights based on the gradient of loss function\n",
        "        w_new = w_old - lr * grad\n",
        "       Args:\n",
        "          grad: gradient of loss w.r.t w\n",
        "          lr: learning rate\n",
        "        Returns:\n",
        "        updated weight vector\n",
        "    '''\n",
        "    w_new = self.w - lr * grad\n",
        "    return w_new\n",
        "\n",
        "  def learning_schedule(self, t):\n",
        "    return (self.t0/(t + self.t1))\n",
        "\n",
        "  def gd(self, X:np.ndarray, y:np.ndarray, num_epochs:int, lr:float,reg_rate:float):\n",
        "    ''' Estimates parameter of linear regression model using gradient descent\n",
        "      Args:\n",
        "        X: feature matrix\n",
        "        y: label vector\n",
        "        num_epochs: number of iterations\n",
        "        lr: learning rate\n",
        "        reg_rate: rate of regression\n",
        "      Returns:\n",
        "        weight vector: final weight vector\n",
        "    '''\n",
        "    self.w = np.zeros(X.shape[1])\n",
        "    self.w_all = []\n",
        "    self.err_all = []\n",
        "    for i in np.arange(0, num_epochs):\n",
        "      self.w_all.append(self.w)\n",
        "      self.err_all.append(self.loss(X,y,0))\n",
        "    \n",
        "      grad = self.calculate_gradient(X,y,reg_rate)\n",
        "      self.w = self.update_weights(grad,lr)\n",
        "    return self.w\n",
        "\n",
        "  def mbgd(self, X:np.ndarray, y:np.ndarray, num_epochs:int, batch_size:int, reg_rate:float):\n",
        "    ''' Estimates parameter of linear regression model using MBGD\n",
        "     Args:\n",
        "        X: feature matrix\n",
        "        y: label vector\n",
        "        num_epochs: number of iterations\n",
        "        batch_size: number of examples in a batch\n",
        "        reg_rate: rate of regression\n",
        "      Returns:\n",
        "        weight vector: final weight vector\n",
        "    '''\n",
        "    self.w = np.zeros(X.shape[1])\n",
        "    self.w_all = []\n",
        "    self.err_all = []\n",
        "    mini_batch_id = 0\n",
        "\n",
        "    for epoch in range(num_epochs):\n",
        "      shuffled_indices = np.random.permutation(X.shape[0])\n",
        "      X_shuffled = X[shuffled_indices]\n",
        "      y_shuffled = y[shuffled_indices]\n",
        "      for i in range(0, X.shape[0],batch_size):\n",
        "        mini_batch_id += 1\n",
        "        xi = X_shuffled[i:i+batch_size]\n",
        "        yi = y_shuffled[i:i+batch_size]\n",
        "        self.w_all.append(self.w)\n",
        "        self.err_all.append(self.loss(xi,yi,0))\n",
        "\n",
        "        grad = (2/batch_size) * self.calculate_gradient(X,y,reg_rate)\n",
        "        lr = self.learning_schedule(mini_batch_id)\n",
        "        self.w = self.update_weights(grad,lr)\n",
        "    return self.w\n",
        "\n",
        "  def sgd(self, X:np.ndarray, y:np.ndarray, num_epochs:int, reg_rate:float):\n",
        "    ''' Estimates parameter of linear regression model using Stochastic GD\n",
        "      Args:\n",
        "        X: feature matrix\n",
        "        y: label vector\n",
        "        num_epochs: number of iterations\n",
        "        reg_rate: rate of regression\n",
        "      Returns:\n",
        "        weight vector: final weight vector\n",
        "    '''\n",
        "    self.w = np.zeros(X.shape[1])\n",
        "    self.w_all = []\n",
        "    self.err_all = []\n",
        "\n",
        "    for epoch in range(num_epochs):\n",
        "      for i in range(0, X.shape[0]):\n",
        "        random_index = np.random.randint(X.shape[0])\n",
        "        xi = X[random_index:random_index+1]\n",
        "        yi = y[random_index:random_index+1]\n",
        "\n",
        "        self.w_all.append(self.w)\n",
        "        self.err_all.append(self.loss(xi,yi,0))\n",
        "\n",
        "        grad = 2 * self.calculate_gradient(X,y,reg_rate)\n",
        "        lr = self.learning_schedule(epoch *X.shape[0] + i)\n",
        "        self.w = self.update_weights(grad,lr)\n",
        "    return self.w"
      ],
      "metadata": {
        "id": "OlhR2u_wF__0"
      },
      "execution_count": null,
      "outputs": []
    },
    {
      "cell_type": "markdown",
      "source": [
        "# Least Square Classification Setup:\n",
        "1. Linearly separable binary classification setup.\n",
        "2. Linearly separable binary classification setup with a few outlier points.\n",
        "3. Multi-class classification with k=3.\n",
        "4. Polynomial least squares classification.\n",
        "\n",
        "Create a sample datasetfor binary classification with no of samples n=50.\n",
        "* It also has the facility to add outlier to generated dataset.\n",
        "* It can generate samples from multiple classes (>2).\n"
      ],
      "metadata": {
        "id": "AkdiKJA30SK9"
      }
    },
    {
      "cell_type": "code",
      "source": [
        "from numpy.core.multiarray import concatenate\n",
        "#@title [create toy dataset]\n",
        "def create_toy_data(add_outliers=False,add_class=False):\n",
        "  x0 = np.random.normal(size=50).reshape(-1,2) - 1\n",
        "  x1 = np.random.normal(size=50).reshape(-1,2) + 1\n",
        "  if add_outliers:\n",
        "    x_1 = np.random.normal(size=10).reshape(-1,2) + np.array([5., 10.])\n",
        "    return np.concatenate([x0,x1,x_1]), np.concatenate([np.zeros(25),np.ones(30),]).astype(int)\n",
        "  if add_class:\n",
        "    x2 = np.random.normal(size=50).reshape(-1,2) + 2\n",
        "    return np.concatenate([x0, x1, x2]), np.concatenate([np.zeros(25), np.ones(25), 2+np.zeros(25)]).astype(int)\n",
        "  return np.concatenate([x0, x1]), np.concatenate([np.zeros(25), np.ones(25)]).astype(int)"
      ],
      "metadata": {
        "id": "dIwNkATcFd8T"
      },
      "execution_count": null,
      "outputs": []
    },
    {
      "cell_type": "code",
      "source": [
        "sample1 = create_toy_data()\n",
        "sample2=create_toy_data(add_outliers=True)\n",
        "sample3=create_toy_data(add_class=True)\n",
        "sample4 = create_toy_data(add_outliers=True, add_class=True)\n",
        "print(sample1[0][:5])\n",
        "print(sample2[0][:5])\n",
        "print(sample3[0][:5])\n",
        "print(sample4[0][:5])"
      ],
      "metadata": {
        "colab": {
          "base_uri": "https://localhost:8080/"
        },
        "id": "49WToFgdH89f",
        "outputId": "6cf96493-ae47-4d0d-ad1d-16edad155b0b"
      },
      "execution_count": null,
      "outputs": [
        {
          "output_type": "stream",
          "name": "stdout",
          "text": [
            "[[ 0.50726948 -1.25582697]\n",
            " [-0.48481253  0.53908622]\n",
            " [ 0.81045182 -0.25130705]\n",
            " [-0.96645568 -1.37668556]\n",
            " [-1.52664992 -1.19592317]]\n",
            "[[ 0.14157733 -1.75079347]\n",
            " [ 0.13373891 -0.05043549]\n",
            " [-0.37831757 -2.48928746]\n",
            " [-2.12493464 -3.09027953]\n",
            " [ 0.00321596  0.6084744 ]]\n",
            "[[-2.15630609  0.38934832]\n",
            " [-2.57137657 -1.41288205]\n",
            " [-0.42742697 -1.53641783]\n",
            " [-1.46044661 -2.72407562]\n",
            " [-1.25664772 -2.00107278]]\n",
            "[[ 0.06664937 -1.31735615]\n",
            " [-0.7507121  -1.80746791]\n",
            " [-1.14960477 -0.37457466]\n",
            " [-0.04159817 -1.42790168]\n",
            " [-0.12855715 -1.18466524]]\n"
          ]
        }
      ]
    },
    {
      "cell_type": "markdown",
      "source": [
        "##Preprocessing Steps:\n",
        "1. Generate synthetic data by calling create_toy_data function\n",
        "2. Perform polynomial transformation(default degree=1) on feature set.\n",
        "3. Divide the data set into Train and evaluation sets with train_test_split api from sklearn library\n",
        "4. Perform Label transformation for both train and test sets."
      ],
      "metadata": {
        "id": "jNqr3joWKi-L"
      }
    },
    {
      "cell_type": "code",
      "source": [
        "#@title [Data Preprocessing]\n",
        "\n",
        "from sklearn.model_selection import train_test_split\n",
        "\n",
        "def preprocess(add_class=False,add_outliers=False,degree=1):\n",
        "  x, y = create_toy_data(add_outliers,add_class)\n",
        "  x_poly = polynomial_transform(x, degree=degree)\n",
        "  x_train, x_test, y_train, y_test = train_test_split(x_poly, y)\n",
        "  y_train_trans = LabelTransformer().encode(y_train)\n",
        "  y_test_trans = LabelTransformer().encode(y_test)\n",
        "  return x_train, x_test, y_train, y_test, y_train_trans, y_test_trans  "
      ],
      "metadata": {
        "id": "9ZCVqy2DFCYT"
      },
      "execution_count": null,
      "outputs": []
    },
    {
      "cell_type": "code",
      "source": [
        "#@title [model visualization]\n",
        "sns.set_context(\"notebook\", font_scale=1.5, rc={\"lines.linewidth\": 2.5})\n",
        "\n",
        "def visualize_model(x_train, labels, lsc_obj, degree=1):\n",
        "  f = plt.figure(figsize=(8,8))\n",
        "  \n",
        "  #compute xlim and ylim\n",
        "  x1_min = np.min(x_train[:,1])\n",
        "  x1_max = np.max(x_train[:,1])\n",
        "  x2_min = np.min(x_train[:,2])\n",
        "  x2_max = np.max(x_train[:,2])\n",
        "  x1_test, x2_test = np.meshgrid(np.linspace(x1_min, x1_max, 100), np.linspace(x2_min, x2_max, 100))\n",
        "  x_test = np.array([x1_test, x2_test]).reshape(2,-1).T\n",
        "  x_test_poly = polynomial_transform(x_test, degree=degree)\n",
        "  y_test = lsc_obj.predict(x_test_poly)\n",
        "\n",
        "  print(y_test.shape)\n",
        "\n",
        "  sns.scatterplot(data=x_train, x=x_train[:,1], y=x_train[:,2], hue=labels)\n",
        "  plt.contourf(x1_test, x2_test, y_test.reshape(100,100),alpha=0.5, levels=np.linspace(0,1,3))\n",
        "  plt.xlabel('x1')\n",
        "  plt.ylabel('x2')\n",
        "  plt.xlim(x1_min, x1_max)\n",
        "  plt.ylim(x2_min, x2_max)\n",
        "  plt.gca().set_aspect('equal',adjustable='box')\n",
        "  plt.show()"
      ],
      "metadata": {
        "id": "wTzP16EinGMb"
      },
      "execution_count": null,
      "outputs": []
    },
    {
      "cell_type": "markdown",
      "source": [
        "#Linearly Separable binary classification"
      ],
      "metadata": {
        "id": "Op0SYEJFqcDG"
      }
    },
    {
      "cell_type": "code",
      "source": [
        "x1_train, x1_test, y1_train, y1_test, y1_train_trans, y1_test_trans = preprocess()\n",
        "print('shape of training feature matrix', x1_train.shape)\n",
        "print('shape of training label vector', y1_train.shape)\n",
        "\n",
        "print('shape of test feature matrix', x1_test.shape)\n",
        "print('shape of test label vector', y1_test.shape)\n",
        "print(y1_test)"
      ],
      "metadata": {
        "colab": {
          "base_uri": "https://localhost:8080/"
        },
        "id": "mClPcXHZqYAa",
        "outputId": "eee1a400-adbe-4a48-f05a-ee34a2aa54d3"
      },
      "execution_count": null,
      "outputs": [
        {
          "output_type": "stream",
          "name": "stdout",
          "text": [
            "shape of training feature matrix (37, 3)\n",
            "shape of training label vector (37,)\n",
            "shape of test feature matrix (13, 3)\n",
            "shape of test label vector (13,)\n",
            "[1 0 0 1 1 1 0 0 1 0 1 1 0]\n"
          ]
        }
      ]
    },
    {
      "cell_type": "markdown",
      "source": [
        "**Visualize the dataset:**"
      ],
      "metadata": {
        "id": "mKFs3cuZrvJD"
      }
    },
    {
      "cell_type": "code",
      "source": [
        "sns.set_style(\"white\")\n",
        "f = plt.figure(figsize=(8,8))\n",
        "sns.set_context(\"notebook\",font_scale=1.5, rc={\"lines.linewidth\":2.5})\n",
        "sns.scatterplot(data=x1_train, x=x1_train[:,-2], y= x1_train[:,-1],hue=y1_train)\n",
        "plt.xlabel('x1')\n",
        "plt.ylabel('x2')\n",
        "plt.show()"
      ],
      "metadata": {
        "colab": {
          "base_uri": "https://localhost:8080/",
          "height": 515
        },
        "id": "QBNPZBQfry9e",
        "outputId": "0e823c94-0116-461c-bf82-86a4571a0832"
      },
      "execution_count": null,
      "outputs": [
        {
          "output_type": "display_data",
          "data": {
            "text/plain": [
              "<Figure size 576x576 with 1 Axes>"
            ],
            "image/png": "[encoded data removed]"
          },
          "metadata": {}
        }
      ]
    },
    {
      "cell_type": "code",
      "source": [
        "lsc = LeastSquareClassification()"
      ],
      "metadata": {
        "id": "uM1L3eijsvX0"
      },
      "execution_count": null,
      "outputs": []
    },
    {
      "cell_type": "markdown",
      "source": [
        "Normal Equation:"
      ],
      "metadata": {
        "id": "dfEzLbPBs1WJ"
      }
    },
    {
      "cell_type": "code",
      "source": [
        "lsc.fit(x1_train, y1_train_trans, reg_rate=0)\n",
        "print('weight vector:', lsc.w)\n",
        "#print(x1_train)\n",
        "#print(y1_train)\n",
        "visualize_model(x1_train,y1_train, lsc)"
      ],
      "metadata": {
        "colab": {
          "base_uri": "https://localhost:8080/",
          "height": 471
        },
        "id": "vfYTbe3Rs3up",
        "outputId": "649d2bab-8fad-403e-cbbd-1069e20fb19a"
      },
      "execution_count": null,
      "outputs": [
        {
          "output_type": "stream",
          "name": "stdout",
          "text": [
            "weight vector: [[ 0.5324894   0.4675106 ]\n",
            " [-0.17485051  0.17485051]\n",
            " [-0.18151776  0.18151776]]\n",
            "predict:  [0 0 0 ... 1 1 1] y_hat:  (10000, 2)\n",
            "(10000,)\n"
          ]
        },
        {
          "output_type": "display_data",
          "data": {
            "text/plain": [
              "<Figure size 576x576 with 1 Axes>"
            ],
            "image/png": "[encoded data removed]"
          },
          "metadata": {}
        }
      ]
    },
    {
      "cell_type": "markdown",
      "source": [
        "**Plot Learning Curve**"
      ],
      "metadata": {
        "id": "_UFUvD8ZzRx6"
      }
    },
    {
      "cell_type": "code",
      "source": [
        "def plot_learning_curve(err_all):\n",
        "  err = [err[1][1] for err in err_all]\n",
        "  plt.plot(np.arange(len(err_all)),err,'r-')\n",
        "  plt.xlabel('Iter #')\n",
        "  plt.ylabel('J(w)')"
      ],
      "metadata": {
        "id": "limzl67PzVLZ"
      },
      "execution_count": null,
      "outputs": []
    },
    {
      "cell_type": "code",
      "source": [
        "lsc.sgd(x1_train, y1_train_trans,num_epochs=100,reg_rate=0)\n",
        "plot_learning_curve(lsc.err_all)"
      ],
      "metadata": {
        "colab": {
          "base_uri": "https://localhost:8080/",
          "height": 397
        },
        "id": "cs5gfqZ90ooV",
        "outputId": "4ee6ad86-ce79-4e9b-fe23-b838dab0dd27"
      },
      "execution_count": null,
      "outputs": [
        {
          "output_type": "stream",
          "name": "stdout",
          "text": [
            "predict:  0 y_hat:  (1,)\n",
            "predict:  0 y_hat:  (37,)\n",
            "Calculate_gradient: () (37, 2)\n",
            "predict:  0 y_hat:  (37,)\n"
          ]
        },
        {
          "output_type": "error",
          "ename": "ValueError",
          "evalue": "ignored",
          "traceback": [
            "\u001b[0;31m---------------------------------------------------------------------------\u001b[0m",
            "\u001b[0;31mValueError\u001b[0m                                Traceback (most recent call last)",
            "\u001b[0;32m<ipython-input-100-ed3e8b3f9927>\u001b[0m in \u001b[0;36m<module>\u001b[0;34m()\u001b[0m\n\u001b[0;32m----> 1\u001b[0;31m \u001b[0mlsc\u001b[0m\u001b[0;34m.\u001b[0m\u001b[0msgd\u001b[0m\u001b[0;34m(\u001b[0m\u001b[0mx1_train\u001b[0m\u001b[0;34m,\u001b[0m \u001b[0my1_train_trans\u001b[0m\u001b[0;34m,\u001b[0m\u001b[0mnum_epochs\u001b[0m\u001b[0;34m=\u001b[0m\u001b[0;36m100\u001b[0m\u001b[0;34m,\u001b[0m\u001b[0mreg_rate\u001b[0m\u001b[0;34m=\u001b[0m\u001b[0;36m0\u001b[0m\u001b[0;34m)\u001b[0m\u001b[0;34m\u001b[0m\u001b[0;34m\u001b[0m\u001b[0m\n\u001b[0m\u001b[1;32m      2\u001b[0m \u001b[0mplot_learning_curve\u001b[0m\u001b[0;34m(\u001b[0m\u001b[0mlsc\u001b[0m\u001b[0;34m.\u001b[0m\u001b[0merr_all\u001b[0m\u001b[0;34m)\u001b[0m\u001b[0;34m\u001b[0m\u001b[0;34m\u001b[0m\u001b[0m\n",
            "\u001b[0;32m<ipython-input-96-25e776962826>\u001b[0m in \u001b[0;36msgd\u001b[0;34m(self, X, y, num_epochs, reg_rate)\u001b[0m\n\u001b[1;32m    179\u001b[0m         \u001b[0mself\u001b[0m\u001b[0;34m.\u001b[0m\u001b[0merr_all\u001b[0m\u001b[0;34m.\u001b[0m\u001b[0mappend\u001b[0m\u001b[0;34m(\u001b[0m\u001b[0mself\u001b[0m\u001b[0;34m.\u001b[0m\u001b[0mloss\u001b[0m\u001b[0;34m(\u001b[0m\u001b[0mxi\u001b[0m\u001b[0;34m,\u001b[0m\u001b[0myi\u001b[0m\u001b[0;34m,\u001b[0m\u001b[0;36m0\u001b[0m\u001b[0;34m)\u001b[0m\u001b[0;34m)\u001b[0m\u001b[0;34m\u001b[0m\u001b[0;34m\u001b[0m\u001b[0m\n\u001b[1;32m    180\u001b[0m \u001b[0;34m\u001b[0m\u001b[0m\n\u001b[0;32m--> 181\u001b[0;31m         \u001b[0mgrad\u001b[0m \u001b[0;34m=\u001b[0m \u001b[0;36m2\u001b[0m \u001b[0;34m*\u001b[0m \u001b[0mself\u001b[0m\u001b[0;34m.\u001b[0m\u001b[0mcalculate_gradient\u001b[0m\u001b[0;34m(\u001b[0m\u001b[0mX\u001b[0m\u001b[0;34m,\u001b[0m\u001b[0my\u001b[0m\u001b[0;34m,\u001b[0m\u001b[0mreg_rate\u001b[0m\u001b[0;34m)\u001b[0m\u001b[0;34m\u001b[0m\u001b[0;34m\u001b[0m\u001b[0m\n\u001b[0m\u001b[1;32m    182\u001b[0m         \u001b[0mlr\u001b[0m \u001b[0;34m=\u001b[0m \u001b[0mself\u001b[0m\u001b[0;34m.\u001b[0m\u001b[0mlearning_schedule\u001b[0m\u001b[0;34m(\u001b[0m\u001b[0mepoch\u001b[0m \u001b[0;34m*\u001b[0m\u001b[0mX\u001b[0m\u001b[0;34m.\u001b[0m\u001b[0mshape\u001b[0m\u001b[0;34m[\u001b[0m\u001b[0;36m0\u001b[0m\u001b[0;34m]\u001b[0m \u001b[0;34m+\u001b[0m \u001b[0mi\u001b[0m\u001b[0;34m)\u001b[0m\u001b[0;34m\u001b[0m\u001b[0;34m\u001b[0m\u001b[0m\n\u001b[1;32m    183\u001b[0m         \u001b[0mself\u001b[0m\u001b[0;34m.\u001b[0m\u001b[0mw\u001b[0m \u001b[0;34m=\u001b[0m \u001b[0mself\u001b[0m\u001b[0;34m.\u001b[0m\u001b[0mupdate_weights\u001b[0m\u001b[0;34m(\u001b[0m\u001b[0mgrad\u001b[0m\u001b[0;34m,\u001b[0m\u001b[0mlr\u001b[0m\u001b[0;34m)\u001b[0m\u001b[0;34m\u001b[0m\u001b[0;34m\u001b[0m\u001b[0m\n",
            "\u001b[0;32m<ipython-input-96-25e776962826>\u001b[0m in \u001b[0;36mcalculate_gradient\u001b[0;34m(self, X, y, reg_rate)\u001b[0m\n\u001b[1;32m     83\u001b[0m     \u001b[0my_hat\u001b[0m \u001b[0;34m=\u001b[0m \u001b[0mself\u001b[0m\u001b[0;34m.\u001b[0m\u001b[0mpredict\u001b[0m\u001b[0;34m(\u001b[0m\u001b[0mX\u001b[0m\u001b[0;34m)\u001b[0m\u001b[0;34m\u001b[0m\u001b[0;34m\u001b[0m\u001b[0m\n\u001b[1;32m     84\u001b[0m     \u001b[0mprint\u001b[0m\u001b[0;34m(\u001b[0m\u001b[0;34m'Calculate_gradient:'\u001b[0m\u001b[0;34m,\u001b[0m\u001b[0my_hat\u001b[0m\u001b[0;34m.\u001b[0m\u001b[0mshape\u001b[0m\u001b[0;34m,\u001b[0m \u001b[0my\u001b[0m\u001b[0;34m.\u001b[0m\u001b[0mshape\u001b[0m\u001b[0;34m)\u001b[0m\u001b[0;34m\u001b[0m\u001b[0;34m\u001b[0m\u001b[0m\n\u001b[0;32m---> 85\u001b[0;31m     \u001b[0mgrad\u001b[0m \u001b[0;34m=\u001b[0m \u001b[0mnp\u001b[0m\u001b[0;34m.\u001b[0m\u001b[0mtranspose\u001b[0m\u001b[0;34m(\u001b[0m\u001b[0mX\u001b[0m\u001b[0;34m)\u001b[0m \u001b[0;34m@\u001b[0m \u001b[0;34m(\u001b[0m\u001b[0mself\u001b[0m\u001b[0;34m.\u001b[0m\u001b[0mpredict\u001b[0m\u001b[0;34m(\u001b[0m\u001b[0mX\u001b[0m\u001b[0;34m)\u001b[0m \u001b[0;34m-\u001b[0m \u001b[0my\u001b[0m\u001b[0;34m)\u001b[0m \u001b[0;34m+\u001b[0m \u001b[0mreg_rate\u001b[0m \u001b[0;34m*\u001b[0m \u001b[0mself\u001b[0m\u001b[0;34m.\u001b[0m\u001b[0mw\u001b[0m\u001b[0;34m\u001b[0m\u001b[0;34m\u001b[0m\u001b[0m\n\u001b[0m\u001b[1;32m     86\u001b[0m     \u001b[0;31m#grad = np.transpose(X) @ (self.predict_internal(X) - y) + reg_rate * self.w\u001b[0m\u001b[0;34m\u001b[0m\u001b[0;34m\u001b[0m\u001b[0;34m\u001b[0m\u001b[0m\n\u001b[1;32m     87\u001b[0m     \u001b[0;32mreturn\u001b[0m \u001b[0mgrad\u001b[0m\u001b[0;34m\u001b[0m\u001b[0;34m\u001b[0m\u001b[0m\n",
            "\u001b[0;31mValueError\u001b[0m: operands could not be broadcast together with shapes (3,2) (3,) "
          ]
        }
      ]
    }
  ]
}